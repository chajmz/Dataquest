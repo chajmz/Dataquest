{
  "nbformat": 4,
  "nbformat_minor": 0,
  "metadata": {
    "colab": {
      "name": "Orbit PEDS.ipynb",
      "provenance": [],
      "include_colab_link": true
    },
    "kernelspec": {
      "name": "python3",
      "display_name": "Python 3"
    }
  },
  "cells": [
    {
      "cell_type": "markdown",
      "metadata": {
        "id": "view-in-github",
        "colab_type": "text"
      },
      "source": [
        "<a href=\"https://colab.research.google.com/github/chajmz/Dataquest/blob/master/Orbit_PEDS.ipynb\" target=\"_parent\"><img src=\"https://colab.research.google.com/assets/colab-badge.svg\" alt=\"Open In Colab\"/></a>"
      ]
    },
    {
      "cell_type": "code",
      "metadata": {
        "id": "LS6gJ9dnDcZI",
        "colab_type": "code",
        "colab": {}
      },
      "source": [
        "import pandas as pd\n",
        "import matplotlib.pyplot as plt\n",
        "import seaborn as sns\n",
        "import numpy as np\n",
        "import json\n",
        "from pandas.io.json import json_normalize    \n",
        "from datetime import datetime\n",
        "from datetime import date\n",
        "from google.colab import drive"
      ],
      "execution_count": 0,
      "outputs": []
    },
    {
      "cell_type": "code",
      "metadata": {
        "id": "YloIjwYeTHUi",
        "colab_type": "code",
        "colab": {
          "base_uri": "https://localhost:8080/",
          "height": 34
        },
        "outputId": "4c5308b4-aea7-4de6-b917-73a002458a3a"
      },
      "source": [
        "from google.colab import drive\n",
        "drive.mount('/gdrive',force_remount=True)\n",
        "#%cd /gdrive"
      ],
      "execution_count": 266,
      "outputs": [
        {
          "output_type": "stream",
          "text": [
            "Mounted at /gdrive\n"
          ],
          "name": "stdout"
        }
      ]
    },
    {
      "cell_type": "code",
      "metadata": {
        "id": "2W4pWHXFBnYj",
        "colab_type": "code",
        "colab": {}
      },
      "source": [
        "with open(\"/gdrive/My Drive/orbit_big.csv\",encoding='utf-16') as data_file:    \n",
        "    df = pd.read_csv(data_file)  "
      ],
      "execution_count": 0,
      "outputs": []
    },
    {
      "cell_type": "code",
      "metadata": {
        "id": "CTqe4LQLDhix",
        "colab_type": "code",
        "colab": {}
      },
      "source": [
        "pattern_examiner = r'[|]{2}([Pp][rimary]\\w*\\s\\w*)[\\:]([\\s\\w-]*)[|]+'\n",
        "pattern_art_unit = r'[|]+([Aa]\\w*\\s[Uu]\\w*[.: ]*\\w{3}[=]+)([0-9]+)[|]+'\n",
        "pattern_extension = r'\\s([Ee]+\\w{3}[=]+)([0-9]+)[|]+'\n",
        "pattern_clms = r'\\s([NnCcLl]{3}[=]+)([0-9]+)[|]+'\n",
        "pattern_draw = r'\\s([NnDdRr]{3}[=]+)([0-9]+)[|]+'\n",
        "pattern_title = r'[(](\\w{2}[D]?[0-9]+)[)][|]([\\w, ().:=?-]+)'\n",
        "\n",
        "assignees_list = ['THALES','BOEING','AIRBUS','HONEYWELL','SAFRAN','COLLINS','BAE SYSTEMS','GARMIN','PANASONIC','ROSEMOUNT','ELBIT','GE AVIATION'] "
      ],
      "execution_count": 0,
      "outputs": []
    },
    {
      "cell_type": "code",
      "metadata": {
        "id": "ranEuhGjDXyN",
        "colab_type": "code",
        "colab": {}
      },
      "source": [
        "def applyPattern(df_csv):\n",
        "  df_csv['art_unit'] = df_csv['NO'].str.extract(pattern_art_unit)[1]\n",
        "  df_csv['extension_days'] = df_csv['NO'].str.extract(pattern_extension)[1]\n",
        "  df_csv['examiner'] = df_csv['NO'].str.extract(pattern_examiner)[1]\n",
        "  df_csv['draw_nb'] = df_csv['NO'].str.extract(pattern_draw)[1]\n",
        "  df_csv['clms_nb'] = df_csv['NO'].str.extract(pattern_clms)[1]\n",
        "  df_csv['clean_title'] = df_csv['TI'].str.extract(pattern_title)[1]\n",
        "  df_csv['clean_num'] = df_csv['TI'].str.extract(pattern_title)[0]\n",
        "  return df_csv"
      ],
      "execution_count": 0,
      "outputs": []
    },
    {
      "cell_type": "code",
      "metadata": {
        "id": "_TwJ9r__khsH",
        "colab_type": "code",
        "colab": {}
      },
      "source": [
        "#df_csv['examiner'].unique()\n",
        "#r = ['(' + e[1:] + ')' + ' ou ' for e in exam['examiner']]\n",
        "#lisT_exam_orbit = \"\".join(r)"
      ],
      "execution_count": 0,
      "outputs": []
    },
    {
      "cell_type": "code",
      "metadata": {
        "id": "7NFE_SvH1RAa",
        "colab_type": "code",
        "outputId": "d095c886-2d21-4dbe-8d55-49d1f99f2751",
        "colab": {
          "base_uri": "https://localhost:8080/",
          "height": 411
        }
      },
      "source": [
        "df.sample(5,random_state=0)"
      ],
      "execution_count": 271,
      "outputs": [
        {
          "output_type": "execute_result",
          "data": {
            "text/html": [
              "<div>\n",
              "<style scoped>\n",
              "    .dataframe tbody tr th:only-of-type {\n",
              "        vertical-align: middle;\n",
              "    }\n",
              "\n",
              "    .dataframe tbody tr th {\n",
              "        vertical-align: top;\n",
              "    }\n",
              "\n",
              "    .dataframe thead th {\n",
              "        text-align: right;\n",
              "    }\n",
              "</style>\n",
              "<table border=\"1\" class=\"dataframe\">\n",
              "  <thead>\n",
              "    <tr style=\"text-align: right;\">\n",
              "      <th></th>\n",
              "      <th>PR.§1</th>\n",
              "      <th>AP.§1</th>\n",
              "      <th>PN.PN</th>\n",
              "      <th>FAN</th>\n",
              "      <th>FAMILY_PN</th>\n",
              "      <th>EPRD</th>\n",
              "      <th>EAPD</th>\n",
              "      <th>EPD</th>\n",
              "      <th>EPDG</th>\n",
              "      <th>ACT.EED</th>\n",
              "      <th>TI</th>\n",
              "      <th>AB</th>\n",
              "      <th>PA</th>\n",
              "      <th>IN</th>\n",
              "      <th>RP</th>\n",
              "      <th>ADB</th>\n",
              "      <th>ICLM</th>\n",
              "      <th>OBJ</th>\n",
              "      <th>KEYW</th>\n",
              "      <th>KWIC</th>\n",
              "      <th>PCL</th>\n",
              "      <th>ACT.STATUS</th>\n",
              "      <th>ACT</th>\n",
              "      <th>DS</th>\n",
              "      <th>EPRC</th>\n",
              "      <th>NO</th>\n",
              "      <th>FD</th>\n",
              "    </tr>\n",
              "  </thead>\n",
              "  <tbody>\n",
              "    <tr>\n",
              "      <th>10792</th>\n",
              "      <td>2009US-12509471|2012US-13467160</td>\n",
              "      <td>US12/509,471|US13/467,160|WOUS2010/040088</td>\n",
              "      <td>US8753458|US8695669|US20120216957|WO2011/01692...</td>\n",
              "      <td>44305429</td>\n",
              "      <td>WO2011/016922       A1 2011-02-10 [WO201116922...</td>\n",
              "      <td>2009-07-26</td>\n",
              "      <td>2009-07-26</td>\n",
              "      <td>2011-01-27</td>\n",
              "      <td>2014-04-15</td>\n",
              "      <td>(WO201116922A1)|2013-01-26|(US8695669B2)|2029-...</td>\n",
              "      <td>(WO201116922)|Mapping tow splices in composite...</td>\n",
              "      <td>(WO2011/016922)|The three dimensional (3-D) lo...</td>\n",
              "      <td>BOEING</td>\n",
              "      <td>ENGELBART ROGER W|HANNEBAUM REED|RECTOR ERIC</td>\n",
              "      <td>(WO201116922)|PLANK, Dennis R. et al. ([US])|(...</td>\n",
              "      <td>(WO2011/016922)|Accordingly, there is a need f...</td>\n",
              "      <td>(WO2011/016922)|1. A method of mapping the loc...</td>\n",
              "      <td>(WO2011/016922)|For the purposes of this descr...</td>\n",
              "      <td>(US8753458)|TOW(100,48)|SPLICE LOCATION(100,30...</td>\n",
              "      <td>ECLM|(US8695669)|19. An apparatus configured t...</td>\n",
              "      <td>PCLO=156351000|PCLO=156064000|PCLX=156361000|P...</td>\n",
              "      <td>(WO201116922A1)|LAPSED|(US8695669B2)|GRANTED|(...</td>\n",
              "      <td>(WO201116922)|LEGAL DETAILS FOR WO2011/016922|...</td>\n",
              "      <td>(WO201116922)|National States:  AE AG AL AM AO...</td>\n",
              "      <td>US</td>\n",
              "      <td>(WO201116922)|Extended kind: xc||(US2012021695...</td>\n",
              "      <td>(US8695669)|Division of: US12/509,471 FDD=2009...</td>\n",
              "    </tr>\n",
              "    <tr>\n",
              "      <th>13612</th>\n",
              "      <td>2014EP-0194526</td>\n",
              "      <td>RU2015136394|US14/818,360|CN201510573992|JP201...</td>\n",
              "      <td>RU2695090|RU2015136394|US10001024|RU2015136394...</td>\n",
              "      <td>73094354</td>\n",
              "      <td>US10001024          B2 2018-06-19 [US10001024]...</td>\n",
              "      <td>2014-11-24</td>\n",
              "      <td>2014-11-24</td>\n",
              "      <td>2016-05-24</td>\n",
              "      <td>2018-06-19</td>\n",
              "      <td>(US10001024B2)|2036-05-26|(EP3023511A1)|2034-1...</td>\n",
              "      <td>(US10001024)|Abradable composition and seal of...</td>\n",
              "      <td>(US10001024)|The invention relates to a compos...</td>\n",
              "      <td>SAFRAN AERO BOOSTERS</td>\n",
              "      <td>SCHUSTER LAURENT</td>\n",
              "      <td>(US10001024)|Sandberg Phoenix &amp; von Gontard P....</td>\n",
              "      <td>(US10001024)|The rotation of the rotor about i...</td>\n",
              "      <td>(US10001024)|1. A turbomachine comprising: a r...</td>\n",
              "      <td>(US10001024)|The invention relates to a compos...</td>\n",
              "      <td>(US20160146034)|ROUNDED SUPPORT(100,25)|TURBOM...</td>\n",
              "      <td>EPD|2016-05-24||FAMILY_PN|(US10001024)|US10001...</td>\n",
              "      <td>PCLO=415173400|PCLX=106286500|PCLX=427447000|P...</td>\n",
              "      <td>(US10001024B2)|GRANTED|(EP3023511A1)|PENDING|(...</td>\n",
              "      <td>(US10001024)|LEGAL DETAILS FOR US20160146034|A...</td>\n",
              "      <td>(EP3023511)|Contracting States:  AL AT BE BG C...</td>\n",
              "      <td>EP</td>\n",
              "      <td>(US20160146034)|Number of Drawings: NDR=2||Num...</td>\n",
              "      <td>(US10001024)|Previous publication: US201601460...</td>\n",
              "    </tr>\n",
              "    <tr>\n",
              "      <th>397</th>\n",
              "      <td>2017US-15724033</td>\n",
              "      <td>EP18198516|US15/724,033</td>\n",
              "      <td>EP3468091|US20190103952</td>\n",
              "      <td>84025465</td>\n",
              "      <td>US20190103952       A1 2019-04-04 [US201901039...</td>\n",
              "      <td>2017-10-03</td>\n",
              "      <td>2017-10-03</td>\n",
              "      <td>2019-04-04</td>\n",
              "      <td>NaN</td>\n",
              "      <td>(US20190103952A1)|2037-10-03|(EP3468091A1)|201...</td>\n",
              "      <td>(US20190103952)|System and method for adaptive...</td>\n",
              "      <td>(US20190103952)|A method for aggregating usage...</td>\n",
              "      <td>HONEYWELL INTERNATIONAL|SATCOM1 FRANCE</td>\n",
              "      <td>GOUDAL FRANCOIS|KAUFFMANN ALBIN|NADER ADRIEN</td>\n",
              "      <td>(EP3468091)|Houghton, Mark Phillip ; Patent Ou...</td>\n",
              "      <td>(US20190103952)|Accordingly, it is desirable t...</td>\n",
              "      <td>(US20190103952)|1 . A method for aggregating u...</td>\n",
              "      <td>(US20190103952)|The present invention generall...</td>\n",
              "      <td>(EP3468091)|AIRCRAFT FLIGHT(100,23)|BROADBAND ...</td>\n",
              "      <td>AB|(US20190103952)|A method for aggregating us...</td>\n",
              "      <td>NaN</td>\n",
              "      <td>(US20190103952A1)|PENDING|(EP3468091A1)|LAPSED</td>\n",
              "      <td>(US20190103952)|LEGAL DETAILS FOR US2019010395...</td>\n",
              "      <td>(EP3468091)|Contracting States:  AL AT BE BG C...</td>\n",
              "      <td>US</td>\n",
              "      <td>(US20190103952)|Number of Drawings: NDR=7||Num...</td>\n",
              "      <td>NaN</td>\n",
              "    </tr>\n",
              "    <tr>\n",
              "      <th>2095</th>\n",
              "      <td>2011FR-0056900</td>\n",
              "      <td>EP12177427|CN201210262620|FR1156900|US13/552,104</td>\n",
              "      <td>EP2551191|CN102897328|FR2978423|US8818573|FR29...</td>\n",
              "      <td>8141440</td>\n",
              "      <td>US8818573           B2 2014-08-26 [US8818573]|...</td>\n",
              "      <td>2011-07-28</td>\n",
              "      <td>2011-07-28</td>\n",
              "      <td>2013-01-30</td>\n",
              "      <td>2014-08-26</td>\n",
              "      <td>(US8818573B2)|2033-02-20|(FR2978423B1)|2031-07...</td>\n",
              "      <td>(US8818573)|Method and device for detecting an...</td>\n",
              "      <td>(US8818573)|A detection device determines whet...</td>\n",
              "      <td>AIRBUS OPERATIONS|CNRS - CENTRE NATIONAL DE LA...</td>\n",
              "      <td>GOUPIL PHILIPPE|DAYRE RÉMY|LE BERRE HERVÉ|GHEO...</td>\n",
              "      <td>(US8818573)|Wood, Herron &amp; Evans, LLP|(FR29784...</td>\n",
              "      <td>(US8818573)|It is thus necessary to be in a po...</td>\n",
              "      <td>(US8818573)|1. A detection method for an uncon...</td>\n",
              "      <td>(US8818573)|The present invention thus relates...</td>\n",
              "      <td>(EP2551191)|FEEDBACK COMMAND(100,7)|AIRCRAFT C...</td>\n",
              "      <td>AB|(US8818573)|A detection device determines w...</td>\n",
              "      <td>PCLO=701003000|PCLX=701039000</td>\n",
              "      <td>(US8818573B2)|GRANTED|(FR2978423B1)|GRANTED|(E...</td>\n",
              "      <td>(US8818573)|LEGAL DETAILS FOR US20130026287|Ac...</td>\n",
              "      <td>(EP2551191)|Contracting States:  AL AT BE BG C...</td>\n",
              "      <td>FR</td>\n",
              "      <td>(US20130026287)|Number of Drawings: NDR=2||Num...</td>\n",
              "      <td>(US8818573)|Previous publication: US2013002628...</td>\n",
              "    </tr>\n",
              "    <tr>\n",
              "      <th>13566</th>\n",
              "      <td>2015US-14613504|2018US-16052297</td>\n",
              "      <td>US16/052,297|US14/613,504|JP2016017316|KR20150...</td>\n",
              "      <td>US20180354062|US10065264|JP2016199802|KR201600...</td>\n",
              "      <td>73788400</td>\n",
              "      <td>US10065264          B2 2018-09-04 [US10065264]...</td>\n",
              "      <td>2015-02-04</td>\n",
              "      <td>2015-02-04</td>\n",
              "      <td>2016-08-04</td>\n",
              "      <td>2018-09-04</td>\n",
              "      <td>(US10065264B2)|2035-03-31|(US20180354062A1)|20...</td>\n",
              "      <td>(US10065264)|Apparatus and method for manufact...</td>\n",
              "      <td>(US10065264)|An apparatus and method for manuf...</td>\n",
              "      <td>BOEING</td>\n",
              "      <td>DIETRICH DAVID M</td>\n",
              "      <td>(US10065264)|Walters &amp; Wasylyna LLC|(EP3053741...</td>\n",
              "      <td>(US10065264)|As one example, anticounterfeitin...</td>\n",
              "      <td>(US10065264)|1. A method for manufacturing a t...</td>\n",
              "      <td>(US10065264)|For the purposes of this descript...</td>\n",
              "      <td>(US20180354062)|THREEDIMENSIONAL ARTICLE(100,1...</td>\n",
              "      <td>EPD|2016-08-04||FAMILY_PN|(US10065264)|US10065...</td>\n",
              "      <td>NaN</td>\n",
              "      <td>(US10065264B2)|GRANTED|(US20180354062A1)|PENDI...</td>\n",
              "      <td>(US10065264)|LEGAL DETAILS FOR US20160221114|A...</td>\n",
              "      <td>(EP3053741)|Contracting States:  AL AT BE BG C...</td>\n",
              "      <td>US</td>\n",
              "      <td>(US20160221114)|Number of Drawings: NDR=8||Num...</td>\n",
              "      <td>(US10065264)|Previous publication: US201602211...</td>\n",
              "    </tr>\n",
              "  </tbody>\n",
              "</table>\n",
              "</div>"
            ],
            "text/plain": [
              "                                 PR.§1  ...                                                 FD\n",
              "10792  2009US-12509471|2012US-13467160  ...  (US8695669)|Division of: US12/509,471 FDD=2009...\n",
              "13612                   2014EP-0194526  ...  (US10001024)|Previous publication: US201601460...\n",
              "397                    2017US-15724033  ...                                                NaN\n",
              "2095                    2011FR-0056900  ...  (US8818573)|Previous publication: US2013002628...\n",
              "13566  2015US-14613504|2018US-16052297  ...  (US10065264)|Previous publication: US201602211...\n",
              "\n",
              "[5 rows x 27 columns]"
            ]
          },
          "metadata": {
            "tags": []
          },
          "execution_count": 271
        }
      ]
    },
    {
      "cell_type": "code",
      "metadata": {
        "id": "kkNX2A1M1eyC",
        "colab_type": "code",
        "outputId": "79772508-59ec-4dea-9216-0a62e8fc61d8",
        "colab": {
          "base_uri": "https://localhost:8080/",
          "height": 34
        }
      },
      "source": [
        "print(df['EPD'][1])\n",
        "#Date format %Y-%m-%d\n",
        "\n",
        "date_col = ['EPRD', 'EAPD', 'EPD','EPDG']\n",
        "for c in date_col:\n",
        "  df[c] = pd.to_datetime(df[c])\n",
        "df['days_grant'] = df['EPDG'] - df['EPRD']"
      ],
      "execution_count": 272,
      "outputs": [
        {
          "output_type": "stream",
          "text": [
            "2017-04-25\n"
          ],
          "name": "stdout"
        }
      ]
    },
    {
      "cell_type": "code",
      "metadata": {
        "id": "70wIR2zl2d-i",
        "colab_type": "code",
        "colab": {}
      },
      "source": [
        "df = applyPattern(df)\n",
        "#df_light = applyPattern(df).drop('FD',1)\n",
        "#df_light.to_csv(r'/gdrive/My Drive/orbit_light.csv')"
      ],
      "execution_count": 0,
      "outputs": []
    },
    {
      "cell_type": "code",
      "metadata": {
        "id": "dgJxWnw22pXC",
        "colab_type": "code",
        "outputId": "2de7b371-fc88-4127-f742-751e5b9e1a3a",
        "colab": {
          "base_uri": "https://localhost:8080/",
          "height": 51
        }
      },
      "source": [
        "df_light.sample(4,random_state=0)\n",
        "print(df.shape) \n",
        "print(df_light.shape)"
      ],
      "execution_count": 274,
      "outputs": [
        {
          "output_type": "stream",
          "text": [
            "(15018, 35)\n",
            "(15018, 37)\n"
          ],
          "name": "stdout"
        }
      ]
    },
    {
      "cell_type": "code",
      "metadata": {
        "id": "VXAW3A1g2s8A",
        "colab_type": "code",
        "colab": {}
      },
      "source": [
        "def getArtUnit(df_csv):\n",
        "    #Let's extract first 2 num of group art unit\n",
        "  df_csv['prefix_art'] = df_csv['art_unit'].str[:2]\n",
        "  df_csv['suffix_art'] = df_csv['art_unit'].str[2:]\n",
        "  return df_csv"
      ],
      "execution_count": 0,
      "outputs": []
    },
    {
      "cell_type": "code",
      "metadata": {
        "id": "hnqRlkMp5RsY",
        "colab_type": "code",
        "outputId": "73cd112f-e313-4ffa-a6be-e2065a5d4401",
        "colab": {
          "base_uri": "https://localhost:8080/",
          "height": 34
        }
      },
      "source": [
        "df = getArtUnit(df)\n",
        "df.shape"
      ],
      "execution_count": 276,
      "outputs": [
        {
          "output_type": "execute_result",
          "data": {
            "text/plain": [
              "(15018, 37)"
            ]
          },
          "metadata": {
            "tags": []
          },
          "execution_count": 276
        }
      ]
    },
    {
      "cell_type": "code",
      "metadata": {
        "id": "G262ODgn5VSn",
        "colab_type": "code",
        "colab": {}
      },
      "source": [
        "def getTopPrefixForAssignee(assignee,n,df):\n",
        "  df_a = df[df['PA'].str.contains(assignee)]\n",
        "  top_prefix = df_a['prefix_art'].value_counts()\n",
        "  return (top_prefix[top_prefix>n],assignee)\n",
        "\n",
        "def normalizeAssignee(df):\n",
        "  list_df = []\n",
        "  df['norm_assignee'] = 'OTHER'\n",
        "  for a in assignees_list:\n",
        "    sub_df = df[df['PA'].str.contains(a)]\n",
        "    sub_df['norm_assignee'] = a\n",
        "    list_df.append(sub_df)\n",
        "  list_df.append(df[df['PA'] == 'OTHER'])\n",
        "  return pd.concat(list_df,axis=0)\n"
      ],
      "execution_count": 0,
      "outputs": []
    },
    {
      "cell_type": "code",
      "metadata": {
        "id": "7S9HIwEf-MLB",
        "colab_type": "code",
        "outputId": "14305b2f-042b-443a-d39d-2f56684453cf",
        "colab": {
          "base_uri": "https://localhost:8080/",
          "height": 119
        }
      },
      "source": [
        "df = normalizeAssignee(df)\n",
        "df['granted_bool'] = df['days_grant'].notnull()"
      ],
      "execution_count": 278,
      "outputs": [
        {
          "output_type": "stream",
          "text": [
            "/usr/local/lib/python3.6/dist-packages/ipykernel_launcher.py:11: SettingWithCopyWarning: \n",
            "A value is trying to be set on a copy of a slice from a DataFrame.\n",
            "Try using .loc[row_indexer,col_indexer] = value instead\n",
            "\n",
            "See the caveats in the documentation: http://pandas.pydata.org/pandas-docs/stable/user_guide/indexing.html#returning-a-view-versus-a-copy\n",
            "  # This is added back by InteractiveShellApp.init_path()\n"
          ],
          "name": "stderr"
        }
      ]
    },
    {
      "cell_type": "code",
      "metadata": {
        "id": "-0_5sfUUFVaa",
        "colab_type": "code",
        "outputId": "748d3fc7-80fa-4395-f979-43e94b9245d1",
        "colab": {
          "base_uri": "https://localhost:8080/",
          "height": 68
        }
      },
      "source": [
        "df['granted_bool'].value_counts(dropna=False)"
      ],
      "execution_count": 279,
      "outputs": [
        {
          "output_type": "execute_result",
          "data": {
            "text/plain": [
              "True     11922\n",
              "False     3019\n",
              "Name: granted_bool, dtype: int64"
            ]
          },
          "metadata": {
            "tags": []
          },
          "execution_count": 279
        }
      ]
    },
    {
      "cell_type": "code",
      "metadata": {
        "id": "jTPNUWco5eRq",
        "colab_type": "code",
        "outputId": "4edb120d-c33f-4154-fa27-4d14b99db14c",
        "colab": {
          "base_uri": "https://localhost:8080/",
          "height": 382
        }
      },
      "source": [
        "list_top_prefix = [getTopPrefixForAssignee(assignee,0,df) for assignee in assignees_list]\n",
        "#sns.distplot( y=list_top_prefix[0][0], x=df_l_exam['prefix_art'] )\n",
        "sns.set(style=\"ticks\", color_codes=True)\n",
        "fig = sns.catplot(x=\"norm_assignee\", y=\"prefix_art\", data=df[df['prefix_art'].notnull()],height = 5,aspect=3)\n",
        "plt.xlabel('Technical Centers')\n",
        "plt.ylabel('Assignees')"
      ],
      "execution_count": 280,
      "outputs": [
        {
          "output_type": "execute_result",
          "data": {
            "text/plain": [
              "Text(12.334999999999994, 0.5, 'Assignees')"
            ]
          },
          "metadata": {
            "tags": []
          },
          "execution_count": 280
        },
        {
          "output_type": "display_data",
          "data": {
            "image/png": "[encoded data removed]",
            "text/plain": [
              "<Figure size 1080x360 with 1 Axes>"
            ]
          },
          "metadata": {
            "tags": []
          }
        }
      ]
    },
    {
      "cell_type": "code",
      "metadata": {
        "id": "lcb0_jFx6b70",
        "colab_type": "code",
        "outputId": "b52b1d9c-4657-4f0d-a9ef-5cf407d2764b",
        "colab": {
          "base_uri": "https://localhost:8080/",
          "height": 285
        }
      },
      "source": [
        "df['norm_assignee'].value_counts(dropna=True).head(30).plot(kind='barh')"
      ],
      "execution_count": 281,
      "outputs": [
        {
          "output_type": "execute_result",
          "data": {
            "text/plain": [
              "<matplotlib.axes._subplots.AxesSubplot at 0x7f95bb3f9ef0>"
            ]
          },
          "metadata": {
            "tags": []
          },
          "execution_count": 281
        },
        {
          "output_type": "display_data",
          "data": {
            "image/png": "[encoded data removed]",
            "text/plain": [
              "<Figure size 432x288 with 1 Axes>"
            ]
          },
          "metadata": {
            "tags": []
          }
        }
      ]
    },
    {
      "cell_type": "code",
      "metadata": {
        "id": "0_5JguRc6NJc",
        "colab_type": "code",
        "outputId": "6bef2450-a9f8-4e00-8c78-e4436b6d0645",
        "colab": {
          "base_uri": "https://localhost:8080/",
          "height": 285
        }
      },
      "source": [
        "df['prefix_art'].value_counts(dropna=False).plot(kind='barh')"
      ],
      "execution_count": 282,
      "outputs": [
        {
          "output_type": "execute_result",
          "data": {
            "text/plain": [
              "<matplotlib.axes._subplots.AxesSubplot at 0x7f95b9fcc4a8>"
            ]
          },
          "metadata": {
            "tags": []
          },
          "execution_count": 282
        },
        {
          "output_type": "display_data",
          "data": {
            "image/png": "[encoded data removed]",
            "text/plain": [
              "<Figure size 432x288 with 1 Axes>"
            ]
          },
          "metadata": {
            "tags": []
          }
        }
      ]
    },
    {
      "cell_type": "code",
      "metadata": {
        "id": "GCqp7nN-6OO2",
        "colab_type": "code",
        "outputId": "517531c7-4e86-44a7-cc2d-4e0c3ad33979",
        "colab": {
          "base_uri": "https://localhost:8080/",
          "height": 365
        }
      },
      "source": [
        "from  matplotlib.ticker import PercentFormatter\n",
        "g = sns.catplot(\"granted_bool\", col=\"norm_assignee\", col_wrap=6,data=df, kind=\"count\", height=2.5, aspect=1.05,palette=\"Blues\",saturation=.5) \n",
        "\n",
        "plt.show()"
      ],
      "execution_count": 283,
      "outputs": [
        {
          "output_type": "display_data",
          "data": {
            "image/png": "[encoded data removed]",
            "text/plain": [
              "<Figure size 1134x360 with 12 Axes>"
            ]
          },
          "metadata": {
            "tags": []
          }
        }
      ]
    },
    {
      "cell_type": "code",
      "metadata": {
        "id": "pE0eXHFQKB_T",
        "colab_type": "code",
        "outputId": "d4e6772c-2680-455c-ebc1-42d777bd59d5",
        "colab": {
          "base_uri": "https://localhost:8080/",
          "height": 285
        }
      },
      "source": [
        "df['art_unit'].value_counts().head(20).plot(kind='barh')\n",
        "df['art_unit'].value_counts().shape"
      ],
      "execution_count": 284,
      "outputs": [
        {
          "output_type": "execute_result",
          "data": {
            "text/plain": [
              "(453,)"
            ]
          },
          "metadata": {
            "tags": []
          },
          "execution_count": 284
        },
        {
          "output_type": "display_data",
          "data": {
            "image/png": "[encoded data removed]",
            "text/plain": [
              "<Figure size 432x288 with 1 Axes>"
            ]
          },
          "metadata": {
            "tags": []
          }
        }
      ]
    },
    {
      "cell_type": "code",
      "metadata": {
        "id": "RjuirMsnP0Vw",
        "colab_type": "code",
        "outputId": "b8e32e62-92a3-4dd0-8c2a-2c68c583505d",
        "colab": {
          "base_uri": "https://localhost:8080/",
          "height": 303
        }
      },
      "source": [
        "df_thales = df[df['norm_assignee'] == 'THALES']\n",
        "df_t = df_thales['art_unit'].value_counts().head(30).plot(kind='bar')\n",
        "df_t_sum = df_thales['art_unit'].value_counts().head(20).sum()\n",
        "df_t_sum"
      ],
      "execution_count": 285,
      "outputs": [
        {
          "output_type": "execute_result",
          "data": {
            "text/plain": [
              "242"
            ]
          },
          "metadata": {
            "tags": []
          },
          "execution_count": 285
        },
        {
          "output_type": "display_data",
          "data": {
            "image/png": "[encoded data removed]",
            "text/plain": [
              "<Figure size 432x288 with 1 Axes>"
            ]
          },
          "metadata": {
            "tags": []
          }
        }
      ]
    },
    {
      "cell_type": "code",
      "metadata": {
        "id": "C0VhsWKATA99",
        "colab_type": "code",
        "outputId": "f8418d82-ce3d-4fe6-8535-9440a89eaf82",
        "colab": {
          "base_uri": "https://localhost:8080/",
          "height": 170
        }
      },
      "source": [
        "df_thales['art_unit'].value_counts().describe()"
      ],
      "execution_count": 286,
      "outputs": [
        {
          "output_type": "execute_result",
          "data": {
            "text/plain": [
              "count    140.000000\n",
              "mean       3.071429\n",
              "std        4.679118\n",
              "min        1.000000\n",
              "25%        1.000000\n",
              "50%        1.000000\n",
              "75%        3.000000\n",
              "max       27.000000\n",
              "Name: art_unit, dtype: float64"
            ]
          },
          "metadata": {
            "tags": []
          },
          "execution_count": 286
        }
      ]
    },
    {
      "cell_type": "code",
      "metadata": {
        "id": "oY7TKJRGQHrY",
        "colab_type": "code",
        "outputId": "dba58fa7-6384-4e62-f090-dd555c61b413",
        "colab": {
          "base_uri": "https://localhost:8080/",
          "height": 421
        }
      },
      "source": [
        "df_c = df[df['norm_assignee'] == 'COLLINS']\n",
        "df_collins = df_c['art_unit'].value_counts().head(20).plot(kind='barh')\n",
        "df_c['art_unit'].value_counts().describe()"
      ],
      "execution_count": 287,
      "outputs": [
        {
          "output_type": "execute_result",
          "data": {
            "text/plain": [
              "count    169.000000\n",
              "mean       3.804734\n",
              "std        6.465364\n",
              "min        1.000000\n",
              "25%        1.000000\n",
              "50%        2.000000\n",
              "75%        3.000000\n",
              "max       50.000000\n",
              "Name: art_unit, dtype: float64"
            ]
          },
          "metadata": {
            "tags": []
          },
          "execution_count": 287
        },
        {
          "output_type": "display_data",
          "data": {
            "image/png": "[encoded data removed]",
            "text/plain": [
              "<Figure size 432x288 with 1 Axes>"
            ]
          },
          "metadata": {
            "tags": []
          }
        }
      ]
    },
    {
      "cell_type": "code",
      "metadata": {
        "id": "JH9x4Ug8UqKf",
        "colab_type": "code",
        "colab": {}
      },
      "source": [
        "#Les art units avec les meilleurs stats\n",
        "#Les examinateurs avec les meilleurs stats dans un même art unit\n",
        "#moyenne générale dans un art unit \n",
        "#calcul du temps depuis la première prio \n",
        "#temps moyen pour délivrer brevet par acteur\n",
        "#examinateur meme si pas delivré ?\n",
        "#stat par examinateur"
      ],
      "execution_count": 0,
      "outputs": []
    },
    {
      "cell_type": "code",
      "metadata": {
        "id": "9KS77xsFXFrJ",
        "colab_type": "code",
        "colab": {}
      },
      "source": [
        "from datetime import date\n",
        "def getAssigneeDataFrame(assignee,df):\n",
        "  return df[df['norm_assignee'] == assignee]\n",
        "\n",
        "def computeTimeSinceFiling(df):\n",
        "  df['days_filing'] = datetime.today() - df['EPRD']\n",
        "  return df\n",
        "\n",
        "def avgTimeToGrant(df):\n",
        "  dic = {}\n",
        "  for a in assignees_list:\n",
        "    df_a = getAssigneeDataFrame(a,df)\n",
        "    df_a = df_a[df_a['EPDG'].notnull()]\n",
        "    dic[a] = df_a['days_grant'].mean().days\n",
        "  return dic"
      ],
      "execution_count": 0,
      "outputs": []
    },
    {
      "cell_type": "code",
      "metadata": {
        "id": "WJeMGOA_XXhZ",
        "colab_type": "code",
        "colab": {}
      },
      "source": [
        "df_boeing = getAssigneeDataFrame('BOEING',df)"
      ],
      "execution_count": 0,
      "outputs": []
    },
    {
      "cell_type": "code",
      "metadata": {
        "id": "bm0q6oT-XbVH",
        "colab_type": "code",
        "outputId": "17cafd2d-6f13-406f-e511-b914af04fbc9",
        "colab": {
          "base_uri": "https://localhost:8080/",
          "height": 119
        }
      },
      "source": [
        "df_boeing['days_filing'] = datetime.now() - df_boeing['EPRD']"
      ],
      "execution_count": 291,
      "outputs": [
        {
          "output_type": "stream",
          "text": [
            "/usr/local/lib/python3.6/dist-packages/ipykernel_launcher.py:1: SettingWithCopyWarning: \n",
            "A value is trying to be set on a copy of a slice from a DataFrame.\n",
            "Try using .loc[row_indexer,col_indexer] = value instead\n",
            "\n",
            "See the caveats in the documentation: http://pandas.pydata.org/pandas-docs/stable/user_guide/indexing.html#returning-a-view-versus-a-copy\n",
            "  \"\"\"Entry point for launching an IPython kernel.\n"
          ],
          "name": "stderr"
        }
      ]
    },
    {
      "cell_type": "code",
      "metadata": {
        "id": "-NBycj4iXcz-",
        "colab_type": "code",
        "outputId": "4f567374-2e91-4654-e73d-8ebc4a8d816d",
        "colab": {
          "base_uri": "https://localhost:8080/",
          "height": 34
        }
      },
      "source": [
        "df = computeTimeSinceFiling(df)\n",
        "dic_avg = avgTimeToGrant(df)\n",
        "dic_avg['AIRBUS']"
      ],
      "execution_count": 292,
      "outputs": [
        {
          "output_type": "execute_result",
          "data": {
            "text/plain": [
              "1174"
            ]
          },
          "metadata": {
            "tags": []
          },
          "execution_count": 292
        }
      ]
    },
    {
      "cell_type": "code",
      "metadata": {
        "id": "bJIb49mvYftp",
        "colab_type": "code",
        "colab": {}
      },
      "source": [
        "df_dic = pd.DataFrame([dic_avg]).T\n",
        "df_dic = df_dic.rename(columns={df_dic.columns[0]:'avg_day'})"
      ],
      "execution_count": 0,
      "outputs": []
    },
    {
      "cell_type": "code",
      "metadata": {
        "id": "4RlRyxQCc9sp",
        "colab_type": "code",
        "outputId": "cbedc671-f12b-4e7f-bd96-f00ceccc6445",
        "colab": {
          "base_uri": "https://localhost:8080/",
          "height": 351
        }
      },
      "source": [
        "df_dic['avg_day'].sort_values(ascending=False).plot(kind='bar')"
      ],
      "execution_count": 294,
      "outputs": [
        {
          "output_type": "execute_result",
          "data": {
            "text/plain": [
              "<matplotlib.axes._subplots.AxesSubplot at 0x7f95c13fc4e0>"
            ]
          },
          "metadata": {
            "tags": []
          },
          "execution_count": 294
        },
        {
          "output_type": "display_data",
          "data": {
            "image/png": "[encoded data removed]",
            "text/plain": [
              "<Figure size 432x288 with 1 Axes>"
            ]
          },
          "metadata": {
            "tags": []
          }
        }
      ]
    },
    {
      "cell_type": "code",
      "metadata": {
        "id": "F8s_KnJafVmh",
        "colab_type": "code",
        "colab": {}
      },
      "source": [
        "def getYearFilingForAssignee(assignee,df):\n",
        "  df = getAssigneeDataFrame(assignee,df)\n",
        "  g = df['EPRD'].dt.year.value_counts().sort_index().plot(kind='bar')\n",
        "  g.set_xlabel('Year of Filing')\n",
        "  g.set_ylabel('Number of Patent Filed')\n",
        "  g.set_title('Year of Filing for the dataset')\n",
        "  return g\n",
        "#g.set_xlim()"
      ],
      "execution_count": 0,
      "outputs": []
    },
    {
      "cell_type": "code",
      "metadata": {
        "id": "b33A0UalTyYS",
        "colab_type": "code",
        "colab": {
          "base_uri": "https://localhost:8080/",
          "height": 319
        },
        "outputId": "32ae99a6-2806-48b4-f605-e78e827c0d26"
      },
      "source": [
        "th = getYearFilingForAssignee('BOEING',df)"
      ],
      "execution_count": 296,
      "outputs": [
        {
          "output_type": "display_data",
          "data": {
            "image/png": "[encoded data removed]",
            "text/plain": [
              "<Figure size 432x288 with 1 Axes>"
            ]
          },
          "metadata": {
            "tags": []
          }
        }
      ]
    },
    {
      "cell_type": "code",
      "metadata": {
        "id": "A8uxDarbWpaY",
        "colab_type": "code",
        "colab": {}
      },
      "source": [
        "df['priority_year'] =  df['EPRD'].dt.year"
      ],
      "execution_count": 0,
      "outputs": []
    },
    {
      "cell_type": "code",
      "metadata": {
        "id": "Q2DZleoVYE7q",
        "colab_type": "code",
        "colab": {
          "base_uri": "https://localhost:8080/",
          "height": 319
        },
        "outputId": "ae3ac25b-f200-463e-cda3-34ab1a136424"
      },
      "source": [
        "ge = getYearFilingForAssignee('GE AVIATION',df)"
      ],
      "execution_count": 298,
      "outputs": [
        {
          "output_type": "display_data",
          "data": {
            "image/png": "[encoded data removed]",
            "text/plain": [
              "<Figure size 432x288 with 1 Axes>"
            ]
          },
          "metadata": {
            "tags": []
          }
        }
      ]
    },
    {
      "cell_type": "code",
      "metadata": {
        "id": "K6_gYaTBYK-j",
        "colab_type": "code",
        "colab": {
          "base_uri": "https://localhost:8080/",
          "height": 493
        },
        "outputId": "1174d2f9-06f5-4116-e8f8-c5f1d0668a70"
      },
      "source": [
        "exam_thales = df_thales['examiner'].value_counts()\n",
        "exam_thales_2 = exam_thales[exam_thales>2]\n",
        "exam_thales_2"
      ],
      "execution_count": 299,
      "outputs": [
        {
          "output_type": "execute_result",
          "data": {
            "text/plain": [
              " Tarcza Thomas          14\n",
              " Cheung Calvin           7\n",
              " Cheung Mary             7\n",
              " Nguyen Tan Q            6\n",
              " Olszewski John R        6\n",
              " Black Thomas G          6\n",
              " Edwards Jerrah          5\n",
              " Phan Dao                4\n",
              " Bruckart Benjamin R     4\n",
              " Ratcliffe Luke          4\n",
              " Khatib Rami             4\n",
              " Patel Harshad R         4\n",
              " Camby Richard           4\n",
              " Nguyen John Q           4\n",
              " Trammell James          4\n",
              " Sotomayor John B        4\n",
              " Badii Behrang           3\n",
              " Nguyen Sang             3\n",
              " Brainard Timothy A      3\n",
              " Nguyen Tai T            3\n",
              " Barker Matthew M        3\n",
              " Shafi Muhammad          3\n",
              " Tran Khoi               3\n",
              " Gregory Bernarr E       3\n",
              " Gregory Bernarr         3\n",
              " Marc-Coleman Marthe     3\n",
              " Lin Abby Y              3\n",
              "Name: examiner, dtype: int64"
            ]
          },
          "metadata": {
            "tags": []
          },
          "execution_count": 299
        }
      ]
    },
    {
      "cell_type": "code",
      "metadata": {
        "id": "y7ICPHLXamxi",
        "colab_type": "code",
        "colab": {
          "base_uri": "https://localhost:8080/",
          "height": 221
        },
        "outputId": "340fef87-9b37-4487-bd84-0f768401f5dd"
      },
      "source": [
        "#peut on avoir un examiner si pas granted ? \n",
        "df_b_exam = df_boeing[df_boeing['granted_bool'] == False]\n",
        "\n",
        "print(df_b_exam[df_b_exam['FD'].notnull()]['FD'])\n"
      ],
      "execution_count": 300,
      "outputs": [
        {
          "output_type": "stream",
          "text": [
            "329      (US20180362149)|Provisional Appl: US62/519,693...\n",
            "543      (US20190241247)|Provisional Appl: US62/628,254...\n",
            "761      (US20190144112)|CIP of: US15/815,689 FDD=2017-...\n",
            "1426     (US20190048959)|Continuation of: US15/867,940 ...\n",
            "1796     (US20190080615)|CIP of: US15/703,053 FDD=2017-...\n",
            "                               ...                        \n",
            "14507    (US20190270296)|Provisional Appl: US62/638,055...\n",
            "14509    (US20190241752)|Provisional Appl: US62/625,785...\n",
            "14510    (US20190240635)|Provisional Appl: US62/625,792...\n",
            "14516    (US20190002739)|Provisional Appl: US62/527,432...\n",
            "14828    (US20180255455)|CIP of: US15/451,291 FDD=2017-...\n",
            "Name: FD, Length: 72, dtype: object\n"
          ],
          "name": "stdout"
        }
      ]
    },
    {
      "cell_type": "code",
      "metadata": {
        "id": "pSWTwkk5be6T",
        "colab_type": "code",
        "colab": {
          "base_uri": "https://localhost:8080/",
          "height": 34
        },
        "outputId": "ce026655-ad5f-4a1a-f51e-af5d620d73c8"
      },
      "source": [
        "print(df_b_exam['FD'][1796])"
      ],
      "execution_count": 301,
      "outputs": [
        {
          "output_type": "stream",
          "text": [
            "(US20190080615)|CIP of: US15/703,053 FDD=2017-09-13 [2017US-15703053]\n"
          ],
          "name": "stdout"
        }
      ]
    },
    {
      "cell_type": "code",
      "metadata": {
        "id": "s3Z-2Q26ePpf",
        "colab_type": "code",
        "colab": {
          "base_uri": "https://localhost:8080/",
          "height": 233
        },
        "outputId": "eca9e698-626a-4644-afe1-8b2e7487f534"
      },
      "source": [
        "all_ex = df[df['examiner'].notnull()]['examiner'].unique()\n",
        "all_l = []\n",
        "all_ex[0]\n",
        "df_e = df[df['examiner'] == all_ex[0]]\n",
        "df_e"
      ],
      "execution_count": 302,
      "outputs": [
        {
          "output_type": "execute_result",
          "data": {
            "text/html": [
              "<div>\n",
              "<style scoped>\n",
              "    .dataframe tbody tr th:only-of-type {\n",
              "        vertical-align: middle;\n",
              "    }\n",
              "\n",
              "    .dataframe tbody tr th {\n",
              "        vertical-align: top;\n",
              "    }\n",
              "\n",
              "    .dataframe thead th {\n",
              "        text-align: right;\n",
              "    }\n",
              "</style>\n",
              "<table border=\"1\" class=\"dataframe\">\n",
              "  <thead>\n",
              "    <tr style=\"text-align: right;\">\n",
              "      <th></th>\n",
              "      <th>PR.§1</th>\n",
              "      <th>AP.§1</th>\n",
              "      <th>PN.PN</th>\n",
              "      <th>FAN</th>\n",
              "      <th>FAMILY_PN</th>\n",
              "      <th>EPRD</th>\n",
              "      <th>EAPD</th>\n",
              "      <th>EPD</th>\n",
              "      <th>EPDG</th>\n",
              "      <th>ACT.EED</th>\n",
              "      <th>TI</th>\n",
              "      <th>AB</th>\n",
              "      <th>PA</th>\n",
              "      <th>IN</th>\n",
              "      <th>RP</th>\n",
              "      <th>ADB</th>\n",
              "      <th>ICLM</th>\n",
              "      <th>OBJ</th>\n",
              "      <th>KEYW</th>\n",
              "      <th>KWIC</th>\n",
              "      <th>PCL</th>\n",
              "      <th>ACT.STATUS</th>\n",
              "      <th>ACT</th>\n",
              "      <th>DS</th>\n",
              "      <th>EPRC</th>\n",
              "      <th>NO</th>\n",
              "      <th>FD</th>\n",
              "      <th>days_grant</th>\n",
              "      <th>art_unit</th>\n",
              "      <th>extension_days</th>\n",
              "      <th>examiner</th>\n",
              "      <th>draw_nb</th>\n",
              "      <th>clms_nb</th>\n",
              "      <th>clean_title</th>\n",
              "      <th>clean_num</th>\n",
              "      <th>prefix_art</th>\n",
              "      <th>suffix_art</th>\n",
              "      <th>norm_assignee</th>\n",
              "      <th>granted_bool</th>\n",
              "      <th>days_filing</th>\n",
              "      <th>priority_year</th>\n",
              "    </tr>\n",
              "  </thead>\n",
              "  <tbody>\n",
              "    <tr>\n",
              "      <th>10</th>\n",
              "      <td>2016FR-0001112</td>\n",
              "      <td>US15/652,801|FR1601112|CN201710585460</td>\n",
              "      <td>US10453234|FR3054314|US20180075632|CN107628258...</td>\n",
              "      <td>78601936</td>\n",
              "      <td>US10453234          B2 2019-10-22 [US10453234]...</td>\n",
              "      <td>2016-07-19</td>\n",
              "      <td>2016-07-19</td>\n",
              "      <td>2018-01-26</td>\n",
              "      <td>2018-08-31</td>\n",
              "      <td>(US10453234B2)|2037-07-18|(FR3054314B1)|2036-0...</td>\n",
              "      <td>(US10453234)|System for displaying avionic dat...</td>\n",
              "      <td>(US10453234)|The present invention relates to ...</td>\n",
              "      <td>THALES</td>\n",
              "      <td>Baron Luc|Garnavault Christophe|Aymeric Bruno|...</td>\n",
              "      <td>(US10453234)|Pearne &amp; Gordon LLP|(FR3054314)|C...</td>\n",
              "      <td>(US10453234)|Other devices typically make it p...</td>\n",
              "      <td>(US10453234)|1. A system for displaying avioni...</td>\n",
              "      <td>(US10453234)|The present invention relates to ...</td>\n",
              "      <td>(US10453234)|DISPLAY FORMAT(100,96)|AIRCRAFT(1...</td>\n",
              "      <td>AB|(US10453234)|The present invention relates ...</td>\n",
              "      <td>NaN</td>\n",
              "      <td>(US10453234B2)|GRANTED|(FR3054314B1)|GRANTED|(...</td>\n",
              "      <td>(US10453234)|LEGAL DETAILS FOR US20180075632|A...</td>\n",
              "      <td>NaN</td>\n",
              "      <td>FR</td>\n",
              "      <td>(US20180075632)|Number of Drawings: NDR=4||Num...</td>\n",
              "      <td>(US10453234)|Previous publication: US201800756...</td>\n",
              "      <td>773 days</td>\n",
              "      <td>2611</td>\n",
              "      <td>NaN</td>\n",
              "      <td>Wu Yanna</td>\n",
              "      <td>4</td>\n",
              "      <td>10</td>\n",
              "      <td>System for displaying avionic data on at least...</td>\n",
              "      <td>US10453234</td>\n",
              "      <td>26</td>\n",
              "      <td>11</td>\n",
              "      <td>THALES</td>\n",
              "      <td>True</td>\n",
              "      <td>1200 days 11:50:12.934521</td>\n",
              "      <td>2016</td>\n",
              "    </tr>\n",
              "    <tr>\n",
              "      <th>11794</th>\n",
              "      <td>2016US-15185785</td>\n",
              "      <td>US15/185,785</td>\n",
              "      <td>US10417803|US20170365086</td>\n",
              "      <td>78089253</td>\n",
              "      <td>US10417803          B2 2019-09-17 [US10417803]...</td>\n",
              "      <td>2016-06-17</td>\n",
              "      <td>2016-06-17</td>\n",
              "      <td>2017-12-21</td>\n",
              "      <td>2019-09-17</td>\n",
              "      <td>2036-06-17</td>\n",
              "      <td>(US10417803)|Multiple-pass rendering of a digi...</td>\n",
              "      <td>(US10417803)|A method is provided for renderin...</td>\n",
              "      <td>BOEING</td>\n",
              "      <td>FLOYD JOSEPH FRANK|EAMES PATRICK JAMES|HADLEY ...</td>\n",
              "      <td>(US10417803)|Womble Bond Dickinson (US) LLP</td>\n",
              "      <td>(US10417803)|Display of an aircraft and its pa...</td>\n",
              "      <td>(US10417803)|1. An apparatus for rendering a s...</td>\n",
              "      <td>(US10417803)|The present disclosure relates ge...</td>\n",
              "      <td>(US10417803)|PASS RENDERING(100,49)|SCENE(100,...</td>\n",
              "      <td>ADB|(US10417803)|Display of an aircraft and it...</td>\n",
              "      <td>NaN</td>\n",
              "      <td>GRANTED</td>\n",
              "      <td>(US10417803)|LEGAL DETAILS FOR US20170365086|A...</td>\n",
              "      <td>NaN</td>\n",
              "      <td>US</td>\n",
              "      <td>(US20170365086)|Number of Drawings: NDR=6||Num...</td>\n",
              "      <td>(US10417803)|Previous publication: US201703650...</td>\n",
              "      <td>1187 days</td>\n",
              "      <td>2611</td>\n",
              "      <td>NaN</td>\n",
              "      <td>Wu Yanna</td>\n",
              "      <td>6</td>\n",
              "      <td>24</td>\n",
              "      <td>Multiple-pass rendering of a digital three-dim...</td>\n",
              "      <td>US10417803</td>\n",
              "      <td>26</td>\n",
              "      <td>11</td>\n",
              "      <td>BOEING</td>\n",
              "      <td>True</td>\n",
              "      <td>1232 days 11:50:12.934521</td>\n",
              "      <td>2016</td>\n",
              "    </tr>\n",
              "  </tbody>\n",
              "</table>\n",
              "</div>"
            ],
            "text/plain": [
              "                 PR.§1  ... priority_year\n",
              "10      2016FR-0001112  ...          2016\n",
              "11794  2016US-15185785  ...          2016\n",
              "\n",
              "[2 rows x 41 columns]"
            ]
          },
          "metadata": {
            "tags": []
          },
          "execution_count": 302
        }
      ]
    },
    {
      "cell_type": "code",
      "metadata": {
        "id": "w1_wNBdSlXPo",
        "colab_type": "code",
        "colab": {
          "base_uri": "https://localhost:8080/",
          "height": 34
        },
        "outputId": "8d8978bf-8de0-449f-dd67-4d4f53fdef5c"
      },
      "source": [
        "import re\n",
        "re.findall(r'[\\u4e00-\\u9fff]+','구대성')"
      ],
      "execution_count": 303,
      "outputs": [
        {
          "output_type": "execute_result",
          "data": {
            "text/plain": [
              "[]"
            ]
          },
          "metadata": {
            "tags": []
          },
          "execution_count": 303
        }
      ]
    },
    {
      "cell_type": "code",
      "metadata": {
        "id": "jxddPXRtstzp",
        "colab_type": "code",
        "colab": {
          "base_uri": "https://localhost:8080/",
          "height": 34
        },
        "outputId": "780358d9-18f6-4eef-d62e-a4dd46580601"
      },
      "source": [
        "def is_cjk(character):\n",
        "    \"\"\"\"\n",
        "    Checks whether character is CJK.\n",
        "\n",
        "        >>> is_cjk(u'\\u33fe')\n",
        "        True\n",
        "        >>> is_cjk(u'\\uFE5F')\n",
        "        False\n",
        "\n",
        "    :param character: The character that needs to be checked.\n",
        "    :type character: char\n",
        "    :return: bool\n",
        "    \"\"\"\n",
        "    return any([start <= ord(character) <= end for start, end in \n",
        "                [(4352, 4607), (11904, 42191), (43072, 43135), (44032, 55215), \n",
        "                 (63744, 64255), (65072, 65103), (65381, 65500), \n",
        "                 (131072, 196607)]\n",
        "                ])\n",
        "    \n",
        "def isExaminerCJK(s):\n",
        "  for c in s:\n",
        "    if is_cjk(c):\n",
        "      return True\n",
        "  return False\n",
        "\n",
        "isExaminerCJK('AAPOKMAKAMMA KALKJKLJLKA--')"
      ],
      "execution_count": 304,
      "outputs": [
        {
          "output_type": "execute_result",
          "data": {
            "text/plain": [
              "False"
            ]
          },
          "metadata": {
            "tags": []
          },
          "execution_count": 304
        }
      ]
    },
    {
      "cell_type": "code",
      "metadata": {
        "id": "zjLGibjgjNvF",
        "colab_type": "code",
        "colab": {}
      },
      "source": [
        "#First value is examiner\n",
        "#Second is mean days for grant patent\n",
        "#Third is max value for granting a patent\n",
        "#Fourth is the min days required for granting a patent\n",
        "#Fifth is the number of case processed by the examiner\n",
        "#Sixth is finally the group_art unit in which the examiner contribute the most\n",
        "#Seventh is the company the most processed by the examiner (might be Boeing, Airbus or Safran due to the number ...)\n",
        "all_l = []\n",
        "for ex in all_ex:\n",
        "  if isExaminerCJK(ex) == False :\n",
        "    df_e = df[df['examiner'] == ex]\n",
        "    meanV = df_e['days_grant'].mean().days\n",
        "    maxV = df_e['days_grant'].max().days\n",
        "    minV = df_e['days_grant'].min().days\n",
        "    num_case = df_e.shape[0]\n",
        "    art = df_e['art_unit'].value_counts().keys().tolist()[0]\n",
        "    top_assignee = df_e['norm_assignee'].value_counts().keys().tolist()[0]\n",
        "    percent_assignee = round((df_e['norm_assignee'].value_counts().head(1)[0])/num_case,1)\n",
        "    l = [ex,meanV,maxV,minV,num_case,int(art),top_assignee,percent_assignee]\n",
        "    all_l.append(l)"
      ],
      "execution_count": 0,
      "outputs": []
    },
    {
      "cell_type": "code",
      "metadata": {
        "id": "dhWAtHCfkYGf",
        "colab_type": "code",
        "colab": {}
      },
      "source": [
        "df_exam_s = pd.DataFrame(all_l, columns=['examiner','avg_for_grant','max_for_grant','min_for_grant','num_case','top_art_unit','top_assignee_processed','assignee_percent'])"
      ],
      "execution_count": 0,
      "outputs": []
    },
    {
      "cell_type": "code",
      "metadata": {
        "id": "1vEWfq_ltsaA",
        "colab_type": "code",
        "colab": {
          "base_uri": "https://localhost:8080/",
          "height": 359
        },
        "outputId": "e1aa0832-0bee-470f-9b68-eacd8c3b89ec"
      },
      "source": [
        "df_exam_s.sample(10)"
      ],
      "execution_count": 307,
      "outputs": [
        {
          "output_type": "execute_result",
          "data": {
            "text/html": [
              "<div>\n",
              "<style scoped>\n",
              "    .dataframe tbody tr th:only-of-type {\n",
              "        vertical-align: middle;\n",
              "    }\n",
              "\n",
              "    .dataframe tbody tr th {\n",
              "        vertical-align: top;\n",
              "    }\n",
              "\n",
              "    .dataframe thead th {\n",
              "        text-align: right;\n",
              "    }\n",
              "</style>\n",
              "<table border=\"1\" class=\"dataframe\">\n",
              "  <thead>\n",
              "    <tr style=\"text-align: right;\">\n",
              "      <th></th>\n",
              "      <th>examiner</th>\n",
              "      <th>avg_for_grant</th>\n",
              "      <th>max_for_grant</th>\n",
              "      <th>min_for_grant</th>\n",
              "      <th>num_case</th>\n",
              "      <th>top_art_unit</th>\n",
              "      <th>top_assignee_processed</th>\n",
              "      <th>assignee_percent</th>\n",
              "    </tr>\n",
              "  </thead>\n",
              "  <tbody>\n",
              "    <tr>\n",
              "      <th>56</th>\n",
              "      <td>Troost Aaron L</td>\n",
              "      <td>1038</td>\n",
              "      <td>1786</td>\n",
              "      <td>566</td>\n",
              "      <td>16</td>\n",
              "      <td>3668</td>\n",
              "      <td>BOEING</td>\n",
              "      <td>0.2</td>\n",
              "    </tr>\n",
              "    <tr>\n",
              "      <th>2494</th>\n",
              "      <td>Desir Pierre Louis</td>\n",
              "      <td>778</td>\n",
              "      <td>778</td>\n",
              "      <td>778</td>\n",
              "      <td>1</td>\n",
              "      <td>2659</td>\n",
              "      <td>PANASONIC</td>\n",
              "      <td>1.0</td>\n",
              "    </tr>\n",
              "    <tr>\n",
              "      <th>2106</th>\n",
              "      <td>Ma Kun Kai</td>\n",
              "      <td>3079</td>\n",
              "      <td>3079</td>\n",
              "      <td>3079</td>\n",
              "      <td>1</td>\n",
              "      <td>3763</td>\n",
              "      <td>HONEYWELL</td>\n",
              "      <td>1.0</td>\n",
              "    </tr>\n",
              "    <tr>\n",
              "      <th>973</th>\n",
              "      <td>Carlson Marc</td>\n",
              "      <td>1141</td>\n",
              "      <td>1449</td>\n",
              "      <td>833</td>\n",
              "      <td>2</td>\n",
              "      <td>3723</td>\n",
              "      <td>BOEING</td>\n",
              "      <td>1.0</td>\n",
              "    </tr>\n",
              "    <tr>\n",
              "      <th>37</th>\n",
              "      <td>Khatib Rami</td>\n",
              "      <td>996</td>\n",
              "      <td>2048</td>\n",
              "      <td>645</td>\n",
              "      <td>27</td>\n",
              "      <td>3669</td>\n",
              "      <td>BOEING</td>\n",
              "      <td>0.3</td>\n",
              "    </tr>\n",
              "    <tr>\n",
              "      <th>426</th>\n",
              "      <td>Yao Sam</td>\n",
              "      <td>1532</td>\n",
              "      <td>1803</td>\n",
              "      <td>1233</td>\n",
              "      <td>4</td>\n",
              "      <td>3715</td>\n",
              "      <td>AIRBUS</td>\n",
              "      <td>0.5</td>\n",
              "    </tr>\n",
              "    <tr>\n",
              "      <th>106</th>\n",
              "      <td>Cherry Stephen</td>\n",
              "      <td>1032</td>\n",
              "      <td>1099</td>\n",
              "      <td>966</td>\n",
              "      <td>2</td>\n",
              "      <td>2863</td>\n",
              "      <td>BOEING</td>\n",
              "      <td>0.5</td>\n",
              "    </tr>\n",
              "    <tr>\n",
              "      <th>393</th>\n",
              "      <td>Musselman Timothy A</td>\n",
              "      <td>1359</td>\n",
              "      <td>2384</td>\n",
              "      <td>725</td>\n",
              "      <td>9</td>\n",
              "      <td>3715</td>\n",
              "      <td>BOEING</td>\n",
              "      <td>0.7</td>\n",
              "    </tr>\n",
              "    <tr>\n",
              "      <th>284</th>\n",
              "      <td>Gaffin Jeffrey A</td>\n",
              "      <td>1083</td>\n",
              "      <td>1454</td>\n",
              "      <td>668</td>\n",
              "      <td>5</td>\n",
              "      <td>2129</td>\n",
              "      <td>BOEING</td>\n",
              "      <td>0.8</td>\n",
              "    </tr>\n",
              "    <tr>\n",
              "      <th>39</th>\n",
              "      <td>Cicchino Patrick</td>\n",
              "      <td>931</td>\n",
              "      <td>931</td>\n",
              "      <td>931</td>\n",
              "      <td>1</td>\n",
              "      <td>3653</td>\n",
              "      <td>THALES</td>\n",
              "      <td>1.0</td>\n",
              "    </tr>\n",
              "  </tbody>\n",
              "</table>\n",
              "</div>"
            ],
            "text/plain": [
              "                  examiner  ...  assignee_percent\n",
              "56          Troost Aaron L  ...               0.2\n",
              "2494    Desir Pierre Louis  ...               1.0\n",
              "2106            Ma Kun Kai  ...               1.0\n",
              "973           Carlson Marc  ...               1.0\n",
              "37             Khatib Rami  ...               0.3\n",
              "426                Yao Sam  ...               0.5\n",
              "106         Cherry Stephen  ...               0.5\n",
              "393    Musselman Timothy A  ...               0.7\n",
              "284       Gaffin Jeffrey A  ...               0.8\n",
              "39        Cicchino Patrick  ...               1.0\n",
              "\n",
              "[10 rows x 8 columns]"
            ]
          },
          "metadata": {
            "tags": []
          },
          "execution_count": 307
        }
      ]
    },
    {
      "cell_type": "code",
      "metadata": {
        "id": "JR3WlMc4w4lm",
        "colab_type": "code",
        "colab": {}
      },
      "source": [
        ""
      ],
      "execution_count": 0,
      "outputs": []
    }
  ]
}