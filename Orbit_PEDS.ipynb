{
  "nbformat": 4,
  "nbformat_minor": 0,
  "metadata": {
    "colab": {
      "name": "Orbit PEDS.ipynb",
      "provenance": [],
      "collapsed_sections": [],
      "include_colab_link": true
    },
    "kernelspec": {
      "name": "python3",
      "display_name": "Python 3"
    }
  },
  "cells": [
    {
      "cell_type": "markdown",
      "metadata": {
        "id": "view-in-github",
        "colab_type": "text"
      },
      "source": [
        "<a href=\"https://colab.research.google.com/github/chajmz/Dataquest/blob/master/Orbit_PEDS.ipynb\" target=\"_parent\"><img src=\"https://colab.research.google.com/assets/colab-badge.svg\" alt=\"Open In Colab\"/></a>"
      ]
    },
    {
      "cell_type": "code",
      "metadata": {
        "id": "LS6gJ9dnDcZI",
        "colab_type": "code",
        "colab": {}
      },
      "source": [
        "import pandas as pd\n",
        "import matplotlib.pyplot as plt\n",
        "import seaborn as sns\n",
        "import numpy as np\n",
        "import json\n",
        "from pandas.io.json import json_normalize    \n",
        "from datetime import datetime\n",
        "from datetime import date\n",
        "from google.colab import drive"
      ],
      "execution_count": 0,
      "outputs": []
    },
    {
      "cell_type": "code",
      "metadata": {
        "id": "YloIjwYeTHUi",
        "colab_type": "code",
        "outputId": "58b9ca64-a096-4d41-c647-0a242e8d1121",
        "colab": {
          "base_uri": "https://localhost:8080/",
          "height": 122
        }
      },
      "source": [
        "from google.colab import drive\n",
        "drive.mount('/gdrive',force_remount=True)\n",
        "#%cd /gdrive"
      ],
      "execution_count": 2,
      "outputs": [
        {
          "output_type": "stream",
          "text": [
            "Go to this URL in a browser: https://accounts.google.com/o/oauth2/auth?client_id=947318989803-6bn6qk8qdgf4n4g3pfee6491hc0brc4i.apps.googleusercontent.com&redirect_uri=urn%3Aietf%3Awg%3Aoauth%3A2.0%3Aoob&scope=email%20https%3A%2F%2Fwww.googleapis.com%2Fauth%2Fdocs.test%20https%3A%2F%2Fwww.googleapis.com%2Fauth%2Fdrive%20https%3A%2F%2Fwww.googleapis.com%2Fauth%2Fdrive.photos.readonly%20https%3A%2F%2Fwww.googleapis.com%2Fauth%2Fpeopleapi.readonly&response_type=code\n",
            "\n",
            "Enter your authorization code:\n",
            "··········\n",
            "Mounted at /gdrive\n"
          ],
          "name": "stdout"
        }
      ]
    },
    {
      "cell_type": "code",
      "metadata": {
        "id": "2W4pWHXFBnYj",
        "colab_type": "code",
        "colab": {}
      },
      "source": [
        "with open(\"/gdrive/My Drive/orbit_big.csv\",encoding='utf-16') as data_file:    \n",
        "    df = pd.read_csv(data_file)  "
      ],
      "execution_count": 0,
      "outputs": []
    },
    {
      "cell_type": "code",
      "metadata": {
        "id": "0r7LSMdTiML3",
        "colab_type": "code",
        "colab": {}
      },
      "source": [
        "with open(\"/gdrive/My Drive/exam_all_part1.csv\",encoding='utf-16') as data_file:    \n",
        "    df_part1 = pd.read_csv(data_file)  \n",
        "\n",
        "with open(\"/gdrive/My Drive/exam_all_part2.csv\",encoding='utf-16') as data_file:    \n",
        "    df_part2 = pd.read_csv(data_file)\n",
        "    \n",
        "with open(\"/gdrive/My Drive/exam_part3.csv\",encoding='utf-16') as data_file:    \n",
        "    df_part3 = pd.read_csv(data_file)        "
      ],
      "execution_count": 0,
      "outputs": []
    },
    {
      "cell_type": "code",
      "metadata": {
        "id": "5VwjJXQaidxs",
        "colab_type": "code",
        "colab": {
          "base_uri": "https://localhost:8080/",
          "height": 34
        },
        "outputId": "6c2d38c7-25e1-4331-b731-16167f8ebbb1"
      },
      "source": [
        "df_part_merged = pd.concat([df_part1,df_part2,df_part3])\n",
        "df_part_merged.shape"
      ],
      "execution_count": 59,
      "outputs": [
        {
          "output_type": "execute_result",
          "data": {
            "text/plain": [
              "(118299, 15)"
            ]
          },
          "metadata": {
            "tags": []
          },
          "execution_count": 59
        }
      ]
    },
    {
      "cell_type": "code",
      "metadata": {
        "id": "Slg-MPLFwNS0",
        "colab_type": "code",
        "colab": {}
      },
      "source": [
        "dic_rename_orbit = {\n",
        "    \"Notes\":\"NO\",\n",
        "    \"Legal status (Pending, Granted, Revoked, Expired, Lapsed)\": \"ACT.STATUS\",\n",
        "    \"Earliest priority date\":\"EPRD\",\n",
        "    \"Earliest application date\":\"EAPD\",\n",
        "    \"Earliest publication date\":\"EPD\",\n",
        "    \"Earliest grant date\":\"EPDG\",\n",
        "    \"Title\":\"TI\"\n",
        "}"
      ],
      "execution_count": 0,
      "outputs": []
    },
    {
      "cell_type": "code",
      "metadata": {
        "id": "0uXWtaSViluZ",
        "colab_type": "code",
        "colab": {}
      },
      "source": [
        "df_part_merged = df_part_merged.rename(columns=dic_rename_orbit)\n",
        "df_part_merged.sample(5)"
      ],
      "execution_count": 0,
      "outputs": []
    },
    {
      "cell_type": "code",
      "metadata": {
        "id": "17hbSuDW30SL",
        "colab_type": "code",
        "colab": {}
      },
      "source": [
        "with open(\"/gdrive/My Drive/unit.csv\") as data_file:    \n",
        "    df_art_unit = pd.read_csv(data_file) "
      ],
      "execution_count": 0,
      "outputs": []
    },
    {
      "cell_type": "markdown",
      "metadata": {
        "id": "Fb2NGFBVFeup",
        "colab_type": "text"
      },
      "source": [
        "# Helper Functions\n",
        "Toutes les fonctions de transformation des DF\n"
      ]
    },
    {
      "cell_type": "code",
      "metadata": {
        "id": "CTqe4LQLDhix",
        "colab_type": "code",
        "colab": {}
      },
      "source": [
        "pattern_examiner = r'[|]{2}([Pp][rimary]\\w*\\s\\w*)[\\:]([\\s\\w-]*)[|]+'\n",
        "pattern_art_unit = r'[|]+([Aa]\\w*\\s[Uu]\\w*[.: ]*\\w{3}[=]+)([0-9]+)[|]+'\n",
        "pattern_extension = r'\\s([Ee]+\\w{3}[=]+)([0-9]+)[|]+'\n",
        "pattern_clms = r'\\s([NnCcLl]{3}[=]+)([0-9]+)[|]+'\n",
        "pattern_draw = r'\\s([NnDdRr]{3}[=]+)([0-9]+)[|]+'\n",
        "pattern_title = r'[(](\\w{2}[D]?[0-9]+)[)][|]([\\w, ().:=?-]+)'\n",
        "pattern_rep = r'[(]US[0-9]+[)][|]([\\w.\\s&,;()\\[\\]]*)[|]'\n",
        "\n",
        "assignees_list = ['THALES','BOEING','AIRBUS','HONEYWELL','SAFRAN','COLLINS','BAE SYSTEMS','GARMIN','PANASONIC','ROSEMOUNT','ELBIT','GE AVIATION'] "
      ],
      "execution_count": 0,
      "outputs": []
    },
    {
      "cell_type": "code",
      "metadata": {
        "id": "ranEuhGjDXyN",
        "colab_type": "code",
        "colab": {}
      },
      "source": [
        "def applyPattern(df_csv):\n",
        "  df_csv['art_unit'] = df_csv['NO'].str.extract(pattern_art_unit)[1]\n",
        "  df_csv['extension_days'] = df_csv['NO'].str.extract(pattern_extension)[1]\n",
        "  df_csv['examiner'] = df_csv['NO'].str.extract(pattern_examiner)[1]\n",
        "  df_csv['draw_nb'] = df_csv['NO'].str.extract(pattern_draw)[1]\n",
        "  df_csv['clms_nb'] = df_csv['NO'].str.extract(pattern_clms)[1]\n",
        "  df_csv['clean_title'] = df_csv['TI'].str.extract(pattern_title)[1]\n",
        "  df_csv['clean_num'] = df_csv['TI'].str.extract(pattern_title)[0]\n",
        "  df_csv['representative'] = df_csv['Representative'].str.extract(pattern_rep)[0]\n",
        "  return df_csv"
      ],
      "execution_count": 0,
      "outputs": []
    },
    {
      "cell_type": "code",
      "metadata": {
        "id": "kkNX2A1M1eyC",
        "colab_type": "code",
        "colab": {}
      },
      "source": [
        "#Date format %Y-%m-%d\n",
        "def transformDate(df):\n",
        "  for c in ['EPRD', 'EAPD', 'EPD','EPDG']:\n",
        "    df[c] = pd.to_datetime(df[c])\n",
        "  df['days_grant'] = df['EPDG'] - df['EPRD']\n",
        "  return df"
      ],
      "execution_count": 0,
      "outputs": []
    },
    {
      "cell_type": "code",
      "metadata": {
        "id": "VXAW3A1g2s8A",
        "colab_type": "code",
        "colab": {}
      },
      "source": [
        "def getArtUnit(df_csv):\n",
        "    #Let's extract first 2 num of group art unit\n",
        "  df_csv['prefix_art'] = df_csv['art_unit'].str[:2]\n",
        "  df_csv['suffix_art'] = df_csv['art_unit'].str[2:]\n",
        "  return df_csv"
      ],
      "execution_count": 0,
      "outputs": []
    },
    {
      "cell_type": "code",
      "metadata": {
        "id": "G262ODgn5VSn",
        "colab_type": "code",
        "colab": {}
      },
      "source": [
        "def getTopPrefixForAssignee(assignee,n,df):\n",
        "  df_a = df[df['PA'].str.contains(assignee)]\n",
        "  top_prefix = df_a['prefix_art'].value_counts()\n",
        "  return (top_prefix[top_prefix>n],assignee)\n",
        "\n",
        "def normalizeAssignee(df):\n",
        "  list_df = []\n",
        "  df['norm_assignee'] = 'OTHER'\n",
        "  for a in assignees_list:\n",
        "    sub_df = df[df['PA'].str.contains(a)]\n",
        "    sub_df['norm_assignee'] = a\n",
        "    list_df.append(sub_df)\n",
        "  list_df.append(df[df['PA'] == 'OTHER'])\n",
        "  return pd.concat(list_df,axis=0)\n"
      ],
      "execution_count": 0,
      "outputs": []
    },
    {
      "cell_type": "code",
      "metadata": {
        "id": "jxddPXRtstzp",
        "colab_type": "code",
        "outputId": "080b6db9-11e3-4ed9-fca4-b19ae9431e4c",
        "colab": {
          "base_uri": "https://localhost:8080/",
          "height": 34
        }
      },
      "source": [
        "def is_cjk(character):\n",
        "    \"\"\"\"\n",
        "    Checks whether character is CJK.\n",
        "\n",
        "        >>> is_cjk(u'\\u33fe')\n",
        "        True\n",
        "        >>> is_cjk(u'\\uFE5F')\n",
        "        False\n",
        "\n",
        "    :param character: The character that needs to be checked.\n",
        "    :type character: char\n",
        "    :return: bool\n",
        "    \"\"\"\n",
        "    return any([start <= ord(character) <= end for start, end in \n",
        "                [(4352, 4607), (11904, 42191), (43072, 43135), (44032, 55215), \n",
        "                 (63744, 64255), (65072, 65103), (65381, 65500), \n",
        "                 (131072, 196607)]\n",
        "                ])\n",
        "    \n",
        "def isExaminerCJK(s):\n",
        "  for c in s:\n",
        "    if is_cjk(c):\n",
        "      return True\n",
        "  return False\n",
        "\n",
        "isExaminerCJK('AAPOKMAKAMMA KALKJKLJLKA--')"
      ],
      "execution_count": 39,
      "outputs": [
        {
          "output_type": "execute_result",
          "data": {
            "text/plain": [
              "False"
            ]
          },
          "metadata": {
            "tags": []
          },
          "execution_count": 39
        }
      ]
    },
    {
      "cell_type": "code",
      "metadata": {
        "id": "9KS77xsFXFrJ",
        "colab_type": "code",
        "colab": {}
      },
      "source": [
        "from datetime import date\n",
        "def getAssigneeDataFrame(assignee,df):\n",
        "  return df[df['norm_assignee'] == assignee]\n",
        "\n",
        "def computeTimeSinceFiling(df):\n",
        "  df['days_filing'] = datetime.today() - df['EPRD']\n",
        "  return df\n",
        "\n",
        "def avgTimeToGrant(df):\n",
        "  dic = {}\n",
        "  for a in assignees_list:\n",
        "    df_a = getAssigneeDataFrame(a,df)\n",
        "    df_a = df_a[df_a['EPDG'].notnull()]\n",
        "    dic[a] = df_a['days_grant'].mean().days\n",
        "  return dic"
      ],
      "execution_count": 0,
      "outputs": []
    },
    {
      "cell_type": "code",
      "metadata": {
        "id": "apnlmQp29vp1",
        "colab_type": "code",
        "colab": {}
      },
      "source": [
        "def getListExaminer(df,n):\n",
        "  top_df = df[df['num_case'] > n]\n",
        "  return top_df['examiner'].unique()"
      ],
      "execution_count": 0,
      "outputs": []
    },
    {
      "cell_type": "code",
      "metadata": {
        "id": "zjLGibjgjNvF",
        "colab_type": "code",
        "colab": {}
      },
      "source": [
        "#First value is examiner\n",
        "#Second is mean days for grant patent\n",
        "#Third is max value for granting a patent\n",
        "#Fourth is the min days required for granting a patent\n",
        "#Fifth is the number of case processed by the examiner\n",
        "#Sixth is finally the group_art unit in which the examiner contribute the most\n",
        "#Seventh is the company the most processed by the examiner (might be Boeing, Airbus or Safran due to the number ...)\n",
        "\n",
        "def computeExaminersStats(df):  \n",
        "  all_l = []\n",
        "  all_ex = df[df['examiner'].notnull()]['examiner'].unique()\n",
        "  for ex in all_ex:\n",
        "    if isExaminerCJK(ex) == False :\n",
        "      df_e = df[df['examiner'] == ex]\n",
        "      meanV = df_e['days_grant'].mean().days\n",
        "      maxV = df_e['days_grant'].max().days\n",
        "      minV = df_e['days_grant'].min().days\n",
        "      num_case = df_e.shape[0]\n",
        "      art = df_e['art_unit'].value_counts().keys().tolist()[0]\n",
        "      top_assignee = df_e['norm_assignee'].value_counts().keys().tolist()[0]\n",
        "      percent_assignee = round((df_e['norm_assignee'].value_counts().head(1)[0])/num_case,1)\n",
        "      l = [ex,meanV,maxV,minV,num_case,int(art),top_assignee,percent_assignee]\n",
        "      all_l.append(l)\n",
        "  return pd.DataFrame(all_l, columns=['examiner','avg_for_grant','max_for_grant','min_for_grant','num_case','top_art_unit','top_assignee_processed','assignee_percent'])"
      ],
      "execution_count": 0,
      "outputs": []
    },
    {
      "cell_type": "code",
      "metadata": {
        "id": "F8s_KnJafVmh",
        "colab_type": "code",
        "colab": {}
      },
      "source": [
        "#################### GRAPH FUNCTION #################\n",
        "\n",
        "def getYearFilingForAssignee(assignee,df):\n",
        "  df = getAssigneeDataFrame(assignee,df)\n",
        "  #g = df['EPRD'].dt.year.value_counts().sort_index().plot(kind='bar')\n",
        "  g = sns.barplot(y=df['EPRD'].dt.year.value_counts().sort_index().values, x=df['EPRD'].dt.year.value_counts().sort_index().index)\n",
        "  g.set_xlabel('Year of Filing')\n",
        "  g.set_ylabel('Number of Patent Filed')\n",
        "  g.set_title('Year of Filing for ' + assignee)\n",
        "  return g"
      ],
      "execution_count": 0,
      "outputs": []
    },
    {
      "cell_type": "markdown",
      "metadata": {
        "id": "M1UHKWc4W8ED",
        "colab_type": "text"
      },
      "source": [
        "# Main"
      ]
    },
    {
      "cell_type": "code",
      "metadata": {
        "id": "70wIR2zl2d-i",
        "colab_type": "code",
        "colab": {}
      },
      "source": [
        "####### MAIN SCRIPT #######\n",
        "\n",
        "def applyAllTransformations(df):\n",
        "  df_all = applyPattern(df)\n",
        "  df_all = getArtUnit(df_all)\n",
        "  df_all = transformDate(df_all)\n",
        "  df_all = computeTimeSinceFiling(df_all)\n",
        "  df_all['granted_bool'] = df_all['days_grant'].notnull()\n",
        "\n",
        "  return df_all"
      ],
      "execution_count": 0,
      "outputs": []
    },
    {
      "cell_type": "code",
      "metadata": {
        "id": "-0_5sfUUFVaa",
        "colab_type": "code",
        "colab": {}
      },
      "source": [
        "df_all = applyAllTransformations(df_part_merged)"
      ],
      "execution_count": 0,
      "outputs": []
    },
    {
      "cell_type": "code",
      "metadata": {
        "id": "E92Xbli2YPhA",
        "colab_type": "code",
        "colab": {
          "base_uri": "https://localhost:8080/",
          "height": 34
        },
        "outputId": "5e8fba02-0cfe-4988-b516-b89fe22dad6c"
      },
      "source": [
        "df_all['ACT.STATUS'][74825] \n",
        "#74825 100696 110658"
      ],
      "execution_count": 159,
      "outputs": [
        {
          "output_type": "execute_result",
          "data": {
            "text/plain": [
              "'(US9840063B2)|GRANTED|(FR2995244B1)|GRANTED|(CN103660309BB)|GRANTED'"
            ]
          },
          "metadata": {
            "tags": []
          },
          "execution_count": 159
        }
      ]
    },
    {
      "cell_type": "markdown",
      "metadata": {
        "id": "wEo7TGgvFoDY",
        "colab_type": "text"
      },
      "source": [
        "# Visualisation des données\n"
      ]
    },
    {
      "cell_type": "code",
      "metadata": {
        "id": "jTPNUWco5eRq",
        "colab_type": "code",
        "outputId": "f7565b25-57ca-4237-f044-8cdb3641bae4",
        "colab": {
          "base_uri": "https://localhost:8080/",
          "height": 382
        }
      },
      "source": [
        "list_top_prefix = [getTopPrefixForAssignee(assignee,0,df) for assignee in assignees_list]\n",
        "#sns.distplot( y=list_top_prefix[0][0], x=df_l_exam['prefix_art'] )\n",
        "sns.set(style=\"ticks\", color_codes=True)\n",
        "fig_sns = sns.catplot(x=\"norm_assignee\", y=\"prefix_art\", data=df[df['prefix_art'].notnull()],height = 5,aspect=3)\n",
        "plt.xlabel('Technical Centers')\n",
        "plt.ylabel('Assignees')"
      ],
      "execution_count": 16,
      "outputs": [
        {
          "output_type": "execute_result",
          "data": {
            "text/plain": [
              "Text(12.334999999999994, 0.5, 'Assignees')"
            ]
          },
          "metadata": {
            "tags": []
          },
          "execution_count": 16
        },
        {
          "output_type": "display_data",
          "data": {
            "image/png": "[encoded data removed]",
            "text/plain": [
              "<Figure size 1080x360 with 1 Axes>"
            ]
          },
          "metadata": {
            "tags": []
          }
        }
      ]
    },
    {
      "cell_type": "code",
      "metadata": {
        "id": "lcb0_jFx6b70",
        "colab_type": "code",
        "outputId": "34df9c9e-238f-42c4-80c9-f545f2e02eca",
        "colab": {
          "base_uri": "https://localhost:8080/",
          "height": 285
        }
      },
      "source": [
        "df['norm_assignee'].value_counts(dropna=True).head(30).plot(kind='barh')"
      ],
      "execution_count": 17,
      "outputs": [
        {
          "output_type": "execute_result",
          "data": {
            "text/plain": [
              "<matplotlib.axes._subplots.AxesSubplot at 0x7f465d254198>"
            ]
          },
          "metadata": {
            "tags": []
          },
          "execution_count": 17
        },
        {
          "output_type": "display_data",
          "data": {
            "image/png": "[encoded data removed]",
            "text/plain": [
              "<Figure size 432x288 with 1 Axes>"
            ]
          },
          "metadata": {
            "tags": []
          }
        }
      ]
    },
    {
      "cell_type": "code",
      "metadata": {
        "id": "0_5JguRc6NJc",
        "colab_type": "code",
        "outputId": "c9921ea5-55c9-4729-e1d9-4e93c30c4daa",
        "colab": {
          "base_uri": "https://localhost:8080/",
          "height": 285
        }
      },
      "source": [
        "df['prefix_art'].value_counts(dropna=False).plot(kind='barh')"
      ],
      "execution_count": 18,
      "outputs": [
        {
          "output_type": "execute_result",
          "data": {
            "text/plain": [
              "<matplotlib.axes._subplots.AxesSubplot at 0x7f465d1655c0>"
            ]
          },
          "metadata": {
            "tags": []
          },
          "execution_count": 18
        },
        {
          "output_type": "display_data",
          "data": {
            "image/png": "[encoded data removed]",
            "text/plain": [
              "<Figure size 432x288 with 1 Axes>"
            ]
          },
          "metadata": {
            "tags": []
          }
        }
      ]
    },
    {
      "cell_type": "code",
      "metadata": {
        "id": "GCqp7nN-6OO2",
        "colab_type": "code",
        "outputId": "d6e6a1ce-bc7d-4a22-9a1d-ba24e0029be3",
        "colab": {
          "base_uri": "https://localhost:8080/",
          "height": 365
        }
      },
      "source": [
        "from  matplotlib.ticker import PercentFormatter\n",
        "g = sns.catplot(\"granted_bool\", col=\"norm_assignee\", col_wrap=6,data=df, kind=\"count\", height=2.5, aspect=1.05,palette=\"Blues\",saturation=.5) \n",
        "\n",
        "plt.show()"
      ],
      "execution_count": 19,
      "outputs": [
        {
          "output_type": "display_data",
          "data": {
            "image/png": "[encoded data removed]",
            "text/plain": [
              "<Figure size 1134x360 with 12 Axes>"
            ]
          },
          "metadata": {
            "tags": []
          }
        }
      ]
    },
    {
      "cell_type": "code",
      "metadata": {
        "id": "pE0eXHFQKB_T",
        "colab_type": "code",
        "outputId": "63bea7f5-9dcc-4165-fa7a-ad5a936406f4",
        "colab": {
          "base_uri": "https://localhost:8080/",
          "height": 285
        }
      },
      "source": [
        "df['art_unit'].value_counts().head(20).plot(kind='barh')\n",
        "df['art_unit'].value_counts().shape"
      ],
      "execution_count": 20,
      "outputs": [
        {
          "output_type": "execute_result",
          "data": {
            "text/plain": [
              "(453,)"
            ]
          },
          "metadata": {
            "tags": []
          },
          "execution_count": 20
        },
        {
          "output_type": "display_data",
          "data": {
            "image/png": "[encoded data removed]",
            "text/plain": [
              "<Figure size 432x288 with 1 Axes>"
            ]
          },
          "metadata": {
            "tags": []
          }
        }
      ]
    },
    {
      "cell_type": "code",
      "metadata": {
        "id": "RjuirMsnP0Vw",
        "colab_type": "code",
        "outputId": "caac3e3d-102d-4f38-93b2-33d03aabb5f3",
        "colab": {
          "base_uri": "https://localhost:8080/",
          "height": 303
        }
      },
      "source": [
        "df_thales = df[df['norm_assignee'] == 'THALES']\n",
        "df_t = df_thales['art_unit'].value_counts().head(30).plot(kind='bar')\n",
        "df_t_sum = df_thales['art_unit'].value_counts().head(20).sum()\n",
        "df_t_sum"
      ],
      "execution_count": 21,
      "outputs": [
        {
          "output_type": "execute_result",
          "data": {
            "text/plain": [
              "242"
            ]
          },
          "metadata": {
            "tags": []
          },
          "execution_count": 21
        },
        {
          "output_type": "display_data",
          "data": {
            "image/png": "[encoded data removed]",
            "text/plain": [
              "<Figure size 432x288 with 1 Axes>"
            ]
          },
          "metadata": {
            "tags": []
          }
        }
      ]
    },
    {
      "cell_type": "code",
      "metadata": {
        "id": "C0VhsWKATA99",
        "colab_type": "code",
        "outputId": "563a1515-21df-4c70-dcf6-541179493135",
        "colab": {
          "base_uri": "https://localhost:8080/",
          "height": 170
        }
      },
      "source": [
        "df_thales['art_unit'].value_counts().describe()"
      ],
      "execution_count": 22,
      "outputs": [
        {
          "output_type": "execute_result",
          "data": {
            "text/plain": [
              "count    140.000000\n",
              "mean       3.071429\n",
              "std        4.679118\n",
              "min        1.000000\n",
              "25%        1.000000\n",
              "50%        1.000000\n",
              "75%        3.000000\n",
              "max       27.000000\n",
              "Name: art_unit, dtype: float64"
            ]
          },
          "metadata": {
            "tags": []
          },
          "execution_count": 22
        }
      ]
    },
    {
      "cell_type": "code",
      "metadata": {
        "id": "oY7TKJRGQHrY",
        "colab_type": "code",
        "outputId": "1eb39625-8d86-4dba-ffe3-65b2f3e97712",
        "colab": {
          "base_uri": "https://localhost:8080/",
          "height": 421
        }
      },
      "source": [
        "df_c = df[df['norm_assignee'] == 'COLLINS']\n",
        "df_collins = df_c['art_unit'].value_counts().head(20).plot(kind='barh')\n",
        "df_c['art_unit'].value_counts().describe()"
      ],
      "execution_count": 23,
      "outputs": [
        {
          "output_type": "execute_result",
          "data": {
            "text/plain": [
              "count    169.000000\n",
              "mean       3.804734\n",
              "std        6.465364\n",
              "min        1.000000\n",
              "25%        1.000000\n",
              "50%        2.000000\n",
              "75%        3.000000\n",
              "max       50.000000\n",
              "Name: art_unit, dtype: float64"
            ]
          },
          "metadata": {
            "tags": []
          },
          "execution_count": 23
        },
        {
          "output_type": "display_data",
          "data": {
            "image/png": "[encoded data removed]",
            "text/plain": [
              "<Figure size 432x288 with 1 Axes>"
            ]
          },
          "metadata": {
            "tags": []
          }
        }
      ]
    },
    {
      "cell_type": "code",
      "metadata": {
        "id": "JH9x4Ug8UqKf",
        "colab_type": "code",
        "colab": {}
      },
      "source": [
        "#Les art units avec les meilleurs stats\n",
        "#Les examinateurs avec les meilleurs stats dans un même art unit\n",
        "#moyenne générale dans un art unit \n",
        "#calcul du temps depuis la première prio \n",
        "#temps moyen pour délivrer brevet par acteur\n",
        "#examinateur meme si pas delivré ?\n",
        "#stat par examinateur"
      ],
      "execution_count": 0,
      "outputs": []
    },
    {
      "cell_type": "code",
      "metadata": {
        "id": "bJIb49mvYftp",
        "colab_type": "code",
        "colab": {}
      },
      "source": [
        "df_dic = pd.DataFrame([dic_avg]).T\n",
        "df_dic = df_dic.rename(columns={df_dic.columns[0]:'avg_day'})"
      ],
      "execution_count": 0,
      "outputs": []
    },
    {
      "cell_type": "code",
      "metadata": {
        "id": "4RlRyxQCc9sp",
        "colab_type": "code",
        "outputId": "4f186fc7-2685-47f6-927d-e7a6d832c7b9",
        "colab": {
          "base_uri": "https://localhost:8080/",
          "height": 351
        }
      },
      "source": [
        "df_dic['avg_day'].sort_values(ascending=False).plot(kind='bar')"
      ],
      "execution_count": 30,
      "outputs": [
        {
          "output_type": "execute_result",
          "data": {
            "text/plain": [
              "<matplotlib.axes._subplots.AxesSubplot at 0x7f4659fa3630>"
            ]
          },
          "metadata": {
            "tags": []
          },
          "execution_count": 30
        },
        {
          "output_type": "display_data",
          "data": {
            "image/png": "[encoded data removed]",
            "text/plain": [
              "<Figure size 432x288 with 1 Axes>"
            ]
          },
          "metadata": {
            "tags": []
          }
        }
      ]
    },
    {
      "cell_type": "code",
      "metadata": {
        "id": "b33A0UalTyYS",
        "colab_type": "code",
        "outputId": "5240be47-2cba-4db0-8b23-fc898364c171",
        "colab": {
          "base_uri": "https://localhost:8080/",
          "height": 319
        }
      },
      "source": [
        "th = getYearFilingForAssignee('BOEING',df)"
      ],
      "execution_count": 32,
      "outputs": [
        {
          "output_type": "display_data",
          "data": {
            "image/png": "[encoded data removed]",
            "text/plain": [
              "<Figure size 432x288 with 1 Axes>"
            ]
          },
          "metadata": {
            "tags": []
          }
        }
      ]
    },
    {
      "cell_type": "code",
      "metadata": {
        "id": "A8uxDarbWpaY",
        "colab_type": "code",
        "colab": {}
      },
      "source": [
        "df['priority_year'] =  df['EPRD'].dt.year"
      ],
      "execution_count": 0,
      "outputs": []
    },
    {
      "cell_type": "code",
      "metadata": {
        "id": "Q2DZleoVYE7q",
        "colab_type": "code",
        "outputId": "17d51ba0-bf45-474c-d40f-0ea7b64cfc9b",
        "colab": {
          "base_uri": "https://localhost:8080/",
          "height": 319
        }
      },
      "source": [
        "ge = getYearFilingForAssignee('GE AVIATION',df)"
      ],
      "execution_count": 34,
      "outputs": [
        {
          "output_type": "display_data",
          "data": {
            "image/png": "[encoded data removed]",
            "text/plain": [
              "<Figure size 432x288 with 1 Axes>"
            ]
          },
          "metadata": {
            "tags": []
          }
        }
      ]
    },
    {
      "cell_type": "code",
      "metadata": {
        "id": "K6_gYaTBYK-j",
        "colab_type": "code",
        "outputId": "3d291196-406b-4cbc-e7ce-2c97535119e9",
        "colab": {
          "base_uri": "https://localhost:8080/",
          "height": 493
        }
      },
      "source": [
        "exam_thales = df_thales['examiner'].value_counts()\n",
        "exam_thales_2 = exam_thales[exam_thales>2]\n",
        "exam_thales_2"
      ],
      "execution_count": 35,
      "outputs": [
        {
          "output_type": "execute_result",
          "data": {
            "text/plain": [
              " Tarcza Thomas          14\n",
              " Cheung Calvin           7\n",
              " Cheung Mary             7\n",
              " Black Thomas G          6\n",
              " Olszewski John R        6\n",
              " Nguyen Tan Q            6\n",
              " Edwards Jerrah          5\n",
              " Sotomayor John B        4\n",
              " Phan Dao                4\n",
              " Khatib Rami             4\n",
              " Nguyen John Q           4\n",
              " Trammell James          4\n",
              " Patel Harshad R         4\n",
              " Camby Richard           4\n",
              " Bruckart Benjamin R     4\n",
              " Ratcliffe Luke          4\n",
              " Nguyen Tai T            3\n",
              " Nguyen Sang             3\n",
              " Badii Behrang           3\n",
              " Brainard Timothy A      3\n",
              " Marc-Coleman Marthe     3\n",
              " Lin Abby Y              3\n",
              " Tran Khoi               3\n",
              " Shafi Muhammad          3\n",
              " Gregory Bernarr         3\n",
              " Barker Matthew M        3\n",
              " Gregory Bernarr E       3\n",
              "Name: examiner, dtype: int64"
            ]
          },
          "metadata": {
            "tags": []
          },
          "execution_count": 35
        }
      ]
    },
    {
      "cell_type": "code",
      "metadata": {
        "id": "y7ICPHLXamxi",
        "colab_type": "code",
        "outputId": "f7216394-8096-42f9-dfe0-6f2904ad83bd",
        "colab": {
          "base_uri": "https://localhost:8080/",
          "height": 221
        }
      },
      "source": [
        "#peut on avoir un examiner si pas granted ? \n",
        "df_b_exam = df_boeing[df_boeing['granted_bool'] == False]\n",
        "\n",
        "print(df_b_exam[df_b_exam['FD'].notnull()]['FD'])\n"
      ],
      "execution_count": 36,
      "outputs": [
        {
          "output_type": "stream",
          "text": [
            "329      (US20180362149)|Provisional Appl: US62/519,693...\n",
            "543      (US20190241247)|Provisional Appl: US62/628,254...\n",
            "761      (US20190144112)|CIP of: US15/815,689 FDD=2017-...\n",
            "1426     (US20190048959)|Continuation of: US15/867,940 ...\n",
            "1796     (US20190080615)|CIP of: US15/703,053 FDD=2017-...\n",
            "                               ...                        \n",
            "14507    (US20190270296)|Provisional Appl: US62/638,055...\n",
            "14509    (US20190241752)|Provisional Appl: US62/625,785...\n",
            "14510    (US20190240635)|Provisional Appl: US62/625,792...\n",
            "14516    (US20190002739)|Provisional Appl: US62/527,432...\n",
            "14828    (US20180255455)|CIP of: US15/451,291 FDD=2017-...\n",
            "Name: FD, Length: 72, dtype: object\n"
          ],
          "name": "stdout"
        }
      ]
    },
    {
      "cell_type": "code",
      "metadata": {
        "id": "pSWTwkk5be6T",
        "colab_type": "code",
        "outputId": "800dde9d-fbe3-4883-ca83-318d8324ed9f",
        "colab": {
          "base_uri": "https://localhost:8080/",
          "height": 34
        }
      },
      "source": [
        "print(df_b_exam['FD'][1796])"
      ],
      "execution_count": 37,
      "outputs": [
        {
          "output_type": "stream",
          "text": [
            "(US20190080615)|CIP of: US15/703,053 FDD=2017-09-13 [2017US-15703053]\n"
          ],
          "name": "stdout"
        }
      ]
    },
    {
      "cell_type": "code",
      "metadata": {
        "id": "s3Z-2Q26ePpf",
        "colab_type": "code",
        "outputId": "53c42268-5cff-4770-bf83-33c1b6ceafa9",
        "colab": {
          "base_uri": "https://localhost:8080/",
          "height": 233
        }
      },
      "source": [
        "all_ex = df[df['examiner'].notnull()]['examiner'].unique()\n",
        "all_l = []\n",
        "all_ex[0]\n",
        "df_e = df[df['examiner'] == all_ex[0]]\n",
        "df_e"
      ],
      "execution_count": 38,
      "outputs": [
        {
          "output_type": "execute_result",
          "data": {
            "text/html": [
              "<div>\n",
              "<style scoped>\n",
              "    .dataframe tbody tr th:only-of-type {\n",
              "        vertical-align: middle;\n",
              "    }\n",
              "\n",
              "    .dataframe tbody tr th {\n",
              "        vertical-align: top;\n",
              "    }\n",
              "\n",
              "    .dataframe thead th {\n",
              "        text-align: right;\n",
              "    }\n",
              "</style>\n",
              "<table border=\"1\" class=\"dataframe\">\n",
              "  <thead>\n",
              "    <tr style=\"text-align: right;\">\n",
              "      <th></th>\n",
              "      <th>PR.§1</th>\n",
              "      <th>AP.§1</th>\n",
              "      <th>PN.PN</th>\n",
              "      <th>FAN</th>\n",
              "      <th>FAMILY_PN</th>\n",
              "      <th>EPRD</th>\n",
              "      <th>EAPD</th>\n",
              "      <th>EPD</th>\n",
              "      <th>EPDG</th>\n",
              "      <th>ACT.EED</th>\n",
              "      <th>TI</th>\n",
              "      <th>AB</th>\n",
              "      <th>PA</th>\n",
              "      <th>IN</th>\n",
              "      <th>RP</th>\n",
              "      <th>ADB</th>\n",
              "      <th>ICLM</th>\n",
              "      <th>OBJ</th>\n",
              "      <th>KEYW</th>\n",
              "      <th>KWIC</th>\n",
              "      <th>PCL</th>\n",
              "      <th>ACT.STATUS</th>\n",
              "      <th>ACT</th>\n",
              "      <th>DS</th>\n",
              "      <th>EPRC</th>\n",
              "      <th>NO</th>\n",
              "      <th>FD</th>\n",
              "      <th>days_grant</th>\n",
              "      <th>art_unit</th>\n",
              "      <th>extension_days</th>\n",
              "      <th>examiner</th>\n",
              "      <th>draw_nb</th>\n",
              "      <th>clms_nb</th>\n",
              "      <th>clean_title</th>\n",
              "      <th>clean_num</th>\n",
              "      <th>prefix_art</th>\n",
              "      <th>suffix_art</th>\n",
              "      <th>norm_assignee</th>\n",
              "      <th>granted_bool</th>\n",
              "      <th>days_filing</th>\n",
              "      <th>priority_year</th>\n",
              "    </tr>\n",
              "  </thead>\n",
              "  <tbody>\n",
              "    <tr>\n",
              "      <th>10</th>\n",
              "      <td>2016FR-0001112</td>\n",
              "      <td>US15/652,801|FR1601112|CN201710585460</td>\n",
              "      <td>US10453234|FR3054314|US20180075632|CN107628258...</td>\n",
              "      <td>78601936</td>\n",
              "      <td>US10453234          B2 2019-10-22 [US10453234]...</td>\n",
              "      <td>2016-07-19</td>\n",
              "      <td>2016-07-19</td>\n",
              "      <td>2018-01-26</td>\n",
              "      <td>2018-08-31</td>\n",
              "      <td>(US10453234B2)|2037-07-18|(FR3054314B1)|2036-0...</td>\n",
              "      <td>(US10453234)|System for displaying avionic dat...</td>\n",
              "      <td>(US10453234)|The present invention relates to ...</td>\n",
              "      <td>THALES</td>\n",
              "      <td>Baron Luc|Garnavault Christophe|Aymeric Bruno|...</td>\n",
              "      <td>(US10453234)|Pearne &amp; Gordon LLP|(FR3054314)|C...</td>\n",
              "      <td>(US10453234)|Other devices typically make it p...</td>\n",
              "      <td>(US10453234)|1. A system for displaying avioni...</td>\n",
              "      <td>(US10453234)|The present invention relates to ...</td>\n",
              "      <td>(US10453234)|DISPLAY FORMAT(100,96)|AIRCRAFT(1...</td>\n",
              "      <td>AB|(US10453234)|The present invention relates ...</td>\n",
              "      <td>NaN</td>\n",
              "      <td>(US10453234B2)|GRANTED|(FR3054314B1)|GRANTED|(...</td>\n",
              "      <td>(US10453234)|LEGAL DETAILS FOR US20180075632|A...</td>\n",
              "      <td>NaN</td>\n",
              "      <td>FR</td>\n",
              "      <td>(US20180075632)|Number of Drawings: NDR=4||Num...</td>\n",
              "      <td>(US10453234)|Previous publication: US201800756...</td>\n",
              "      <td>773 days</td>\n",
              "      <td>2611</td>\n",
              "      <td>NaN</td>\n",
              "      <td>Wu Yanna</td>\n",
              "      <td>4</td>\n",
              "      <td>10</td>\n",
              "      <td>System for displaying avionic data on at least...</td>\n",
              "      <td>US10453234</td>\n",
              "      <td>26</td>\n",
              "      <td>11</td>\n",
              "      <td>THALES</td>\n",
              "      <td>True</td>\n",
              "      <td>1203 days 17:46:08.665553</td>\n",
              "      <td>2016</td>\n",
              "    </tr>\n",
              "    <tr>\n",
              "      <th>11794</th>\n",
              "      <td>2016US-15185785</td>\n",
              "      <td>US15/185,785</td>\n",
              "      <td>US10417803|US20170365086</td>\n",
              "      <td>78089253</td>\n",
              "      <td>US10417803          B2 2019-09-17 [US10417803]...</td>\n",
              "      <td>2016-06-17</td>\n",
              "      <td>2016-06-17</td>\n",
              "      <td>2017-12-21</td>\n",
              "      <td>2019-09-17</td>\n",
              "      <td>2036-06-17</td>\n",
              "      <td>(US10417803)|Multiple-pass rendering of a digi...</td>\n",
              "      <td>(US10417803)|A method is provided for renderin...</td>\n",
              "      <td>BOEING</td>\n",
              "      <td>FLOYD JOSEPH FRANK|EAMES PATRICK JAMES|HADLEY ...</td>\n",
              "      <td>(US10417803)|Womble Bond Dickinson (US) LLP</td>\n",
              "      <td>(US10417803)|Display of an aircraft and its pa...</td>\n",
              "      <td>(US10417803)|1. An apparatus for rendering a s...</td>\n",
              "      <td>(US10417803)|The present disclosure relates ge...</td>\n",
              "      <td>(US10417803)|PASS RENDERING(100,49)|SCENE(100,...</td>\n",
              "      <td>ADB|(US10417803)|Display of an aircraft and it...</td>\n",
              "      <td>NaN</td>\n",
              "      <td>GRANTED</td>\n",
              "      <td>(US10417803)|LEGAL DETAILS FOR US20170365086|A...</td>\n",
              "      <td>NaN</td>\n",
              "      <td>US</td>\n",
              "      <td>(US20170365086)|Number of Drawings: NDR=6||Num...</td>\n",
              "      <td>(US10417803)|Previous publication: US201703650...</td>\n",
              "      <td>1187 days</td>\n",
              "      <td>2611</td>\n",
              "      <td>NaN</td>\n",
              "      <td>Wu Yanna</td>\n",
              "      <td>6</td>\n",
              "      <td>24</td>\n",
              "      <td>Multiple-pass rendering of a digital three-dim...</td>\n",
              "      <td>US10417803</td>\n",
              "      <td>26</td>\n",
              "      <td>11</td>\n",
              "      <td>BOEING</td>\n",
              "      <td>True</td>\n",
              "      <td>1235 days 17:46:08.665553</td>\n",
              "      <td>2016</td>\n",
              "    </tr>\n",
              "  </tbody>\n",
              "</table>\n",
              "</div>"
            ],
            "text/plain": [
              "                 PR.§1  ... priority_year\n",
              "10      2016FR-0001112  ...          2016\n",
              "11794  2016US-15185785  ...          2016\n",
              "\n",
              "[2 rows x 41 columns]"
            ]
          },
          "metadata": {
            "tags": []
          },
          "execution_count": 38
        }
      ]
    },
    {
      "cell_type": "code",
      "metadata": {
        "id": "1vEWfq_ltsaA",
        "colab_type": "code",
        "outputId": "a24aa9f8-ec64-449d-c5e9-709f2872ebda",
        "colab": {
          "base_uri": "https://localhost:8080/",
          "height": 359
        }
      },
      "source": [
        "df_exam_s.sample(10)"
      ],
      "execution_count": 42,
      "outputs": [
        {
          "output_type": "execute_result",
          "data": {
            "text/html": [
              "<div>\n",
              "<style scoped>\n",
              "    .dataframe tbody tr th:only-of-type {\n",
              "        vertical-align: middle;\n",
              "    }\n",
              "\n",
              "    .dataframe tbody tr th {\n",
              "        vertical-align: top;\n",
              "    }\n",
              "\n",
              "    .dataframe thead th {\n",
              "        text-align: right;\n",
              "    }\n",
              "</style>\n",
              "<table border=\"1\" class=\"dataframe\">\n",
              "  <thead>\n",
              "    <tr style=\"text-align: right;\">\n",
              "      <th></th>\n",
              "      <th>examiner</th>\n",
              "      <th>avg_for_grant</th>\n",
              "      <th>max_for_grant</th>\n",
              "      <th>min_for_grant</th>\n",
              "      <th>num_case</th>\n",
              "      <th>top_art_unit</th>\n",
              "      <th>top_assignee_processed</th>\n",
              "      <th>assignee_percent</th>\n",
              "    </tr>\n",
              "  </thead>\n",
              "  <tbody>\n",
              "    <tr>\n",
              "      <th>1759</th>\n",
              "      <td>Rogers Adam D</td>\n",
              "      <td>741</td>\n",
              "      <td>764</td>\n",
              "      <td>718</td>\n",
              "      <td>2</td>\n",
              "      <td>3656</td>\n",
              "      <td>SAFRAN</td>\n",
              "      <td>0.5</td>\n",
              "    </tr>\n",
              "    <tr>\n",
              "      <th>924</th>\n",
              "      <td>Siconolfi Robert A</td>\n",
              "      <td>1286</td>\n",
              "      <td>1729</td>\n",
              "      <td>712</td>\n",
              "      <td>4</td>\n",
              "      <td>3657</td>\n",
              "      <td>HONEYWELL</td>\n",
              "      <td>0.5</td>\n",
              "    </tr>\n",
              "    <tr>\n",
              "      <th>1544</th>\n",
              "      <td>Egloff Peter</td>\n",
              "      <td>2722</td>\n",
              "      <td>2722</td>\n",
              "      <td>2722</td>\n",
              "      <td>1</td>\n",
              "      <td>3715</td>\n",
              "      <td>BOEING</td>\n",
              "      <td>1.0</td>\n",
              "    </tr>\n",
              "    <tr>\n",
              "      <th>1857</th>\n",
              "      <td>Deodhar Omkar</td>\n",
              "      <td>760</td>\n",
              "      <td>760</td>\n",
              "      <td>760</td>\n",
              "      <td>1</td>\n",
              "      <td>3714</td>\n",
              "      <td>AIRBUS</td>\n",
              "      <td>1.0</td>\n",
              "    </tr>\n",
              "    <tr>\n",
              "      <th>2258</th>\n",
              "      <td>Ip Paul</td>\n",
              "      <td>805</td>\n",
              "      <td>805</td>\n",
              "      <td>805</td>\n",
              "      <td>1</td>\n",
              "      <td>2837</td>\n",
              "      <td>SAFRAN</td>\n",
              "      <td>1.0</td>\n",
              "    </tr>\n",
              "    <tr>\n",
              "      <th>1808</th>\n",
              "      <td>Kassa Zewdu</td>\n",
              "      <td>738</td>\n",
              "      <td>738</td>\n",
              "      <td>738</td>\n",
              "      <td>1</td>\n",
              "      <td>2632</td>\n",
              "      <td>AIRBUS</td>\n",
              "      <td>1.0</td>\n",
              "    </tr>\n",
              "    <tr>\n",
              "      <th>1486</th>\n",
              "      <td>Valone Thomas</td>\n",
              "      <td>865</td>\n",
              "      <td>865</td>\n",
              "      <td>865</td>\n",
              "      <td>1</td>\n",
              "      <td>2858</td>\n",
              "      <td>BOEING</td>\n",
              "      <td>1.0</td>\n",
              "    </tr>\n",
              "    <tr>\n",
              "      <th>722</th>\n",
              "      <td>Lee Katarzyna Wyrozebski</td>\n",
              "      <td>1226</td>\n",
              "      <td>1727</td>\n",
              "      <td>585</td>\n",
              "      <td>5</td>\n",
              "      <td>1746</td>\n",
              "      <td>BOEING</td>\n",
              "      <td>0.8</td>\n",
              "    </tr>\n",
              "    <tr>\n",
              "      <th>1998</th>\n",
              "      <td>Srivastava Vivek</td>\n",
              "      <td>1355</td>\n",
              "      <td>1355</td>\n",
              "      <td>1355</td>\n",
              "      <td>1</td>\n",
              "      <td>2449</td>\n",
              "      <td>HONEYWELL</td>\n",
              "      <td>1.0</td>\n",
              "    </tr>\n",
              "    <tr>\n",
              "      <th>1761</th>\n",
              "      <td>Ryan Patrick</td>\n",
              "      <td>1074</td>\n",
              "      <td>1413</td>\n",
              "      <td>735</td>\n",
              "      <td>2</td>\n",
              "      <td>1726</td>\n",
              "      <td>BAE SYSTEMS</td>\n",
              "      <td>0.5</td>\n",
              "    </tr>\n",
              "  </tbody>\n",
              "</table>\n",
              "</div>"
            ],
            "text/plain": [
              "                       examiner  ...  assignee_percent\n",
              "1759              Rogers Adam D  ...               0.5\n",
              "924          Siconolfi Robert A  ...               0.5\n",
              "1544               Egloff Peter  ...               1.0\n",
              "1857              Deodhar Omkar  ...               1.0\n",
              "2258                    Ip Paul  ...               1.0\n",
              "1808                Kassa Zewdu  ...               1.0\n",
              "1486              Valone Thomas  ...               1.0\n",
              "722    Lee Katarzyna Wyrozebski  ...               0.8\n",
              "1998           Srivastava Vivek  ...               1.0\n",
              "1761               Ryan Patrick  ...               0.5\n",
              "\n",
              "[10 rows x 8 columns]"
            ]
          },
          "metadata": {
            "tags": []
          },
          "execution_count": 42
        }
      ]
    },
    {
      "cell_type": "code",
      "metadata": {
        "id": "JR3WlMc4w4lm",
        "colab_type": "code",
        "outputId": "3e0d7886-cce6-4156-80bc-058e0ed1790a",
        "colab": {
          "base_uri": "https://localhost:8080/",
          "height": 173
        }
      },
      "source": [
        "df_exam_s['num_case'] = df_exam_s['num_case'].astype(int)\n",
        "df_exam_s['prefix_art'] = round(df_exam_s['top_art_unit']/100,0)\n",
        "df_exam_s.sample(4)"
      ],
      "execution_count": 43,
      "outputs": [
        {
          "output_type": "execute_result",
          "data": {
            "text/html": [
              "<div>\n",
              "<style scoped>\n",
              "    .dataframe tbody tr th:only-of-type {\n",
              "        vertical-align: middle;\n",
              "    }\n",
              "\n",
              "    .dataframe tbody tr th {\n",
              "        vertical-align: top;\n",
              "    }\n",
              "\n",
              "    .dataframe thead th {\n",
              "        text-align: right;\n",
              "    }\n",
              "</style>\n",
              "<table border=\"1\" class=\"dataframe\">\n",
              "  <thead>\n",
              "    <tr style=\"text-align: right;\">\n",
              "      <th></th>\n",
              "      <th>examiner</th>\n",
              "      <th>avg_for_grant</th>\n",
              "      <th>max_for_grant</th>\n",
              "      <th>min_for_grant</th>\n",
              "      <th>num_case</th>\n",
              "      <th>top_art_unit</th>\n",
              "      <th>top_assignee_processed</th>\n",
              "      <th>assignee_percent</th>\n",
              "      <th>prefix_art</th>\n",
              "    </tr>\n",
              "  </thead>\n",
              "  <tbody>\n",
              "    <tr>\n",
              "      <th>1127</th>\n",
              "      <td>Schwenning Lynn E</td>\n",
              "      <td>1490</td>\n",
              "      <td>1490</td>\n",
              "      <td>1490</td>\n",
              "      <td>1</td>\n",
              "      <td>3652</td>\n",
              "      <td>BOEING</td>\n",
              "      <td>1.0</td>\n",
              "      <td>37.0</td>\n",
              "    </tr>\n",
              "    <tr>\n",
              "      <th>1431</th>\n",
              "      <td>Minskey Jacob Thomas</td>\n",
              "      <td>833</td>\n",
              "      <td>833</td>\n",
              "      <td>833</td>\n",
              "      <td>1</td>\n",
              "      <td>1741</td>\n",
              "      <td>BOEING</td>\n",
              "      <td>1.0</td>\n",
              "      <td>17.0</td>\n",
              "    </tr>\n",
              "    <tr>\n",
              "      <th>2191</th>\n",
              "      <td>Kotter Kip T</td>\n",
              "      <td>746</td>\n",
              "      <td>746</td>\n",
              "      <td>746</td>\n",
              "      <td>1</td>\n",
              "      <td>3617</td>\n",
              "      <td>SAFRAN</td>\n",
              "      <td>1.0</td>\n",
              "      <td>36.0</td>\n",
              "    </tr>\n",
              "    <tr>\n",
              "      <th>437</th>\n",
              "      <td>Fleming Fritz M</td>\n",
              "      <td>1300</td>\n",
              "      <td>1905</td>\n",
              "      <td>768</td>\n",
              "      <td>10</td>\n",
              "      <td>2836</td>\n",
              "      <td>SAFRAN</td>\n",
              "      <td>0.7</td>\n",
              "      <td>28.0</td>\n",
              "    </tr>\n",
              "  </tbody>\n",
              "</table>\n",
              "</div>"
            ],
            "text/plain": [
              "                   examiner  avg_for_grant  ...  assignee_percent  prefix_art\n",
              "1127      Schwenning Lynn E           1490  ...               1.0        37.0\n",
              "1431   Minskey Jacob Thomas            833  ...               1.0        17.0\n",
              "2191           Kotter Kip T            746  ...               1.0        36.0\n",
              "437         Fleming Fritz M           1300  ...               0.7        28.0\n",
              "\n",
              "[4 rows x 9 columns]"
            ]
          },
          "metadata": {
            "tags": []
          },
          "execution_count": 43
        }
      ]
    },
    {
      "cell_type": "code",
      "metadata": {
        "id": "ws8MiXPC41ep",
        "colab_type": "code",
        "colab": {}
      },
      "source": [
        "df_high_exam = df_exam_s[df_exam_s['num_case']>4]"
      ],
      "execution_count": 0,
      "outputs": []
    },
    {
      "cell_type": "code",
      "metadata": {
        "id": "Cz-CZeqe5Nco",
        "colab_type": "code",
        "outputId": "e000c4d3-48b5-4261-d45d-09605d637af4",
        "colab": {
          "base_uri": "https://localhost:8080/",
          "height": 419
        }
      },
      "source": [
        "df_high_exam"
      ],
      "execution_count": 45,
      "outputs": [
        {
          "output_type": "execute_result",
          "data": {
            "text/html": [
              "<div>\n",
              "<style scoped>\n",
              "    .dataframe tbody tr th:only-of-type {\n",
              "        vertical-align: middle;\n",
              "    }\n",
              "\n",
              "    .dataframe tbody tr th {\n",
              "        vertical-align: top;\n",
              "    }\n",
              "\n",
              "    .dataframe thead th {\n",
              "        text-align: right;\n",
              "    }\n",
              "</style>\n",
              "<table border=\"1\" class=\"dataframe\">\n",
              "  <thead>\n",
              "    <tr style=\"text-align: right;\">\n",
              "      <th></th>\n",
              "      <th>examiner</th>\n",
              "      <th>avg_for_grant</th>\n",
              "      <th>max_for_grant</th>\n",
              "      <th>min_for_grant</th>\n",
              "      <th>num_case</th>\n",
              "      <th>top_art_unit</th>\n",
              "      <th>top_assignee_processed</th>\n",
              "      <th>assignee_percent</th>\n",
              "      <th>prefix_art</th>\n",
              "    </tr>\n",
              "  </thead>\n",
              "  <tbody>\n",
              "    <tr>\n",
              "      <th>1</th>\n",
              "      <td>Cheung Mary</td>\n",
              "      <td>796</td>\n",
              "      <td>1691</td>\n",
              "      <td>272</td>\n",
              "      <td>64</td>\n",
              "      <td>3667</td>\n",
              "      <td>AIRBUS</td>\n",
              "      <td>0.3</td>\n",
              "      <td>37.0</td>\n",
              "    </tr>\n",
              "    <tr>\n",
              "      <th>2</th>\n",
              "      <td>Cheung Calvin</td>\n",
              "      <td>971</td>\n",
              "      <td>1652</td>\n",
              "      <td>518</td>\n",
              "      <td>44</td>\n",
              "      <td>3668</td>\n",
              "      <td>AIRBUS</td>\n",
              "      <td>0.3</td>\n",
              "      <td>37.0</td>\n",
              "    </tr>\n",
              "    <tr>\n",
              "      <th>3</th>\n",
              "      <td>Edwards Jerrah</td>\n",
              "      <td>986</td>\n",
              "      <td>2015</td>\n",
              "      <td>524</td>\n",
              "      <td>29</td>\n",
              "      <td>3667</td>\n",
              "      <td>AIRBUS</td>\n",
              "      <td>0.2</td>\n",
              "      <td>37.0</td>\n",
              "    </tr>\n",
              "    <tr>\n",
              "      <th>4</th>\n",
              "      <td>Trammell James</td>\n",
              "      <td>1047</td>\n",
              "      <td>2175</td>\n",
              "      <td>350</td>\n",
              "      <td>47</td>\n",
              "      <td>3667</td>\n",
              "      <td>AIRBUS</td>\n",
              "      <td>0.3</td>\n",
              "      <td>37.0</td>\n",
              "    </tr>\n",
              "    <tr>\n",
              "      <th>6</th>\n",
              "      <td>Butler Rodney</td>\n",
              "      <td>755</td>\n",
              "      <td>1076</td>\n",
              "      <td>468</td>\n",
              "      <td>15</td>\n",
              "      <td>3667</td>\n",
              "      <td>AIRBUS</td>\n",
              "      <td>0.4</td>\n",
              "      <td>37.0</td>\n",
              "    </tr>\n",
              "    <tr>\n",
              "      <th>...</th>\n",
              "      <td>...</td>\n",
              "      <td>...</td>\n",
              "      <td>...</td>\n",
              "      <td>...</td>\n",
              "      <td>...</td>\n",
              "      <td>...</td>\n",
              "      <td>...</td>\n",
              "      <td>...</td>\n",
              "      <td>...</td>\n",
              "    </tr>\n",
              "    <tr>\n",
              "      <th>2048</th>\n",
              "      <td>Nguyen Andrew H</td>\n",
              "      <td>1053</td>\n",
              "      <td>1729</td>\n",
              "      <td>756</td>\n",
              "      <td>6</td>\n",
              "      <td>3741</td>\n",
              "      <td>SAFRAN</td>\n",
              "      <td>0.7</td>\n",
              "      <td>37.0</td>\n",
              "    </tr>\n",
              "    <tr>\n",
              "      <th>2192</th>\n",
              "      <td>Joyce William C</td>\n",
              "      <td>881</td>\n",
              "      <td>1278</td>\n",
              "      <td>742</td>\n",
              "      <td>8</td>\n",
              "      <td>3658</td>\n",
              "      <td>SAFRAN</td>\n",
              "      <td>1.0</td>\n",
              "      <td>37.0</td>\n",
              "    </tr>\n",
              "    <tr>\n",
              "      <th>2210</th>\n",
              "      <td>Seabe Justin D</td>\n",
              "      <td>933</td>\n",
              "      <td>1594</td>\n",
              "      <td>552</td>\n",
              "      <td>10</td>\n",
              "      <td>3745</td>\n",
              "      <td>SAFRAN</td>\n",
              "      <td>1.0</td>\n",
              "      <td>37.0</td>\n",
              "    </tr>\n",
              "    <tr>\n",
              "      <th>2216</th>\n",
              "      <td>Edgar Richard A</td>\n",
              "      <td>1228</td>\n",
              "      <td>1764</td>\n",
              "      <td>552</td>\n",
              "      <td>7</td>\n",
              "      <td>3745</td>\n",
              "      <td>SAFRAN</td>\n",
              "      <td>1.0</td>\n",
              "      <td>37.0</td>\n",
              "    </tr>\n",
              "    <tr>\n",
              "      <th>2307</th>\n",
              "      <td>Veynar Caron D</td>\n",
              "      <td>452</td>\n",
              "      <td>552</td>\n",
              "      <td>281</td>\n",
              "      <td>7</td>\n",
              "      <td>2913</td>\n",
              "      <td>COLLINS</td>\n",
              "      <td>0.7</td>\n",
              "      <td>29.0</td>\n",
              "    </tr>\n",
              "  </tbody>\n",
              "</table>\n",
              "<p>422 rows × 9 columns</p>\n",
              "</div>"
            ],
            "text/plain": [
              "              examiner  avg_for_grant  ...  assignee_percent  prefix_art\n",
              "1          Cheung Mary            796  ...               0.3        37.0\n",
              "2        Cheung Calvin            971  ...               0.3        37.0\n",
              "3       Edwards Jerrah            986  ...               0.2        37.0\n",
              "4       Trammell James           1047  ...               0.3        37.0\n",
              "6        Butler Rodney            755  ...               0.4        37.0\n",
              "...                ...            ...  ...               ...         ...\n",
              "2048   Nguyen Andrew H           1053  ...               0.7        37.0\n",
              "2192   Joyce William C            881  ...               1.0        37.0\n",
              "2210    Seabe Justin D            933  ...               1.0        37.0\n",
              "2216   Edgar Richard A           1228  ...               1.0        37.0\n",
              "2307    Veynar Caron D            452  ...               0.7        29.0\n",
              "\n",
              "[422 rows x 9 columns]"
            ]
          },
          "metadata": {
            "tags": []
          },
          "execution_count": 45
        }
      ]
    },
    {
      "cell_type": "code",
      "metadata": {
        "id": "-8qfU_7jWoxU",
        "colab_type": "code",
        "outputId": "3c8e0d89-1028-4b1c-b1e8-7b798cbf020e",
        "colab": {
          "base_uri": "https://localhost:8080/",
          "height": 374
        }
      },
      "source": [
        "df['art_unit'].value_counts().head(20)"
      ],
      "execution_count": 46,
      "outputs": [
        {
          "output_type": "execute_result",
          "data": {
            "text/plain": [
              "3644    848\n",
              "3647    483\n",
              "3745    414\n",
              "3667    317\n",
              "3741    311\n",
              "3661    302\n",
              "3663    241\n",
              "2856    182\n",
              "3668    181\n",
              "3662    178\n",
              "1746    167\n",
              "3664    164\n",
              "2836    154\n",
              "3646    152\n",
              "3726    150\n",
              "2855    138\n",
              "3665    134\n",
              "3669    129\n",
              "3648    126\n",
              "2837    108\n",
              "Name: art_unit, dtype: int64"
            ]
          },
          "metadata": {
            "tags": []
          },
          "execution_count": 46
        }
      ]
    },
    {
      "cell_type": "code",
      "metadata": {
        "id": "0Lasbf7MXNrN",
        "colab_type": "code",
        "colab": {}
      },
      "source": [
        "#17XX = Chemical and Materials Engineering fields.\n",
        "#28XX = Semiconductors, Electrical and Optical Systems and Components\n",
        "#24XX = Computer Networks, Multiplex, Cable and Cryptography/Security.\n",
        "#21XX = Computer Architecture Software and Information Security.\n",
        "#28XX = Semiconductors, Electrical and Optical Systems and Components.\n",
        "#29XX = including Designs.\n",
        "#36XX = Transportation, Electronic Commerce, Construction, Agriculture, Licensing and Review.\n",
        "#37XX = Mechanical Engineering, Manufacturing and Products.\n"
      ],
      "execution_count": 0,
      "outputs": []
    },
    {
      "cell_type": "code",
      "metadata": {
        "id": "WyI-XBTy4pVO",
        "colab_type": "code",
        "outputId": "31730dfc-b453-477f-ac8f-e7cdffc1002e",
        "colab": {
          "base_uri": "https://localhost:8080/",
          "height": 173
        }
      },
      "source": [
        "df_art_unit['prefix_art'] = round(df_art_unit['Art Unit']/100,0)\n",
        "df_art_unit.sample(4)"
      ],
      "execution_count": 47,
      "outputs": [
        {
          "output_type": "execute_result",
          "data": {
            "text/html": [
              "<div>\n",
              "<style scoped>\n",
              "    .dataframe tbody tr th:only-of-type {\n",
              "        vertical-align: middle;\n",
              "    }\n",
              "\n",
              "    .dataframe tbody tr th {\n",
              "        vertical-align: top;\n",
              "    }\n",
              "\n",
              "    .dataframe thead th {\n",
              "        text-align: right;\n",
              "    }\n",
              "</style>\n",
              "<table border=\"1\" class=\"dataframe\">\n",
              "  <thead>\n",
              "    <tr style=\"text-align: right;\">\n",
              "      <th></th>\n",
              "      <th>Art Unit</th>\n",
              "      <th>Class</th>\n",
              "      <th>Class Title</th>\n",
              "      <th>Subclass Ranges From</th>\n",
              "      <th>Subclass Ranges To</th>\n",
              "      <th>prefix_art</th>\n",
              "    </tr>\n",
              "  </thead>\n",
              "  <tbody>\n",
              "    <tr>\n",
              "      <th>71</th>\n",
              "      <td>1625</td>\n",
              "      <td>514</td>\n",
              "      <td>DRUG, BIO-AFFECTING AND BODY TREATING COMPOSIT...</td>\n",
              "      <td>671</td>\n",
              "      <td>NaN</td>\n",
              "      <td>16.0</td>\n",
              "    </tr>\n",
              "    <tr>\n",
              "      <th>239</th>\n",
              "      <td>1645</td>\n",
              "      <td>424</td>\n",
              "      <td>DRUG, BIO-AFFECTING AND BODY TREATING COMPOSIT...</td>\n",
              "      <td>282.1</td>\n",
              "      <td>283.1</td>\n",
              "      <td>16.0</td>\n",
              "    </tr>\n",
              "    <tr>\n",
              "      <th>820</th>\n",
              "      <td>2121</td>\n",
              "      <td>706</td>\n",
              "      <td>DATA PROCESSING: ARTIFICIAL INTELLIGENCE</td>\n",
              "      <td>900</td>\n",
              "      <td>FOR 131</td>\n",
              "      <td>21.0</td>\n",
              "    </tr>\n",
              "    <tr>\n",
              "      <th>563</th>\n",
              "      <td>1762</td>\n",
              "      <td>523</td>\n",
              "      <td>SYNTHETIC RESINS OR NATURAL RUBBERS -- PART OF...</td>\n",
              "      <td>180</td>\n",
              "      <td>181</td>\n",
              "      <td>18.0</td>\n",
              "    </tr>\n",
              "  </tbody>\n",
              "</table>\n",
              "</div>"
            ],
            "text/plain": [
              "     Art Unit Class  ... Subclass Ranges To prefix_art\n",
              "71       1625   514  ...                NaN       16.0\n",
              "239      1645   424  ...              283.1       16.0\n",
              "820      2121   706  ...            FOR 131       21.0\n",
              "563      1762   523  ...                181       18.0\n",
              "\n",
              "[4 rows x 6 columns]"
            ]
          },
          "metadata": {
            "tags": []
          },
          "execution_count": 47
        }
      ]
    },
    {
      "cell_type": "code",
      "metadata": {
        "id": "sW2jbofd6AXG",
        "colab_type": "code",
        "colab": {}
      },
      "source": [
        "#Let's focus on direct competitors : GE, HWL & RC\n",
        "df_competitors = df[(df.norm_assignee == 'ELBIT') | (df.norm_assignee == 'GARMIN') | (df.norm_assignee == 'THALES') | (df.norm_assignee == 'GE AVIATION') | (df.norm_assignee == 'COLLINS') | (df.norm_assignee == 'HONEYWELL')]\n",
        "df_competitors.sample(10)"
      ],
      "execution_count": 0,
      "outputs": []
    },
    {
      "cell_type": "code",
      "metadata": {
        "id": "TVy1I0NW7j8l",
        "colab_type": "code",
        "outputId": "090dfbc4-2fcc-4bcd-ac0e-3f3f623f8505",
        "colab": {
          "base_uri": "https://localhost:8080/",
          "height": 303
        }
      },
      "source": [
        "top_art_competitors = df_competitors['art_unit'].value_counts()\n",
        "top_art_competitors.head(50).plot(kind='bar')"
      ],
      "execution_count": 49,
      "outputs": [
        {
          "output_type": "execute_result",
          "data": {
            "text/plain": [
              "<matplotlib.axes._subplots.AxesSubplot at 0x7f4659ce8ac8>"
            ]
          },
          "metadata": {
            "tags": []
          },
          "execution_count": 49
        },
        {
          "output_type": "display_data",
          "data": {
            "image/png": "[encoded data removed]",
            "text/plain": [
              "<Figure size 432x288 with 1 Axes>"
            ]
          },
          "metadata": {
            "tags": []
          }
        }
      ]
    },
    {
      "cell_type": "code",
      "metadata": {
        "id": "FQ2MlCTU8ctQ",
        "colab_type": "code",
        "outputId": "e56747f3-cd4d-4c43-8c08-a6c0e817e60e",
        "colab": {
          "base_uri": "https://localhost:8080/",
          "height": 153
        }
      },
      "source": [
        "mean_comp_art = df_competitors['art_unit'].value_counts().mean()\n",
        "list_top = top_art_competitors[top_art_competitors>mean_comp_art]\n",
        "list_top.index"
      ],
      "execution_count": 50,
      "outputs": [
        {
          "output_type": "execute_result",
          "data": {
            "text/plain": [
              "Index(['3661', '3667', '3663', '3646', '3662', '3648', '3664', '3668', '3669',\n",
              "       '3665', '2689', '2685', '3745', '3741', '2612', '2684', '3644', '2836',\n",
              "       '2872', '2835', '3753', '2649', '2683', '2855', '2845', '2613', '2682',\n",
              "       '2856', '2687', '2686', '3647', '2623', '2618', '2842', '2632', '2831',\n",
              "       '2913', '2627', '2857', '2474', '2837', '3645', '2838', '2647', '2631',\n",
              "       '2697', '2665', '2681', '3749', '1776', '2113', '2834', '3658', '3657',\n",
              "       '2821', '3653'],\n",
              "      dtype='object')"
            ]
          },
          "metadata": {
            "tags": []
          },
          "execution_count": 50
        }
      ]
    },
    {
      "cell_type": "code",
      "metadata": {
        "id": "FBgSRScv8CIb",
        "colab_type": "code",
        "outputId": "df362186-9955-411e-9523-1f4557bc5be8",
        "colab": {
          "base_uri": "https://localhost:8080/",
          "height": 465
        }
      },
      "source": [
        "merged_exam = pd.merge(df_competitors_copy,df_exam_copy,on='examiner')\n",
        "merged_exam.sample(4)"
      ],
      "execution_count": 53,
      "outputs": [
        {
          "output_type": "execute_result",
          "data": {
            "text/html": [
              "<div>\n",
              "<style scoped>\n",
              "    .dataframe tbody tr th:only-of-type {\n",
              "        vertical-align: middle;\n",
              "    }\n",
              "\n",
              "    .dataframe tbody tr th {\n",
              "        vertical-align: top;\n",
              "    }\n",
              "\n",
              "    .dataframe thead th {\n",
              "        text-align: right;\n",
              "    }\n",
              "</style>\n",
              "<table border=\"1\" class=\"dataframe\">\n",
              "  <thead>\n",
              "    <tr style=\"text-align: right;\">\n",
              "      <th></th>\n",
              "      <th>PR.§1</th>\n",
              "      <th>AP.§1</th>\n",
              "      <th>PN.PN</th>\n",
              "      <th>FAN</th>\n",
              "      <th>FAMILY_PN</th>\n",
              "      <th>EPRD</th>\n",
              "      <th>EAPD</th>\n",
              "      <th>EPD</th>\n",
              "      <th>EPDG</th>\n",
              "      <th>ACT.EED</th>\n",
              "      <th>TI</th>\n",
              "      <th>AB</th>\n",
              "      <th>PA</th>\n",
              "      <th>IN</th>\n",
              "      <th>RP</th>\n",
              "      <th>ADB</th>\n",
              "      <th>ICLM</th>\n",
              "      <th>OBJ</th>\n",
              "      <th>KEYW</th>\n",
              "      <th>KWIC</th>\n",
              "      <th>PCL</th>\n",
              "      <th>ACT.STATUS</th>\n",
              "      <th>ACT</th>\n",
              "      <th>DS</th>\n",
              "      <th>EPRC</th>\n",
              "      <th>NO</th>\n",
              "      <th>FD</th>\n",
              "      <th>days_grant</th>\n",
              "      <th>art_unit</th>\n",
              "      <th>extension_days</th>\n",
              "      <th>examiner</th>\n",
              "      <th>draw_nb</th>\n",
              "      <th>clms_nb</th>\n",
              "      <th>clean_title</th>\n",
              "      <th>clean_num</th>\n",
              "      <th>prefix_art_x</th>\n",
              "      <th>suffix_art</th>\n",
              "      <th>norm_assignee</th>\n",
              "      <th>granted_bool</th>\n",
              "      <th>days_filing</th>\n",
              "      <th>priority_year</th>\n",
              "      <th>avg_for_grant</th>\n",
              "      <th>max_for_grant</th>\n",
              "      <th>min_for_grant</th>\n",
              "      <th>num_case</th>\n",
              "      <th>top_art_unit</th>\n",
              "      <th>top_assignee_processed</th>\n",
              "      <th>assignee_percent</th>\n",
              "      <th>prefix_art_y</th>\n",
              "    </tr>\n",
              "  </thead>\n",
              "  <tbody>\n",
              "    <tr>\n",
              "      <th>1034</th>\n",
              "      <td>2009FR-0005724</td>\n",
              "      <td>US12/954,152|EP10192158|FR0905724</td>\n",
              "      <td>US8615480|EP2328115|US20110213749|FR2953305|EP...</td>\n",
              "      <td>15014681</td>\n",
              "      <td>US8615480           B2 2013-12-24 [US8615480]|...</td>\n",
              "      <td>2009-11-27</td>\n",
              "      <td>2009-11-27</td>\n",
              "      <td>2011-06-01</td>\n",
              "      <td>2013-11-20</td>\n",
              "      <td>(US8615480B2)|2031-08-23|(FR2953305A1)|2029-11...</td>\n",
              "      <td>(US8615480)|Method, device and system for the ...</td>\n",
              "      <td>(US8615480)|The invention relates to a method,...</td>\n",
              "      <td>THALES</td>\n",
              "      <td>PICHON FREDERIC</td>\n",
              "      <td>(US8615480)|Baker &amp; Hostetler LLP|(FR2953305)|...</td>\n",
              "      <td>(US8615480)|The method according to the invent...</td>\n",
              "      <td>(US8615480)|1. A method for the fusion of info...</td>\n",
              "      <td>(US8615480)|The invention relates to a method,...</td>\n",
              "      <td>(US8615480)|BELIEF FUNCTION(100,37)|KNOWLEDGE(...</td>\n",
              "      <td>ADB|(US8615480)|The method according to the in...</td>\n",
              "      <td>PCLO=706046000</td>\n",
              "      <td>(US8615480B2)|GRANTED|(FR2953305A1)|PENDING|(E...</td>\n",
              "      <td>(US8615480)|LEGAL DETAILS FOR US20110213749|Ac...</td>\n",
              "      <td>(EP2328115)|Contracting States:  AL AT BE BG C...</td>\n",
              "      <td>FR</td>\n",
              "      <td>(US20110213749)|Number of Drawings: NDR=2||Num...</td>\n",
              "      <td>(US8615480)|Previous publication: US2011021374...</td>\n",
              "      <td>1454 days</td>\n",
              "      <td>2129</td>\n",
              "      <td>272</td>\n",
              "      <td>Gaffin Jeffrey A</td>\n",
              "      <td>2</td>\n",
              "      <td>11</td>\n",
              "      <td>Method, device and system for the fusion of in...</td>\n",
              "      <td>US8615480</td>\n",
              "      <td>21</td>\n",
              "      <td>29</td>\n",
              "      <td>THALES</td>\n",
              "      <td>True</td>\n",
              "      <td>3629 days 17:46:08.665553</td>\n",
              "      <td>2009</td>\n",
              "      <td>1083</td>\n",
              "      <td>1454</td>\n",
              "      <td>668</td>\n",
              "      <td>5</td>\n",
              "      <td>2129</td>\n",
              "      <td>BOEING</td>\n",
              "      <td>0.8</td>\n",
              "      <td>21.0</td>\n",
              "    </tr>\n",
              "    <tr>\n",
              "      <th>497</th>\n",
              "      <td>2014US-14216335</td>\n",
              "      <td>CN201510022098|EP15150993|US14/216,335</td>\n",
              "      <td>CN104925267|EP2921825|US9340282|CN104925267|EP...</td>\n",
              "      <td>70907962</td>\n",
              "      <td>US9340282           B2 2016-05-17 [US9340282]|...</td>\n",
              "      <td>2014-03-17</td>\n",
              "      <td>2014-03-17</td>\n",
              "      <td>2015-09-17</td>\n",
              "      <td>2016-05-17</td>\n",
              "      <td>(US9340282B2)|2034-03-17|(EP2921825B1)|2035-01...</td>\n",
              "      <td>(US9340282)|System and method for displaying v...</td>\n",
              "      <td>(US9340282)|A method and system for maintainin...</td>\n",
              "      <td>HONEYWELL INTERNATIONAL</td>\n",
              "      <td>CASE TIMOTHY JOHN|MEEKER JOHN</td>\n",
              "      <td>(US9340282)|Ingrassia Fisher &amp; Lorenz, P.C.|(E...</td>\n",
              "      <td>(US9340282)|In addition to the pressure associ...</td>\n",
              "      <td>(US9340282)|1. A method for providing visual v...</td>\n",
              "      <td>(US9340282)|A method and system for maintainin...</td>\n",
              "      <td>(CN104925267B)|ROTARY WING AIRCRAFT(100,28)|VE...</td>\n",
              "      <td>AB|(US9340282)|A method and system for maintai...</td>\n",
              "      <td>PCLO=701004000</td>\n",
              "      <td>(US9340282B2)|GRANTED|(EP2921825B1)|GRANTED|(C...</td>\n",
              "      <td>(US9340282)|LEGAL DETAILS FOR US20150259075|Ac...</td>\n",
              "      <td>(EP2921825)|Contracting States:  AL AT BE BG C...</td>\n",
              "      <td>US</td>\n",
              "      <td>(US20150259075)|Number of Drawings: NDR=6||Num...</td>\n",
              "      <td>(US9340282)|Previous publication: US2015025907...</td>\n",
              "      <td>792 days</td>\n",
              "      <td>3668</td>\n",
              "      <td>NaN</td>\n",
              "      <td>Jabr Fadey</td>\n",
              "      <td>6</td>\n",
              "      <td>12</td>\n",
              "      <td>System and method for displaying vertical refe...</td>\n",
              "      <td>US9340282</td>\n",
              "      <td>36</td>\n",
              "      <td>68</td>\n",
              "      <td>HONEYWELL</td>\n",
              "      <td>True</td>\n",
              "      <td>2058 days 17:46:08.665553</td>\n",
              "      <td>2014</td>\n",
              "      <td>971</td>\n",
              "      <td>1712</td>\n",
              "      <td>657</td>\n",
              "      <td>27</td>\n",
              "      <td>3668</td>\n",
              "      <td>AIRBUS</td>\n",
              "      <td>0.4</td>\n",
              "      <td>37.0</td>\n",
              "    </tr>\n",
              "    <tr>\n",
              "      <th>935</th>\n",
              "      <td>2014US-14455649</td>\n",
              "      <td>US14/455,649</td>\n",
              "      <td>US9783317|US20160039371</td>\n",
              "      <td>72186248</td>\n",
              "      <td>US9783317           B2 2017-10-10 [US9783317]|...</td>\n",
              "      <td>2014-08-08</td>\n",
              "      <td>2014-08-08</td>\n",
              "      <td>2016-02-11</td>\n",
              "      <td>2017-10-10</td>\n",
              "      <td>2035-09-16</td>\n",
              "      <td>(US9783317)|Power converter, generator and arc...</td>\n",
              "      <td>(US9783317)|A high efficiency multifunction po...</td>\n",
              "      <td>HONEYWELL INTERNATIONAL</td>\n",
              "      <td>BLUMER ERIC|ANGHEL CRISTIAN|PEARSON WAYNE</td>\n",
              "      <td>(US9783317)|Shimokaji IP</td>\n",
              "      <td>(US9783317)|In view of the foregoing, there is...</td>\n",
              "      <td>(US9783317)|1. A power system for an aircraft,...</td>\n",
              "      <td>(US9783317)|The present invention generally re...</td>\n",
              "      <td>(US9783317)|GENERATOR(100,66)|AIRCRAFT(100,60)...</td>\n",
              "      <td>AB|(US9783317)|A high efficiency multifunction...</td>\n",
              "      <td>PCLO=290031000|PCLX=290045000|PCLX=307009100</td>\n",
              "      <td>GRANTED</td>\n",
              "      <td>(US9783317)|LEGAL DETAILS FOR US20160039371|Ac...</td>\n",
              "      <td>NaN</td>\n",
              "      <td>US</td>\n",
              "      <td>(US20160039371)|Number of Drawings: NDR=16||Nu...</td>\n",
              "      <td>(US9783317)|Previous publication: US2016003937...</td>\n",
              "      <td>1159 days</td>\n",
              "      <td>2831</td>\n",
              "      <td>404</td>\n",
              "      <td>Patel Tulsidas C</td>\n",
              "      <td>16</td>\n",
              "      <td>20</td>\n",
              "      <td>Power converter, generator and architecture fo...</td>\n",
              "      <td>US9783317</td>\n",
              "      <td>28</td>\n",
              "      <td>31</td>\n",
              "      <td>HONEYWELL</td>\n",
              "      <td>True</td>\n",
              "      <td>1914 days 17:46:08.665553</td>\n",
              "      <td>2014</td>\n",
              "      <td>1085</td>\n",
              "      <td>1496</td>\n",
              "      <td>609</td>\n",
              "      <td>8</td>\n",
              "      <td>2831</td>\n",
              "      <td>AIRBUS</td>\n",
              "      <td>0.2</td>\n",
              "      <td>28.0</td>\n",
              "    </tr>\n",
              "    <tr>\n",
              "      <th>1452</th>\n",
              "      <td>2009US-12434763</td>\n",
              "      <td>US12/434,763|EP10161359|CA2702543</td>\n",
              "      <td>US8305208|EP2249297|CA2702543|US20100277347</td>\n",
              "      <td>4169963</td>\n",
              "      <td>US8305208           B2 2012-11-06 [US8305208]|...</td>\n",
              "      <td>2009-05-04</td>\n",
              "      <td>2009-05-04</td>\n",
              "      <td>2010-11-04</td>\n",
              "      <td>2012-11-06</td>\n",
              "      <td>(US8305208B2)|2030-10-31|(EP2249297A1)|2013-11...</td>\n",
              "      <td>(US8305208)|Aircraft uplink message response p...</td>\n",
              "      <td>(US8305208)|A method for prompting an operator...</td>\n",
              "      <td>HONEYWELL INTERNATIONAL</td>\n",
              "      <td>JUDD THOMAS D</td>\n",
              "      <td>(US8305208)|Fogg &amp; Powers LLC|(EP2249297)|Buck...</td>\n",
              "      <td>(US8305208)|It is advantageous for pilots and/...</td>\n",
              "      <td>(US8305208)|1. A method for prompting an opera...</td>\n",
              "      <td>(US8305208)|The present invention is directed ...</td>\n",
              "      <td>(US8305208)|DATALINK MESSAGE(100,51)|TIMER(100...</td>\n",
              "      <td>ADB|(US8305208)|It is advantageous for pilots ...</td>\n",
              "      <td>PCLO=340505000|PCLX=340003100|PCLX=340006100|P...</td>\n",
              "      <td>(US8305208B2)|GRANTED|(EP2249297A1)|LAPSED|(CA...</td>\n",
              "      <td>(US8305208)|LEGAL DETAILS FOR US20100277347|Ac...</td>\n",
              "      <td>(EP2249297)|Contracting States:  AT BE BG CH C...</td>\n",
              "      <td>US</td>\n",
              "      <td>(US20100277347)|Number of Drawings: NDR=9||Num...</td>\n",
              "      <td>(US8305208)|Previous publication: US2010027734...</td>\n",
              "      <td>1282 days</td>\n",
              "      <td>2612</td>\n",
              "      <td>545</td>\n",
              "      <td>Pope Daryl</td>\n",
              "      <td>9</td>\n",
              "      <td>20</td>\n",
              "      <td>Aircraft uplink message response prompt</td>\n",
              "      <td>US8305208</td>\n",
              "      <td>26</td>\n",
              "      <td>12</td>\n",
              "      <td>HONEYWELL</td>\n",
              "      <td>True</td>\n",
              "      <td>3836 days 17:46:08.665553</td>\n",
              "      <td>2009</td>\n",
              "      <td>1302</td>\n",
              "      <td>1322</td>\n",
              "      <td>1282</td>\n",
              "      <td>2</td>\n",
              "      <td>2612</td>\n",
              "      <td>BOEING</td>\n",
              "      <td>0.5</td>\n",
              "      <td>26.0</td>\n",
              "    </tr>\n",
              "  </tbody>\n",
              "</table>\n",
              "</div>"
            ],
            "text/plain": [
              "                PR.§1  ... prefix_art_y\n",
              "1034   2009FR-0005724  ...         21.0\n",
              "497   2014US-14216335  ...         37.0\n",
              "935   2014US-14455649  ...         28.0\n",
              "1452  2009US-12434763  ...         26.0\n",
              "\n",
              "[4 rows x 49 columns]"
            ]
          },
          "metadata": {
            "tags": []
          },
          "execution_count": 53
        }
      ]
    },
    {
      "cell_type": "code",
      "metadata": {
        "id": "2KN0J4vV-B45",
        "colab_type": "code",
        "outputId": "19588021-f9e0-4dd0-fd16-f1a5b3b55a40",
        "colab": {
          "base_uri": "https://localhost:8080/",
          "height": 54
        }
      },
      "source": [
        "exam_over_3 = getListExaminer(merged_exam,1)\n",
        "ss = \"\"\n",
        "for e in exam_over_3:\n",
        "  ss += '('+e+')'+\" ou \"\n",
        "ss"
      ],
      "execution_count": 55,
      "outputs": [
        {
          "output_type": "execute_result",
          "data": {
            "text/plain": [
              "'( Wu Yanna) ou ( Cheung Mary) ou ( Cheung Calvin) ou ( Edwards Jerrah) ou ( Trammell James) ou ( Su Sarah) ou ( Butler Rodney) ou ( Hailu Teshome) ou ( Wang Quan-Zhen) ou ( Lin Abby Y) ou ( Sample Jonathan L) ou ( Nguyen Tan Q) ou ( Tran Khoi) ou ( Olszewski John R) ou ( Tarcza Thomas) ou ( Amin Bhavesh V) ou ( Zeender Ryan) ou ( Girma Fekadeselassie) ou ( Shaawat Mussa A) ou ( Paige Tyler) ou ( Whittington Jess) ou ( Nguyen Tai T) ou ( Nguyen Steven H) ou ( Nguyen Cuong H) ou ( Benedik Justin) ou ( Badii Behrang) ou ( Nguyen John Q) ou ( Black Thomas G) ou ( Heinle Courtney D) ou ( Luu Le H) ou ( Jos Basil T) ou ( Weber Tamara L) ou ( Khatib Rami) ou ( Nguyen Phung) ou ( Arthur Jeanglaude Gertrude) ou ( Mustafa Imran) ou ( Mott Adam R) ou ( Hellner Mark) ou ( Zanelli Michael J) ou ( Wiltey Nicholas K) ou ( Brainard Timothy A) ou ( Beaulieu Yonel) ou ( Shafi Muhammad) ou ( Brown Drew) ou ( Zimmerman Mark K) ou ( Anwari Maceeh) ou ( Troost Aaron L) ou ( Elchanti Hussein) ou ( Marc-Coleman Marthe) ou ( Gandhi Jayprakash N) ou ( Patel Parth) ou ( Nguyen Nga X) ou ( Schmitt Benjamin R) ou ( Alam Mirza) ou ( Davis Richard G) ou ( Glass Erick) ou ( Jabr Fadey) ou ( Trivedi Atul) ou ( Lee Tyler J) ou ( Dastouri Mehrdad) ou ( Wang Jin Cheng) ou ( Ramesh Krishnan) ou ( Repko Jason M) ou ( Camby Richard) ou ( Lau Hoi) ou ( Liu Harry) ou ( Algahaim Helal A) ou ( La Anh V) ou ( Bashore William) ou ( Tissot Adam) ou ( Mawari Redhwan k) ou ( Jeanglaud Gertrude Arthur) ou ( Hunnings Travis R) ou ( Ingram Thomas) ou ( Gesesse Tilahun B) ou ( Ratcliffe Luke) ou ( Tung Kee M) ou ( Sahle Mahidere) ou ( Patton Spencer) ou ( Thompson Jewel V) ou ( Patel Harshad R) ou ( Bruckart Benjamin R) ou ( Gray David M) ou ( Geisel Kara E) ou ( Phan Hai) ou ( Cherry Stephen) ou ( Lau Tung S) ou ( Phuong Dai A) ou ( Nguyen Hung T) ou ( Collins Timothy D) ou ( Chan Wing F) ou ( Deberadinis Robert) ou ( Kinkead Arnold) ou ( Smith Jelani A) ou ( Dunn Alex C) ou ( Nguyen Kimbinh T) ou ( Holtje Martie K) ou ( Chen Frank) ou ( Huynh Luke) ou ( Taylor Nicholas) ou ( Sood Anshul) ou ( Melton Todd) ou ( Butler Sarai) ou ( Le John H) ou ( Bythrow Peter M) ou ( Sotomayor John B) ou ( Sugarman Scott J) ou ( Phan Huy Q) ou ( Barker Matthew M) ou ( Krause Justin) ou ( Edwards Carolyn R) ou ( Joerger Kaitlin) ou ( File Erin) ou ( Lee Nicholas) ou ( Gregory Bernarr E) ou ( Rego Dominic E) ou ( Dowtin Jewel V) ou ( Frejd Russell) ou ( Trinh Sonny) ou ( Tran Hai V) ou ( McGue Frank J) ou ( Ton Tri T) ou ( Rushing Mark) ou ( Levi Dameon E) ou ( Chan Kawing) ou ( Gregory Bernarr) ou ( Bythrow Peter) ou ( Smith Nkeisha) ou ( Connelly Michelle R) ou ( Nguyen Tuan H) ou ( Ko Tony) ou ( Natnael Paulos M) ou ( Caputo Lisa) ou ( Amrany Adi) ou ( Parra Omar S) ou ( Han Jason Moon) ou ( Lang Michael D) ou ( Bhattacharya Sam) ou ( Allen Andre) ou ( Dinh Minh) ou ( Keith Jack W) ou ( Charioui Mohamed) ou ( Tabatabai Abolfazl) ou ( Font Frank) ou ( Anderson Amber) ou ( Nwugo Ojiako) ou ( Nur Abdullahi) ou ( Galt Cassie) ou ( Bayard Emmanuel) ou ( Mustafa Imran K) ou ( Le Hoanganh) ou ( Bonzell Philip J) ou ( Nguyen Kim T) ou ( Chaki Kakali) ou ( Pihulic Daniel) ou ( Sobutka Philip) ou ( Gebresilassie Kibrom K) ou ( Hamza Faruk) ou ( Chang Kent) ou ( Jagan Mirellys) ou ( Edwards Anthony Q) ou ( Mamo Elias) ou ( Shah Tanmay K) ou ( Han Charles J) ou ( Ibrahim Mohamed) ou ( Phan Dao) ou ( Nguyen Hoa C) ou ( Kwok Helen) ou ( McCall Eric S) ou ( Raevis Robert R) ou ( Wu Xiao) ou ( Siddiqui Md Saiful A) ou ( Patel Dhaval) ou ( Patel Tulsidas C) ou ( Duong Frank) ou ( Baxter Gwendolyn) ou ( Toatley Gregory J) ou ( Ngo Chuong A) ou ( Shah Chirag G) ou ( Jayne Darnell) ou ( Do Truc M) ou ( Saini Amandeep) ou ( Haughton Anthony) ou ( Nguyen Sang) ou ( Payne David) ou ( Berhane Adolf) ou ( Keith Jack) ou ( Edouard Patrick) ou ( Barnie Rexford) ou ( Hsu Alpus H) ou ( Rivas Salvador E) ou ( Ferguson Keith) ou ( McPherson James M) ou ( Gilles Jude Jean) ou ( Hsieh Ping) ou ( Mengistu Amare) ou ( Phan Hanh) ou ( Lee Benny) ou ( Fenstermacher David M) ou ( Issing Gregory C) ou ( A Minh D) ou ( Dinh Tien) ou ( May Robert) ou ( Torres-Rivera Alex) ou ( Karacsony Robert) ou ( Smith Graham) ou ( Wu Jerry) ou ( Yao Kwang B) ou ( Amini Javid A) ou ( Pervan Michael) ou ( Guadalupe-McCall Yaritza) ou ( Eisen Alexander) ou ( Thompson Gregory) ou ( Duong Dieu H) ou ( Abdulselam Abbas) ou ( Gaffin Jeffrey A) ou ( Lagor Alexander) ou ( Kizou Hassan) ou ( Lopez Cruz Dimary) ou ( Prasad Chandrika) ou ( Xavier Valentina) ou ( Phan Tri H) ou ( Tayong Helene) ou ( Wong Yuen) ou ( Martin Laura) ou ( Windrich Marcus) ou ( Shah Kamini S) ou ( Aminzay Shaima Q) ou ( Patel Jay) ou ( Hoang Phi) ou ( Mehmood Jennifer) ou ( Frejd Russell Warren) ou ( Marc McDieunel) ou ( Feild Joseph H) ou ( Vo Don N) ou ( Jeanglaude Gertrude Arthur) ou ( Casillashernandez Omar) ou ( McNally Kerri) ou ( Pham Toan N) ou ( Paige Tyler D) ou ( Figueroa Jaime) ou ( Blount Eric M) ou ( Holwerda Stephen) ou ( Pan Yuwen) ou ( Hunnings Travis) ou ( Hilgendorf Dale W) ou ( Trieu Van T) ou ( Bugg George) ou ( Ismail Mahmoud S) ou ( Black Thomas) ou ( Milord Marceau) ou ( Christensen Scott B) ou ( Swarthout Brent) ou ( Tran Dalena) ou ( Tran Khoi H) ou ( Khoo Stacy) ou ( Yang James J) ou ( Wilson Adrian S) ou ( Haile Benyam) ou ( Musselman Timothy A) ou ( Zhu Richard) ou ( Thompson James A) ou ( Soofi Yazan) ou ( Bhargava Anil) ou ( Lim Steven) ou ( Hofsass Jeffery) ou ( Antonucci Anne M) ou ( Wang Jack K) ou ( Nolan Peter D) ou ( Zimmerman Brian) ou ( Dager Jonathan M) ou ( Klicos Nicholas) ou ( Wu Xiao M) ou ( Butler Rodney A) ou ( Ellis Christopher P) ou ( Chen Shelley) ou ( Pullias Jesse) ou ( Kleinman Lail A) ou ( Trieu Van) ou ( Luo David S) ou ( Alizada Omeed) ou ( Mawari Redhwan K) ou ( Smith Isaac) ou ( Alharbi Adam) ou ( Bui Bryan) ou ( Shah Tanmay) ou ( Windrich Marcus E) ou ( Fan Hongmin) ou ( Lee Benjamin P) ou ( Moyer Dale) ou ( Feild Joseph) ou ( Culbreth Eric) ou ( Amin Jwalant) ou ( Lai Andrew) ou ( Lee Benjamin C) ou ( Lazo Thomas E) ou ( Dao Thuy) ou ( Ngo Hung) ou ( Nguyen John) ou ( Savani Avinash) ou ( Irvin Thomas) ou ( Lemma Samson) ou ( Duke Emmanuel) ou ( Johnson Phillip A) ou ( Cass Jean-Paul) ou ( Smith Jelani) ou ( Nguyen An T) ou ( Swiatek Rob) ou ( Flores Leon) ou ( Yang Ryan R) ou ( Belousov Andrey) ou ( Marc Mcdieunel) ou ( Le Tung X) ou ( Assouad Patrick) ou ( Kan Yuri) ou ( McAllister Steven B) ou ( Holloway Jason) ou ( Ismail Mahmoud) ou ( Sanderson Joseph W) ou ( Lin Abby) ou ( To Tuan C) ou ( Jen Ian) ou ( Holmes Justin) ou ( Siconolfi Robert A) ou ( Basichas Alfred) ou ( Shanske Jason) ou ( Ng Amy) ou ( Timory Kabir A) ou ( Alharbi Adam M) ou ( Orlando Amber R) ou ( Thomas-Homescu Anne L) ou ( Jones Christopher P) ou ( Patel Haresh N) ou ( Mancho Ronnie) ou ( Kitov Zeev V) ou ( Sung Gerald L) ou ( Pope Daryl) ou ( Liu Jonathan) ou ( Nguyen Hoang) ou ( Younger Sean J) ou ( Fleming Fritz M) ou ( Mortell John F) ou ( Bomberg Kenneth) ou ( Fuqua Shawntina) ou ( Ganey Steven J) ou ( Bui Pho Pascal M) ou ( Oh Harry Y) ou ( Nguyen Bao Long T) ou ( Soofi Yazan A) ou ( Huson Zachary K) ou ( Wongwian Phutthiwat) ou ( Nguyen Andrew H) ou ( Low Lindsay) ou ( McCullough Michael C) ou ( McNally Kerri L) ou ( Allison Andrae S) ou ( Laurenzi Mark) ou ( Huson Gregory) ou ( Mott Genna) ou ( Anwar Mohammad) ou ( Xia Xuyang) ou ( Obeid Fahd) ou ( Evanisko Leslie J) ou ( Ha Dac) ou ( Kim Craig) ou ( Raymond Edward) ou ( Schneider Craig) ou ( Shih Haoshian) ou ( Sajous Wesner) ou ( Boyd Jonathan) ou ( Jacob Mary C) ou ( Tyler Cheryl J) ou ( Edgar Richard) ou ( Crawford Jacinta M) ou ( Rinehart Kenneth) ou ( Patel Shardul) ou ( Johnson Ryan) ou ( Nguyen Chuong P) ou ( Keasel Eric) ou ( Bastianelli John) ou ( Tompkins Alissa) ou ( Ajayi Joel) ou ( Phillips Forrest M) ou ( Padmanabhan Kavita) ou ( Murphy Kevin) ou ( Fureman Jared) ou ( Paul Antony M) ou ( Thompson Timothy) ou ( Santana Eduardo Colon) ou ( Myers Paul R) ou ( Chu David H) ou ( Cass Jean Paul) ou ( Neff Michael) ou ( Yang Qian) ou ( Colilla Daniel J) ou ( Mullins Burton) ou ( Patel Dharti) ou ( Tryder Gregory J) ou ( Nguyen Brian D) ou ( Cosimano Edward) ou ( Caputo Lisa M) ou ( Guerra-Erazo Edgar) ou ( Patel Ramesh) ou ( Brushaber Frederick M) ou ( Drennan Barry) ou ( Shankar Vijay) ou ( Donovan Lincoln) ou ( Tse Young T) ou ( Puente Emerson) ou ( Tso Laura) ou ( Gartenberg Ehud) ou ( Wong Yuen H) ou ( Blouin Mark) ou ( Look Edward) ou ( Williams Thomas J) ou ( Lieu Julie) ou ( Liu Li) ou ( Meade Lorne E) ou ( Parker Frederick) ou ( Tran Len) ou ( Rivera Carlos A) ou ( Lo Diane L) ou ( Williams Arun) ou ( Barbee Manuel L) ou ( Le Thien M) ou ( Ngon Ricky) ou ( Jones James) ou ( Self Shelley) ou ( Lettman Bryan) ou ( Tarcza Thomas H) ou ( Torrente Richard) ou ( Chauhan Ulka) ou ( Le Vu) ou ( Schwartz Christopher) ou ( Luks Jeremy) ou ( Hamo Patrick) ou ( Kelleher William) ou ( Dunwoody Aaron) ou ( Nguyen Lam) ou ( Williams Hezron E) ou ( Hopkins Robert A) ou ( Bui Dung H) ou ( Nguyen Andrew) ou ( Kim Ahshik) ou ( Verbitsky Gail Kaplan) ou ( Rodriguez William H) ou ( Pham Thomas K) ou ( Desta Elias) ou ( Tran Thienvu) ou ( White Dwayne J) ou ( Brinson Patrick F) ou ( West Lewis) ou ( Jones Melvin) ou ( Nguyen Anh Ngoc) ou ( Bonzo Bryce) ou ( Rashid Wissam) ou ( Lyons Michael A) ou ( Nguyen Tu X) ou ( Tsai Henry) ou ( Chaudry Atif) ou ( McManmon Mary) ou ( Rogers David A) ou ( Lee Kevin) ou ( Wai Eric C) ou ( Leibovich Yair) ou ( Hollington Jermele M) ou ( Tran Nguyen) ou ( Park Jung) ou ( Baltzell Andrea Lindgren) ou ( Cunningham Xanthia C) ou ( Bauer Cassey D) ou ( Vo Hai) ou ( He Jialong) ou ( Verdier Christopher) ou ( Mehta Bhavesh) ou ( Bertheaud Peter J) ou ( Ippolito Nicole) ou ( Hansen Jonathan) ou ( Pe Geepy) ou ( Wu Daniel) ou ( Ho Andy) ou ( Simone Catherine A) ou ( Saad Erin) ou ( Jarrett Ryan) ou ( Ali Mohammad) ou ( Greene Jason M) ou ( Lam Thanh) ou ( Waks Joseph) ou ( Lazaro David) ou ( Czekaj Dave) ou ( Kim John K) ou ( Menon Krishnan S) ou ( Dunn Drew A) ou ( Nguyen Leon-Viet) ou ( Shin Kyung H) ou ( Thier Michael) ou ( Daniels Matthew) ou ( Henson Mischita) ou ( Johnson Stephen) ou ( Hwu Davis) ou ( Hallenbeck-Huber Jeremiah C) ou ( Leslie Michael) ou ( Mei Xu) ou ( Zhou Hong) ou ( Murphy Austin) ou ( Rink Ryan) ou ( Vo Tung) ou ( Stiglic Ryan) ou ( Veynar Caron D) ou ( Seeger Janice) ou ( Sniezek Andrew L) ou ( Edun Muhammad N) ou ( Lao Lun-Yi) ou ( Yang James) ou ( Zhai Kyle) ou ( Previl Daniel) ou ( Haley Joseph) ou ( Liew Alex) ou ( Zand Kambiz) ou ( Jiang Charles C) ou ( Ro Bentsu) ou ( Xiao Ke) ou ( Hance Robert) ou ( Senfi Behrooz) ou ( Bell William P) ou ( Nguyen Kevin M) ou ( Brooks Cathron C) ou ( Figueroa Adriana) ou ( Rinehart Mark) ou ( Shah Amee A) ou ( Betton Katrina A) ou ( Aziz Adnan) ou ( Zee Edward) ou ( Hoffberg Robert J) ou ( Ben Loha) ou ( Plakkoottam Dominick L) ou ( Lu Shirley) ou ( Cerullo Liliana) ou ( Martello Edward) ou ( Sweeney Brian P) ou ( Brophy Matthew) ou ( Chase Shelly A) ou ( Bost Dwayne D) ou ( Dinh Trinh) ou ( Pham Chi H) ou ( Harrison Chante) ou ( Shah Utpal) ou ( Harold Jefferey) ou ( Dsouza Adolf) ou ( Dunlap Jonathan M) ou ( Phan Tho G) ou ( Ye Lin) ou ( Goodarzi Nasser) ou ( Shapiro Jeffrey) ou ( Entezari Michelle) ou ( Pichler Marin) ou ( Perungavoor Sathyanaraya V) ou ( Yao Sam) ou ( Ference James M) ou ( Nguyen Hoang V) ou ( Dowling William C) ou ( Rahaman Mohammed) ou ( White Rodney B) ou ( Shang Annan) ou ( Hirl Joseph P) ou ( Petkovsek Daniel) ou ( Cai Wayne) ou ( Zaman Faisal M) ou ( Yip Jack) ou ( Kelley Christopher S) ou ( Mai Anh) ou ( Makiya David J) ou ( Zimmerman Mark) ou ( Huq Obaidul) ou ( Yenke Brian) ou ( Jules Frantz) ou ( Vortman Anatoly) ou ( Curs Nathan) ou ( Magloire Vladimir) ou ( Islam Mohammad) ou ( Oh Harry) ou ( Sawhney Hargobind S) ou ( Patel Jayanti K) ou ( Choi William) ou ( Unelus Ernest) ou ( Smith Courtney) ou ( Nguyen Chau N) ou ( Breene John) ou ( Zhao Bing) ou ( Atala Jamie) ou ( Mott Genna M) ou ( Kim Kevin) ou ( Vo Nguyen) ou ( Fan Chieh M) ou ( Brindley Timothy J) ou ( Chwasz Jade R) ou ( Nguyen Chi Q) ou ( Dinh Jack) ou ( Diaz Thomas) ou ( Nguyen Vincent Q) ou ( Phan Dao L) ou ( Wilson Yolanda L) ou ( Alrobaye Idriss N) ou ( Schwartz Darren B) ou ( Ho Tan) ou ( Nguyen Phu K) ou ( Jordan Andrew) ou ( Epps Georgia Y) ou ( Goldman Richard A) ou ( Nguyen Simon) ou ( Strege John) ou ( Utama Robert J) ou ( Ewald Maria Veronica) ou ( Nasri Maryam A) ou ( Kuan John) ou ( Liu Harry K) ou ( Bui Kieu Oanh T) ou ( Armouche Hadi S) ou ( Okeke Izunna) ou ( Towfighi Afshawn M) ou ( Sinclair David M) ou ( Cuevas Pedro J) ou ( Berona Kimberly S) ou ( Gannon Levi) ou ( Ta Tho D) ou ( Cavallari Daniel) ou ( Chang Joseph) ou ( Hutchinson Alan D) ou ( Kaplan Hal) ou ( Price Craig J) ou ( Payne David C) ou ( McCalister William) ou ( Kearney Karen E) ou ( Cho Un C) ou ( Ponomarenko Nicholas) ou ( Deberadinis Robert L) ou ( Hess Daniel) ou ( Le Son) ou ( Camby Richard M) ou ( Leja Ronald W) ou ( Kim Eunhee) ou ( Kraft Logan) ou ( Singh Hirdepal) ou ( Mudrick Timothy A) ou ( Cox Cassandra F) ou ( Cahill Jessica) ou ( Wu James) ou ( Park Edward) ou ( Amaya Carlos) ou ( Dhakal Bickey) ou ( Kershteyn Igor) ou ( Dinh Tuan T) ou ( Goff John) ou ( Bauer Scott) ou ( Kerns Kevin P) ou ( Chambers Troy) ou '"
            ]
          },
          "metadata": {
            "tags": []
          },
          "execution_count": 55
        }
      ]
    },
    {
      "cell_type": "code",
      "metadata": {
        "id": "RNW1JNGchoWF",
        "colab_type": "code",
        "outputId": "c739cc52-e7c9-402e-fd19-4e3ac43f762c",
        "colab": {
          "base_uri": "https://localhost:8080/",
          "height": 34
        }
      },
      "source": [
        "exam_over_3 = getListExaminer(merged_exam,0)\n",
        "exam_over_3.shape"
      ],
      "execution_count": 56,
      "outputs": [
        {
          "output_type": "execute_result",
          "data": {
            "text/plain": [
              "(1038,)"
            ]
          },
          "metadata": {
            "tags": []
          },
          "execution_count": 56
        }
      ]
    },
    {
      "cell_type": "code",
      "metadata": {
        "id": "pkjal9tjk4J_",
        "colab_type": "code",
        "colab": {}
      },
      "source": [
        "df_art_unit['Art Unit'].unique().tolist()"
      ],
      "execution_count": 0,
      "outputs": []
    },
    {
      "cell_type": "markdown",
      "metadata": {
        "id": "VM2-g9Gm4osY",
        "colab_type": "text"
      },
      "source": [
        ""
      ]
    }
  ]
}