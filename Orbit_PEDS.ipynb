{
  "nbformat": 4,
  "nbformat_minor": 0,
  "metadata": {
    "colab": {
      "name": "Orbit PEDS.ipynb",
      "provenance": [],
      "collapsed_sections": [],
      "include_colab_link": true
    },
    "kernelspec": {
      "name": "python3",
      "display_name": "Python 3"
    }
  },
  "cells": [
    {
      "cell_type": "markdown",
      "metadata": {
        "id": "view-in-github",
        "colab_type": "text"
      },
      "source": [
        "<a href=\"https://colab.research.google.com/github/chajmz/Dataquest/blob/master/Orbit_PEDS.ipynb\" target=\"_parent\"><img src=\"https://colab.research.google.com/assets/colab-badge.svg\" alt=\"Open In Colab\"/></a>"
      ]
    },
    {
      "cell_type": "code",
      "metadata": {
        "id": "LS6gJ9dnDcZI",
        "colab_type": "code",
        "colab": {}
      },
      "source": [
        "import pandas as pd\n",
        "import matplotlib.pyplot as plt\n",
        "import seaborn as sns\n",
        "import numpy as np\n",
        "import json\n",
        "from pandas.io.json import json_normalize    \n",
        "from datetime import datetime\n",
        "from datetime import date\n",
        "from google.colab import drive"
      ],
      "execution_count": 0,
      "outputs": []
    },
    {
      "cell_type": "code",
      "metadata": {
        "id": "YloIjwYeTHUi",
        "colab_type": "code",
        "outputId": "85c3657f-378b-4582-9ac3-2ec92ee4337c",
        "colab": {
          "base_uri": "https://localhost:8080/",
          "height": 122
        }
      },
      "source": [
        "from google.colab import drive\n",
        "drive.mount('/gdrive',force_remount=True)\n",
        "#%cd /gdrive"
      ],
      "execution_count": 2,
      "outputs": [
        {
          "output_type": "stream",
          "text": [
            "Go to this URL in a browser: https://accounts.google.com/o/oauth2/auth?client_id=947318989803-6bn6qk8qdgf4n4g3pfee6491hc0brc4i.apps.googleusercontent.com&redirect_uri=urn%3Aietf%3Awg%3Aoauth%3A2.0%3Aoob&scope=email%20https%3A%2F%2Fwww.googleapis.com%2Fauth%2Fdocs.test%20https%3A%2F%2Fwww.googleapis.com%2Fauth%2Fdrive%20https%3A%2F%2Fwww.googleapis.com%2Fauth%2Fdrive.photos.readonly%20https%3A%2F%2Fwww.googleapis.com%2Fauth%2Fpeopleapi.readonly&response_type=code\n",
            "\n",
            "Enter your authorization code:\n",
            "··········\n",
            "Mounted at /gdrive\n"
          ],
          "name": "stdout"
        }
      ]
    },
    {
      "cell_type": "code",
      "metadata": {
        "id": "2W4pWHXFBnYj",
        "colab_type": "code",
        "colab": {}
      },
      "source": [
        "with open(\"/gdrive/My Drive/orbit_big.csv\",encoding='utf-16') as data_file:    \n",
        "    df = pd.read_csv(data_file)  "
      ],
      "execution_count": 0,
      "outputs": []
    },
    {
      "cell_type": "code",
      "metadata": {
        "id": "17hbSuDW30SL",
        "colab_type": "code",
        "colab": {}
      },
      "source": [
        "with open(\"/gdrive/My Drive/unit.csv\") as data_file:    \n",
        "    df_art_unit = pd.read_csv(data_file) "
      ],
      "execution_count": 0,
      "outputs": []
    },
    {
      "cell_type": "code",
      "metadata": {
        "id": "CTqe4LQLDhix",
        "colab_type": "code",
        "colab": {}
      },
      "source": [
        "pattern_examiner = r'[|]{2}([Pp][rimary]\\w*\\s\\w*)[\\:]([\\s\\w-]*)[|]+'\n",
        "pattern_art_unit = r'[|]+([Aa]\\w*\\s[Uu]\\w*[.: ]*\\w{3}[=]+)([0-9]+)[|]+'\n",
        "pattern_extension = r'\\s([Ee]+\\w{3}[=]+)([0-9]+)[|]+'\n",
        "pattern_clms = r'\\s([NnCcLl]{3}[=]+)([0-9]+)[|]+'\n",
        "pattern_draw = r'\\s([NnDdRr]{3}[=]+)([0-9]+)[|]+'\n",
        "pattern_title = r'[(](\\w{2}[D]?[0-9]+)[)][|]([\\w, ().:=?-]+)'\n",
        "\n",
        "assignees_list = ['THALES','BOEING','AIRBUS','HONEYWELL','SAFRAN','COLLINS','BAE SYSTEMS','GARMIN','PANASONIC','ROSEMOUNT','ELBIT','GE AVIATION'] "
      ],
      "execution_count": 0,
      "outputs": []
    },
    {
      "cell_type": "code",
      "metadata": {
        "id": "ranEuhGjDXyN",
        "colab_type": "code",
        "colab": {}
      },
      "source": [
        "def applyPattern(df_csv):\n",
        "  df_csv['art_unit'] = df_csv['NO'].str.extract(pattern_art_unit)[1]\n",
        "  df_csv['extension_days'] = df_csv['NO'].str.extract(pattern_extension)[1]\n",
        "  df_csv['examiner'] = df_csv['NO'].str.extract(pattern_examiner)[1]\n",
        "  df_csv['draw_nb'] = df_csv['NO'].str.extract(pattern_draw)[1]\n",
        "  df_csv['clms_nb'] = df_csv['NO'].str.extract(pattern_clms)[1]\n",
        "  df_csv['clean_title'] = df_csv['TI'].str.extract(pattern_title)[1]\n",
        "  df_csv['clean_num'] = df_csv['TI'].str.extract(pattern_title)[0]\n",
        "  return df_csv"
      ],
      "execution_count": 0,
      "outputs": []
    },
    {
      "cell_type": "code",
      "metadata": {
        "id": "_TwJ9r__khsH",
        "colab_type": "code",
        "colab": {}
      },
      "source": [
        "#df_csv['examiner'].unique()\n",
        "#r = ['(' + e[1:] + ')' + ' ou ' for e in exam['examiner']]\n",
        "#lisT_exam_orbit = \"\".join(r)"
      ],
      "execution_count": 0,
      "outputs": []
    },
    {
      "cell_type": "code",
      "metadata": {
        "id": "7NFE_SvH1RAa",
        "colab_type": "code",
        "outputId": "7a25ce08-8c1b-479c-83eb-e64bfcf77585",
        "colab": {
          "base_uri": "https://localhost:8080/",
          "height": 411
        }
      },
      "source": [
        "df.sample(5,random_state=0)"
      ],
      "execution_count": 8,
      "outputs": [
        {
          "output_type": "execute_result",
          "data": {
            "text/html": [
              "<div>\n",
              "<style scoped>\n",
              "    .dataframe tbody tr th:only-of-type {\n",
              "        vertical-align: middle;\n",
              "    }\n",
              "\n",
              "    .dataframe tbody tr th {\n",
              "        vertical-align: top;\n",
              "    }\n",
              "\n",
              "    .dataframe thead th {\n",
              "        text-align: right;\n",
              "    }\n",
              "</style>\n",
              "<table border=\"1\" class=\"dataframe\">\n",
              "  <thead>\n",
              "    <tr style=\"text-align: right;\">\n",
              "      <th></th>\n",
              "      <th>PR.§1</th>\n",
              "      <th>AP.§1</th>\n",
              "      <th>PN.PN</th>\n",
              "      <th>FAN</th>\n",
              "      <th>FAMILY_PN</th>\n",
              "      <th>EPRD</th>\n",
              "      <th>EAPD</th>\n",
              "      <th>EPD</th>\n",
              "      <th>EPDG</th>\n",
              "      <th>ACT.EED</th>\n",
              "      <th>TI</th>\n",
              "      <th>AB</th>\n",
              "      <th>PA</th>\n",
              "      <th>IN</th>\n",
              "      <th>RP</th>\n",
              "      <th>ADB</th>\n",
              "      <th>ICLM</th>\n",
              "      <th>OBJ</th>\n",
              "      <th>KEYW</th>\n",
              "      <th>KWIC</th>\n",
              "      <th>PCL</th>\n",
              "      <th>ACT.STATUS</th>\n",
              "      <th>ACT</th>\n",
              "      <th>DS</th>\n",
              "      <th>EPRC</th>\n",
              "      <th>NO</th>\n",
              "      <th>FD</th>\n",
              "    </tr>\n",
              "  </thead>\n",
              "  <tbody>\n",
              "    <tr>\n",
              "      <th>10792</th>\n",
              "      <td>2009US-12509471|2012US-13467160</td>\n",
              "      <td>US12/509,471|US13/467,160|WOUS2010/040088</td>\n",
              "      <td>US8753458|US8695669|US20120216957|WO2011/01692...</td>\n",
              "      <td>44305429</td>\n",
              "      <td>WO2011/016922       A1 2011-02-10 [WO201116922...</td>\n",
              "      <td>2009-07-26</td>\n",
              "      <td>2009-07-26</td>\n",
              "      <td>2011-01-27</td>\n",
              "      <td>2014-04-15</td>\n",
              "      <td>(WO201116922A1)|2013-01-26|(US8695669B2)|2029-...</td>\n",
              "      <td>(WO201116922)|Mapping tow splices in composite...</td>\n",
              "      <td>(WO2011/016922)|The three dimensional (3-D) lo...</td>\n",
              "      <td>BOEING</td>\n",
              "      <td>ENGELBART ROGER W|HANNEBAUM REED|RECTOR ERIC</td>\n",
              "      <td>(WO201116922)|PLANK, Dennis R. et al. ([US])|(...</td>\n",
              "      <td>(WO2011/016922)|Accordingly, there is a need f...</td>\n",
              "      <td>(WO2011/016922)|1. A method of mapping the loc...</td>\n",
              "      <td>(WO2011/016922)|For the purposes of this descr...</td>\n",
              "      <td>(US8753458)|TOW(100,48)|SPLICE LOCATION(100,30...</td>\n",
              "      <td>ECLM|(US8695669)|19. An apparatus configured t...</td>\n",
              "      <td>PCLO=156351000|PCLO=156064000|PCLX=156361000|P...</td>\n",
              "      <td>(WO201116922A1)|LAPSED|(US8695669B2)|GRANTED|(...</td>\n",
              "      <td>(WO201116922)|LEGAL DETAILS FOR WO2011/016922|...</td>\n",
              "      <td>(WO201116922)|National States:  AE AG AL AM AO...</td>\n",
              "      <td>US</td>\n",
              "      <td>(WO201116922)|Extended kind: xc||(US2012021695...</td>\n",
              "      <td>(US8695669)|Division of: US12/509,471 FDD=2009...</td>\n",
              "    </tr>\n",
              "    <tr>\n",
              "      <th>13612</th>\n",
              "      <td>2014EP-0194526</td>\n",
              "      <td>RU2015136394|US14/818,360|CN201510573992|JP201...</td>\n",
              "      <td>RU2695090|RU2015136394|US10001024|RU2015136394...</td>\n",
              "      <td>73094354</td>\n",
              "      <td>US10001024          B2 2018-06-19 [US10001024]...</td>\n",
              "      <td>2014-11-24</td>\n",
              "      <td>2014-11-24</td>\n",
              "      <td>2016-05-24</td>\n",
              "      <td>2018-06-19</td>\n",
              "      <td>(US10001024B2)|2036-05-26|(EP3023511A1)|2034-1...</td>\n",
              "      <td>(US10001024)|Abradable composition and seal of...</td>\n",
              "      <td>(US10001024)|The invention relates to a compos...</td>\n",
              "      <td>SAFRAN AERO BOOSTERS</td>\n",
              "      <td>SCHUSTER LAURENT</td>\n",
              "      <td>(US10001024)|Sandberg Phoenix &amp; von Gontard P....</td>\n",
              "      <td>(US10001024)|The rotation of the rotor about i...</td>\n",
              "      <td>(US10001024)|1. A turbomachine comprising: a r...</td>\n",
              "      <td>(US10001024)|The invention relates to a compos...</td>\n",
              "      <td>(US20160146034)|ROUNDED SUPPORT(100,25)|TURBOM...</td>\n",
              "      <td>EPD|2016-05-24||FAMILY_PN|(US10001024)|US10001...</td>\n",
              "      <td>PCLO=415173400|PCLX=106286500|PCLX=427447000|P...</td>\n",
              "      <td>(US10001024B2)|GRANTED|(EP3023511A1)|PENDING|(...</td>\n",
              "      <td>(US10001024)|LEGAL DETAILS FOR US20160146034|A...</td>\n",
              "      <td>(EP3023511)|Contracting States:  AL AT BE BG C...</td>\n",
              "      <td>EP</td>\n",
              "      <td>(US20160146034)|Number of Drawings: NDR=2||Num...</td>\n",
              "      <td>(US10001024)|Previous publication: US201601460...</td>\n",
              "    </tr>\n",
              "    <tr>\n",
              "      <th>397</th>\n",
              "      <td>2017US-15724033</td>\n",
              "      <td>EP18198516|US15/724,033</td>\n",
              "      <td>EP3468091|US20190103952</td>\n",
              "      <td>84025465</td>\n",
              "      <td>US20190103952       A1 2019-04-04 [US201901039...</td>\n",
              "      <td>2017-10-03</td>\n",
              "      <td>2017-10-03</td>\n",
              "      <td>2019-04-04</td>\n",
              "      <td>NaN</td>\n",
              "      <td>(US20190103952A1)|2037-10-03|(EP3468091A1)|201...</td>\n",
              "      <td>(US20190103952)|System and method for adaptive...</td>\n",
              "      <td>(US20190103952)|A method for aggregating usage...</td>\n",
              "      <td>HONEYWELL INTERNATIONAL|SATCOM1 FRANCE</td>\n",
              "      <td>GOUDAL FRANCOIS|KAUFFMANN ALBIN|NADER ADRIEN</td>\n",
              "      <td>(EP3468091)|Houghton, Mark Phillip ; Patent Ou...</td>\n",
              "      <td>(US20190103952)|Accordingly, it is desirable t...</td>\n",
              "      <td>(US20190103952)|1 . A method for aggregating u...</td>\n",
              "      <td>(US20190103952)|The present invention generall...</td>\n",
              "      <td>(EP3468091)|AIRCRAFT FLIGHT(100,23)|BROADBAND ...</td>\n",
              "      <td>AB|(US20190103952)|A method for aggregating us...</td>\n",
              "      <td>NaN</td>\n",
              "      <td>(US20190103952A1)|PENDING|(EP3468091A1)|LAPSED</td>\n",
              "      <td>(US20190103952)|LEGAL DETAILS FOR US2019010395...</td>\n",
              "      <td>(EP3468091)|Contracting States:  AL AT BE BG C...</td>\n",
              "      <td>US</td>\n",
              "      <td>(US20190103952)|Number of Drawings: NDR=7||Num...</td>\n",
              "      <td>NaN</td>\n",
              "    </tr>\n",
              "    <tr>\n",
              "      <th>2095</th>\n",
              "      <td>2011FR-0056900</td>\n",
              "      <td>EP12177427|CN201210262620|FR1156900|US13/552,104</td>\n",
              "      <td>EP2551191|CN102897328|FR2978423|US8818573|FR29...</td>\n",
              "      <td>8141440</td>\n",
              "      <td>US8818573           B2 2014-08-26 [US8818573]|...</td>\n",
              "      <td>2011-07-28</td>\n",
              "      <td>2011-07-28</td>\n",
              "      <td>2013-01-30</td>\n",
              "      <td>2014-08-26</td>\n",
              "      <td>(US8818573B2)|2033-02-20|(FR2978423B1)|2031-07...</td>\n",
              "      <td>(US8818573)|Method and device for detecting an...</td>\n",
              "      <td>(US8818573)|A detection device determines whet...</td>\n",
              "      <td>AIRBUS OPERATIONS|CNRS - CENTRE NATIONAL DE LA...</td>\n",
              "      <td>GOUPIL PHILIPPE|DAYRE RÉMY|LE BERRE HERVÉ|GHEO...</td>\n",
              "      <td>(US8818573)|Wood, Herron &amp; Evans, LLP|(FR29784...</td>\n",
              "      <td>(US8818573)|It is thus necessary to be in a po...</td>\n",
              "      <td>(US8818573)|1. A detection method for an uncon...</td>\n",
              "      <td>(US8818573)|The present invention thus relates...</td>\n",
              "      <td>(EP2551191)|FEEDBACK COMMAND(100,7)|AIRCRAFT C...</td>\n",
              "      <td>AB|(US8818573)|A detection device determines w...</td>\n",
              "      <td>PCLO=701003000|PCLX=701039000</td>\n",
              "      <td>(US8818573B2)|GRANTED|(FR2978423B1)|GRANTED|(E...</td>\n",
              "      <td>(US8818573)|LEGAL DETAILS FOR US20130026287|Ac...</td>\n",
              "      <td>(EP2551191)|Contracting States:  AL AT BE BG C...</td>\n",
              "      <td>FR</td>\n",
              "      <td>(US20130026287)|Number of Drawings: NDR=2||Num...</td>\n",
              "      <td>(US8818573)|Previous publication: US2013002628...</td>\n",
              "    </tr>\n",
              "    <tr>\n",
              "      <th>13566</th>\n",
              "      <td>2015US-14613504|2018US-16052297</td>\n",
              "      <td>US16/052,297|US14/613,504|JP2016017316|KR20150...</td>\n",
              "      <td>US20180354062|US10065264|JP2016199802|KR201600...</td>\n",
              "      <td>73788400</td>\n",
              "      <td>US10065264          B2 2018-09-04 [US10065264]...</td>\n",
              "      <td>2015-02-04</td>\n",
              "      <td>2015-02-04</td>\n",
              "      <td>2016-08-04</td>\n",
              "      <td>2018-09-04</td>\n",
              "      <td>(US10065264B2)|2035-03-31|(US20180354062A1)|20...</td>\n",
              "      <td>(US10065264)|Apparatus and method for manufact...</td>\n",
              "      <td>(US10065264)|An apparatus and method for manuf...</td>\n",
              "      <td>BOEING</td>\n",
              "      <td>DIETRICH DAVID M</td>\n",
              "      <td>(US10065264)|Walters &amp; Wasylyna LLC|(EP3053741...</td>\n",
              "      <td>(US10065264)|As one example, anticounterfeitin...</td>\n",
              "      <td>(US10065264)|1. A method for manufacturing a t...</td>\n",
              "      <td>(US10065264)|For the purposes of this descript...</td>\n",
              "      <td>(US20180354062)|THREEDIMENSIONAL ARTICLE(100,1...</td>\n",
              "      <td>EPD|2016-08-04||FAMILY_PN|(US10065264)|US10065...</td>\n",
              "      <td>NaN</td>\n",
              "      <td>(US10065264B2)|GRANTED|(US20180354062A1)|PENDI...</td>\n",
              "      <td>(US10065264)|LEGAL DETAILS FOR US20160221114|A...</td>\n",
              "      <td>(EP3053741)|Contracting States:  AL AT BE BG C...</td>\n",
              "      <td>US</td>\n",
              "      <td>(US20160221114)|Number of Drawings: NDR=8||Num...</td>\n",
              "      <td>(US10065264)|Previous publication: US201602211...</td>\n",
              "    </tr>\n",
              "  </tbody>\n",
              "</table>\n",
              "</div>"
            ],
            "text/plain": [
              "                                 PR.§1  ...                                                 FD\n",
              "10792  2009US-12509471|2012US-13467160  ...  (US8695669)|Division of: US12/509,471 FDD=2009...\n",
              "13612                   2014EP-0194526  ...  (US10001024)|Previous publication: US201601460...\n",
              "397                    2017US-15724033  ...                                                NaN\n",
              "2095                    2011FR-0056900  ...  (US8818573)|Previous publication: US2013002628...\n",
              "13566  2015US-14613504|2018US-16052297  ...  (US10065264)|Previous publication: US201602211...\n",
              "\n",
              "[5 rows x 27 columns]"
            ]
          },
          "metadata": {
            "tags": []
          },
          "execution_count": 8
        }
      ]
    },
    {
      "cell_type": "code",
      "metadata": {
        "id": "kkNX2A1M1eyC",
        "colab_type": "code",
        "outputId": "aa9b727c-4cec-45e2-a0c4-2e2c4eb9b181",
        "colab": {
          "base_uri": "https://localhost:8080/",
          "height": 34
        }
      },
      "source": [
        "print(df['EPD'][1])\n",
        "#Date format %Y-%m-%d\n",
        "\n",
        "date_col = ['EPRD', 'EAPD', 'EPD','EPDG']\n",
        "for c in date_col:\n",
        "  df[c] = pd.to_datetime(df[c])\n",
        "df['days_grant'] = df['EPDG'] - df['EPRD']"
      ],
      "execution_count": 9,
      "outputs": [
        {
          "output_type": "stream",
          "text": [
            "2017-04-25\n"
          ],
          "name": "stdout"
        }
      ]
    },
    {
      "cell_type": "code",
      "metadata": {
        "id": "70wIR2zl2d-i",
        "colab_type": "code",
        "colab": {}
      },
      "source": [
        "df = applyPattern(df)\n",
        "#df_light = applyPattern(df).drop('FD',1)\n",
        "#df_light.to_csv(r'/gdrive/My Drive/orbit_light.csv')"
      ],
      "execution_count": 0,
      "outputs": []
    },
    {
      "cell_type": "code",
      "metadata": {
        "id": "VXAW3A1g2s8A",
        "colab_type": "code",
        "colab": {}
      },
      "source": [
        "def getArtUnit(df_csv):\n",
        "    #Let's extract first 2 num of group art unit\n",
        "  df_csv['prefix_art'] = df_csv['art_unit'].str[:2]\n",
        "  df_csv['suffix_art'] = df_csv['art_unit'].str[2:]\n",
        "  return df_csv"
      ],
      "execution_count": 0,
      "outputs": []
    },
    {
      "cell_type": "code",
      "metadata": {
        "id": "hnqRlkMp5RsY",
        "colab_type": "code",
        "outputId": "0eade8c5-68fa-403f-f7ba-119c80f4d7a8",
        "colab": {
          "base_uri": "https://localhost:8080/",
          "height": 34
        }
      },
      "source": [
        "df = getArtUnit(df)\n",
        "df.shape"
      ],
      "execution_count": 12,
      "outputs": [
        {
          "output_type": "execute_result",
          "data": {
            "text/plain": [
              "(15018, 37)"
            ]
          },
          "metadata": {
            "tags": []
          },
          "execution_count": 12
        }
      ]
    },
    {
      "cell_type": "code",
      "metadata": {
        "id": "G262ODgn5VSn",
        "colab_type": "code",
        "colab": {}
      },
      "source": [
        "def getTopPrefixForAssignee(assignee,n,df):\n",
        "  df_a = df[df['PA'].str.contains(assignee)]\n",
        "  top_prefix = df_a['prefix_art'].value_counts()\n",
        "  return (top_prefix[top_prefix>n],assignee)\n",
        "\n",
        "def normalizeAssignee(df):\n",
        "  list_df = []\n",
        "  df['norm_assignee'] = 'OTHER'\n",
        "  for a in assignees_list:\n",
        "    sub_df = df[df['PA'].str.contains(a)]\n",
        "    sub_df['norm_assignee'] = a\n",
        "    list_df.append(sub_df)\n",
        "  list_df.append(df[df['PA'] == 'OTHER'])\n",
        "  return pd.concat(list_df,axis=0)\n"
      ],
      "execution_count": 0,
      "outputs": []
    },
    {
      "cell_type": "code",
      "metadata": {
        "id": "7S9HIwEf-MLB",
        "colab_type": "code",
        "outputId": "b75b38f7-a247-46dd-8efd-590936547356",
        "colab": {
          "base_uri": "https://localhost:8080/",
          "height": 119
        }
      },
      "source": [
        "df = normalizeAssignee(df)\n",
        "df['granted_bool'] = df['days_grant'].notnull()"
      ],
      "execution_count": 14,
      "outputs": [
        {
          "output_type": "stream",
          "text": [
            "/usr/local/lib/python3.6/dist-packages/ipykernel_launcher.py:11: SettingWithCopyWarning: \n",
            "A value is trying to be set on a copy of a slice from a DataFrame.\n",
            "Try using .loc[row_indexer,col_indexer] = value instead\n",
            "\n",
            "See the caveats in the documentation: http://pandas.pydata.org/pandas-docs/stable/user_guide/indexing.html#returning-a-view-versus-a-copy\n",
            "  # This is added back by InteractiveShellApp.init_path()\n"
          ],
          "name": "stderr"
        }
      ]
    },
    {
      "cell_type": "code",
      "metadata": {
        "id": "-0_5sfUUFVaa",
        "colab_type": "code",
        "outputId": "8a8c1ac8-a998-439e-d75e-2a70c83a8653",
        "colab": {
          "base_uri": "https://localhost:8080/",
          "height": 68
        }
      },
      "source": [
        "df['granted_bool'].value_counts(dropna=False)"
      ],
      "execution_count": 15,
      "outputs": [
        {
          "output_type": "execute_result",
          "data": {
            "text/plain": [
              "True     11922\n",
              "False     3019\n",
              "Name: granted_bool, dtype: int64"
            ]
          },
          "metadata": {
            "tags": []
          },
          "execution_count": 15
        }
      ]
    },
    {
      "cell_type": "code",
      "metadata": {
        "id": "jTPNUWco5eRq",
        "colab_type": "code",
        "outputId": "55695bce-c544-401f-f8fd-e147165de554",
        "colab": {
          "base_uri": "https://localhost:8080/",
          "height": 382
        }
      },
      "source": [
        "list_top_prefix = [getTopPrefixForAssignee(assignee,0,df) for assignee in assignees_list]\n",
        "#sns.distplot( y=list_top_prefix[0][0], x=df_l_exam['prefix_art'] )\n",
        "sns.set(style=\"ticks\", color_codes=True)\n",
        "fig_sns = sns.catplot(x=\"norm_assignee\", y=\"prefix_art\", data=df[df['prefix_art'].notnull()],height = 5,aspect=3)\n",
        "plt.xlabel('Technical Centers')\n",
        "plt.ylabel('Assignees')"
      ],
      "execution_count": 16,
      "outputs": [
        {
          "output_type": "execute_result",
          "data": {
            "text/plain": [
              "Text(12.334999999999994, 0.5, 'Assignees')"
            ]
          },
          "metadata": {
            "tags": []
          },
          "execution_count": 16
        },
        {
          "output_type": "display_data",
          "data": {
            "image/png": "[encoded data removed]",
            "text/plain": [
              "<Figure size 1080x360 with 1 Axes>"
            ]
          },
          "metadata": {
            "tags": []
          }
        }
      ]
    },
    {
      "cell_type": "code",
      "metadata": {
        "id": "lcb0_jFx6b70",
        "colab_type": "code",
        "outputId": "6dde2f14-6d22-41b1-99e6-56bdccde4e5e",
        "colab": {
          "base_uri": "https://localhost:8080/",
          "height": 285
        }
      },
      "source": [
        "df['norm_assignee'].value_counts(dropna=True).head(30).plot(kind='barh')"
      ],
      "execution_count": 17,
      "outputs": [
        {
          "output_type": "execute_result",
          "data": {
            "text/plain": [
              "<matplotlib.axes._subplots.AxesSubplot at 0x7f70a5614518>"
            ]
          },
          "metadata": {
            "tags": []
          },
          "execution_count": 17
        },
        {
          "output_type": "display_data",
          "data": {
            "image/png": "[encoded data removed]",
            "text/plain": [
              "<Figure size 432x288 with 1 Axes>"
            ]
          },
          "metadata": {
            "tags": []
          }
        }
      ]
    },
    {
      "cell_type": "code",
      "metadata": {
        "id": "0_5JguRc6NJc",
        "colab_type": "code",
        "outputId": "f54b7f0b-d439-42da-f8a8-d44fc59bbabd",
        "colab": {
          "base_uri": "https://localhost:8080/",
          "height": 285
        }
      },
      "source": [
        "df['prefix_art'].value_counts(dropna=False).plot(kind='barh')"
      ],
      "execution_count": 18,
      "outputs": [
        {
          "output_type": "execute_result",
          "data": {
            "text/plain": [
              "<matplotlib.axes._subplots.AxesSubplot at 0x7f70a5397320>"
            ]
          },
          "metadata": {
            "tags": []
          },
          "execution_count": 18
        },
        {
          "output_type": "display_data",
          "data": {
            "image/png": "[encoded data removed]",
            "text/plain": [
              "<Figure size 432x288 with 1 Axes>"
            ]
          },
          "metadata": {
            "tags": []
          }
        }
      ]
    },
    {
      "cell_type": "code",
      "metadata": {
        "id": "GCqp7nN-6OO2",
        "colab_type": "code",
        "outputId": "14b32b7f-8246-4784-e5dc-ed144b18bc5f",
        "colab": {
          "base_uri": "https://localhost:8080/",
          "height": 365
        }
      },
      "source": [
        "from  matplotlib.ticker import PercentFormatter\n",
        "g = sns.catplot(\"granted_bool\", col=\"norm_assignee\", col_wrap=6,data=df, kind=\"count\", height=2.5, aspect=1.05,palette=\"Blues\",saturation=.5) \n",
        "\n",
        "plt.show()"
      ],
      "execution_count": 19,
      "outputs": [
        {
          "output_type": "display_data",
          "data": {
            "image/png": "[encoded data removed]",
            "text/plain": [
              "<Figure size 1134x360 with 12 Axes>"
            ]
          },
          "metadata": {
            "tags": []
          }
        }
      ]
    },
    {
      "cell_type": "code",
      "metadata": {
        "id": "pE0eXHFQKB_T",
        "colab_type": "code",
        "outputId": "d13f1f0e-7ea2-4de5-f21d-9d829f5f0632",
        "colab": {
          "base_uri": "https://localhost:8080/",
          "height": 285
        }
      },
      "source": [
        "df['art_unit'].value_counts().head(20).plot(kind='barh')\n",
        "df['art_unit'].value_counts().shape"
      ],
      "execution_count": 20,
      "outputs": [
        {
          "output_type": "execute_result",
          "data": {
            "text/plain": [
              "(453,)"
            ]
          },
          "metadata": {
            "tags": []
          },
          "execution_count": 20
        },
        {
          "output_type": "display_data",
          "data": {
            "image/png": "[encoded data removed]",
            "text/plain": [
              "<Figure size 432x288 with 1 Axes>"
            ]
          },
          "metadata": {
            "tags": []
          }
        }
      ]
    },
    {
      "cell_type": "code",
      "metadata": {
        "id": "RjuirMsnP0Vw",
        "colab_type": "code",
        "outputId": "26b9be5e-a68d-48f0-9d67-ddb8fadce685",
        "colab": {
          "base_uri": "https://localhost:8080/",
          "height": 303
        }
      },
      "source": [
        "df_thales = df[df['norm_assignee'] == 'THALES']\n",
        "df_t = df_thales['art_unit'].value_counts().head(30).plot(kind='bar')\n",
        "df_t_sum = df_thales['art_unit'].value_counts().head(20).sum()\n",
        "df_t_sum"
      ],
      "execution_count": 21,
      "outputs": [
        {
          "output_type": "execute_result",
          "data": {
            "text/plain": [
              "242"
            ]
          },
          "metadata": {
            "tags": []
          },
          "execution_count": 21
        },
        {
          "output_type": "display_data",
          "data": {
            "image/png": "[encoded data removed]",
            "text/plain": [
              "<Figure size 432x288 with 1 Axes>"
            ]
          },
          "metadata": {
            "tags": []
          }
        }
      ]
    },
    {
      "cell_type": "code",
      "metadata": {
        "id": "C0VhsWKATA99",
        "colab_type": "code",
        "outputId": "51cafed1-b6cc-4958-9bda-f8243a82070e",
        "colab": {
          "base_uri": "https://localhost:8080/",
          "height": 170
        }
      },
      "source": [
        "df_thales['art_unit'].value_counts().describe()"
      ],
      "execution_count": 22,
      "outputs": [
        {
          "output_type": "execute_result",
          "data": {
            "text/plain": [
              "count    140.000000\n",
              "mean       3.071429\n",
              "std        4.679118\n",
              "min        1.000000\n",
              "25%        1.000000\n",
              "50%        1.000000\n",
              "75%        3.000000\n",
              "max       27.000000\n",
              "Name: art_unit, dtype: float64"
            ]
          },
          "metadata": {
            "tags": []
          },
          "execution_count": 22
        }
      ]
    },
    {
      "cell_type": "code",
      "metadata": {
        "id": "oY7TKJRGQHrY",
        "colab_type": "code",
        "outputId": "70f519b6-d7e8-41a0-abe8-ba81d734f190",
        "colab": {
          "base_uri": "https://localhost:8080/",
          "height": 421
        }
      },
      "source": [
        "df_c = df[df['norm_assignee'] == 'COLLINS']\n",
        "df_collins = df_c['art_unit'].value_counts().head(20).plot(kind='barh')\n",
        "df_c['art_unit'].value_counts().describe()"
      ],
      "execution_count": 23,
      "outputs": [
        {
          "output_type": "execute_result",
          "data": {
            "text/plain": [
              "count    169.000000\n",
              "mean       3.804734\n",
              "std        6.465364\n",
              "min        1.000000\n",
              "25%        1.000000\n",
              "50%        2.000000\n",
              "75%        3.000000\n",
              "max       50.000000\n",
              "Name: art_unit, dtype: float64"
            ]
          },
          "metadata": {
            "tags": []
          },
          "execution_count": 23
        },
        {
          "output_type": "display_data",
          "data": {
            "image/png": "[encoded data removed]",
            "text/plain": [
              "<Figure size 432x288 with 1 Axes>"
            ]
          },
          "metadata": {
            "tags": []
          }
        }
      ]
    },
    {
      "cell_type": "code",
      "metadata": {
        "id": "JH9x4Ug8UqKf",
        "colab_type": "code",
        "colab": {}
      },
      "source": [
        "#Les art units avec les meilleurs stats\n",
        "#Les examinateurs avec les meilleurs stats dans un même art unit\n",
        "#moyenne générale dans un art unit \n",
        "#calcul du temps depuis la première prio \n",
        "#temps moyen pour délivrer brevet par acteur\n",
        "#examinateur meme si pas delivré ?\n",
        "#stat par examinateur"
      ],
      "execution_count": 0,
      "outputs": []
    },
    {
      "cell_type": "code",
      "metadata": {
        "id": "9KS77xsFXFrJ",
        "colab_type": "code",
        "colab": {}
      },
      "source": [
        "from datetime import date\n",
        "def getAssigneeDataFrame(assignee,df):\n",
        "  return df[df['norm_assignee'] == assignee]\n",
        "\n",
        "def computeTimeSinceFiling(df):\n",
        "  df['days_filing'] = datetime.today() - df['EPRD']\n",
        "  return df\n",
        "\n",
        "def avgTimeToGrant(df):\n",
        "  dic = {}\n",
        "  for a in assignees_list:\n",
        "    df_a = getAssigneeDataFrame(a,df)\n",
        "    df_a = df_a[df_a['EPDG'].notnull()]\n",
        "    dic[a] = df_a['days_grant'].mean().days\n",
        "  return dic"
      ],
      "execution_count": 0,
      "outputs": []
    },
    {
      "cell_type": "code",
      "metadata": {
        "id": "WJeMGOA_XXhZ",
        "colab_type": "code",
        "colab": {}
      },
      "source": [
        "df_boeing = getAssigneeDataFrame('BOEING',df)"
      ],
      "execution_count": 0,
      "outputs": []
    },
    {
      "cell_type": "code",
      "metadata": {
        "id": "bm0q6oT-XbVH",
        "colab_type": "code",
        "outputId": "591e62b2-6333-4019-f529-cb39334f33cf",
        "colab": {
          "base_uri": "https://localhost:8080/",
          "height": 119
        }
      },
      "source": [
        "df_boeing['days_filing'] = datetime.now() - df_boeing['EPRD']"
      ],
      "execution_count": 27,
      "outputs": [
        {
          "output_type": "stream",
          "text": [
            "/usr/local/lib/python3.6/dist-packages/ipykernel_launcher.py:1: SettingWithCopyWarning: \n",
            "A value is trying to be set on a copy of a slice from a DataFrame.\n",
            "Try using .loc[row_indexer,col_indexer] = value instead\n",
            "\n",
            "See the caveats in the documentation: http://pandas.pydata.org/pandas-docs/stable/user_guide/indexing.html#returning-a-view-versus-a-copy\n",
            "  \"\"\"Entry point for launching an IPython kernel.\n"
          ],
          "name": "stderr"
        }
      ]
    },
    {
      "cell_type": "code",
      "metadata": {
        "id": "-NBycj4iXcz-",
        "colab_type": "code",
        "outputId": "228ec5a3-af23-4df8-d3b8-48777fba75b6",
        "colab": {
          "base_uri": "https://localhost:8080/",
          "height": 34
        }
      },
      "source": [
        "df = computeTimeSinceFiling(df)\n",
        "dic_avg = avgTimeToGrant(df)\n",
        "dic_avg['AIRBUS']"
      ],
      "execution_count": 28,
      "outputs": [
        {
          "output_type": "execute_result",
          "data": {
            "text/plain": [
              "1174"
            ]
          },
          "metadata": {
            "tags": []
          },
          "execution_count": 28
        }
      ]
    },
    {
      "cell_type": "code",
      "metadata": {
        "id": "bJIb49mvYftp",
        "colab_type": "code",
        "colab": {}
      },
      "source": [
        "df_dic = pd.DataFrame([dic_avg]).T\n",
        "df_dic = df_dic.rename(columns={df_dic.columns[0]:'avg_day'})"
      ],
      "execution_count": 0,
      "outputs": []
    },
    {
      "cell_type": "code",
      "metadata": {
        "id": "4RlRyxQCc9sp",
        "colab_type": "code",
        "outputId": "a377c72f-5701-4d02-d425-e1d15ffecf1d",
        "colab": {
          "base_uri": "https://localhost:8080/",
          "height": 351
        }
      },
      "source": [
        "df_dic['avg_day'].sort_values(ascending=False).plot(kind='bar')"
      ],
      "execution_count": 30,
      "outputs": [
        {
          "output_type": "execute_result",
          "data": {
            "text/plain": [
              "<matplotlib.axes._subplots.AxesSubplot at 0x7f70a242aef0>"
            ]
          },
          "metadata": {
            "tags": []
          },
          "execution_count": 30
        },
        {
          "output_type": "display_data",
          "data": {
            "image/png": "[encoded data removed]",
            "text/plain": [
              "<Figure size 432x288 with 1 Axes>"
            ]
          },
          "metadata": {
            "tags": []
          }
        }
      ]
    },
    {
      "cell_type": "code",
      "metadata": {
        "id": "F8s_KnJafVmh",
        "colab_type": "code",
        "colab": {}
      },
      "source": [
        "def getYearFilingForAssignee(assignee,df):\n",
        "  df = getAssigneeDataFrame(assignee,df)\n",
        "  g = df['EPRD'].dt.year.value_counts().sort_index().plot(kind='bar')\n",
        "  g.set_xlabel('Year of Filing')\n",
        "  g.set_ylabel('Number of Patent Filed')\n",
        "  g.set_title('Year of Filing for the dataset')\n",
        "  return g\n",
        "#g.set_xlim()"
      ],
      "execution_count": 0,
      "outputs": []
    },
    {
      "cell_type": "code",
      "metadata": {
        "id": "b33A0UalTyYS",
        "colab_type": "code",
        "outputId": "8814408c-586a-4e8a-874c-dfc5a4d5f0e3",
        "colab": {
          "base_uri": "https://localhost:8080/",
          "height": 319
        }
      },
      "source": [
        "th = getYearFilingForAssignee('BOEING',df)"
      ],
      "execution_count": 32,
      "outputs": [
        {
          "output_type": "display_data",
          "data": {
            "image/png": "[encoded data removed]",
            "text/plain": [
              "<Figure size 432x288 with 1 Axes>"
            ]
          },
          "metadata": {
            "tags": []
          }
        }
      ]
    },
    {
      "cell_type": "code",
      "metadata": {
        "id": "A8uxDarbWpaY",
        "colab_type": "code",
        "colab": {}
      },
      "source": [
        "df['priority_year'] =  df['EPRD'].dt.year"
      ],
      "execution_count": 0,
      "outputs": []
    },
    {
      "cell_type": "code",
      "metadata": {
        "id": "Q2DZleoVYE7q",
        "colab_type": "code",
        "outputId": "4c5a42ea-771c-4d33-9b3f-e27ab2487343",
        "colab": {
          "base_uri": "https://localhost:8080/",
          "height": 319
        }
      },
      "source": [
        "ge = getYearFilingForAssignee('GE AVIATION',df)"
      ],
      "execution_count": 34,
      "outputs": [
        {
          "output_type": "display_data",
          "data": {
            "image/png": "[encoded data removed]",
            "text/plain": [
              "<Figure size 432x288 with 1 Axes>"
            ]
          },
          "metadata": {
            "tags": []
          }
        }
      ]
    },
    {
      "cell_type": "code",
      "metadata": {
        "id": "K6_gYaTBYK-j",
        "colab_type": "code",
        "outputId": "1d2ca851-54a2-4243-bab6-5235fa078b6f",
        "colab": {
          "base_uri": "https://localhost:8080/",
          "height": 493
        }
      },
      "source": [
        "exam_thales = df_thales['examiner'].value_counts()\n",
        "exam_thales_2 = exam_thales[exam_thales>2]\n",
        "exam_thales_2"
      ],
      "execution_count": 35,
      "outputs": [
        {
          "output_type": "execute_result",
          "data": {
            "text/plain": [
              " Tarcza Thomas          14\n",
              " Cheung Calvin           7\n",
              " Cheung Mary             7\n",
              " Olszewski John R        6\n",
              " Nguyen Tan Q            6\n",
              " Black Thomas G          6\n",
              " Edwards Jerrah          5\n",
              " Camby Richard           4\n",
              " Patel Harshad R         4\n",
              " Bruckart Benjamin R     4\n",
              " Sotomayor John B        4\n",
              " Khatib Rami             4\n",
              " Ratcliffe Luke          4\n",
              " Trammell James          4\n",
              " Nguyen John Q           4\n",
              " Phan Dao                4\n",
              " Brainard Timothy A      3\n",
              " Tran Khoi               3\n",
              " Marc-Coleman Marthe     3\n",
              " Lin Abby Y              3\n",
              " Nguyen Tai T            3\n",
              " Barker Matthew M        3\n",
              " Badii Behrang           3\n",
              " Gregory Bernarr E       3\n",
              " Nguyen Sang             3\n",
              " Shafi Muhammad          3\n",
              " Gregory Bernarr         3\n",
              "Name: examiner, dtype: int64"
            ]
          },
          "metadata": {
            "tags": []
          },
          "execution_count": 35
        }
      ]
    },
    {
      "cell_type": "code",
      "metadata": {
        "id": "y7ICPHLXamxi",
        "colab_type": "code",
        "outputId": "05755334-8803-4314-cb64-671ad7046f3c",
        "colab": {
          "base_uri": "https://localhost:8080/",
          "height": 221
        }
      },
      "source": [
        "#peut on avoir un examiner si pas granted ? \n",
        "df_b_exam = df_boeing[df_boeing['granted_bool'] == False]\n",
        "\n",
        "print(df_b_exam[df_b_exam['FD'].notnull()]['FD'])\n"
      ],
      "execution_count": 36,
      "outputs": [
        {
          "output_type": "stream",
          "text": [
            "329      (US20180362149)|Provisional Appl: US62/519,693...\n",
            "543      (US20190241247)|Provisional Appl: US62/628,254...\n",
            "761      (US20190144112)|CIP of: US15/815,689 FDD=2017-...\n",
            "1426     (US20190048959)|Continuation of: US15/867,940 ...\n",
            "1796     (US20190080615)|CIP of: US15/703,053 FDD=2017-...\n",
            "                               ...                        \n",
            "14507    (US20190270296)|Provisional Appl: US62/638,055...\n",
            "14509    (US20190241752)|Provisional Appl: US62/625,785...\n",
            "14510    (US20190240635)|Provisional Appl: US62/625,792...\n",
            "14516    (US20190002739)|Provisional Appl: US62/527,432...\n",
            "14828    (US20180255455)|CIP of: US15/451,291 FDD=2017-...\n",
            "Name: FD, Length: 72, dtype: object\n"
          ],
          "name": "stdout"
        }
      ]
    },
    {
      "cell_type": "code",
      "metadata": {
        "id": "pSWTwkk5be6T",
        "colab_type": "code",
        "outputId": "10480298-f006-4706-a3b9-f5ac0e0f7e6b",
        "colab": {
          "base_uri": "https://localhost:8080/",
          "height": 34
        }
      },
      "source": [
        "print(df_b_exam['FD'][1796])"
      ],
      "execution_count": 37,
      "outputs": [
        {
          "output_type": "stream",
          "text": [
            "(US20190080615)|CIP of: US15/703,053 FDD=2017-09-13 [2017US-15703053]\n"
          ],
          "name": "stdout"
        }
      ]
    },
    {
      "cell_type": "code",
      "metadata": {
        "id": "s3Z-2Q26ePpf",
        "colab_type": "code",
        "outputId": "d0b2c4ac-01c8-4901-eb52-7583805317ef",
        "colab": {
          "base_uri": "https://localhost:8080/",
          "height": 233
        }
      },
      "source": [
        "all_ex = df[df['examiner'].notnull()]['examiner'].unique()\n",
        "all_l = []\n",
        "all_ex[0]\n",
        "df_e = df[df['examiner'] == all_ex[0]]\n",
        "df_e"
      ],
      "execution_count": 38,
      "outputs": [
        {
          "output_type": "execute_result",
          "data": {
            "text/html": [
              "<div>\n",
              "<style scoped>\n",
              "    .dataframe tbody tr th:only-of-type {\n",
              "        vertical-align: middle;\n",
              "    }\n",
              "\n",
              "    .dataframe tbody tr th {\n",
              "        vertical-align: top;\n",
              "    }\n",
              "\n",
              "    .dataframe thead th {\n",
              "        text-align: right;\n",
              "    }\n",
              "</style>\n",
              "<table border=\"1\" class=\"dataframe\">\n",
              "  <thead>\n",
              "    <tr style=\"text-align: right;\">\n",
              "      <th></th>\n",
              "      <th>PR.§1</th>\n",
              "      <th>AP.§1</th>\n",
              "      <th>PN.PN</th>\n",
              "      <th>FAN</th>\n",
              "      <th>FAMILY_PN</th>\n",
              "      <th>EPRD</th>\n",
              "      <th>EAPD</th>\n",
              "      <th>EPD</th>\n",
              "      <th>EPDG</th>\n",
              "      <th>ACT.EED</th>\n",
              "      <th>TI</th>\n",
              "      <th>AB</th>\n",
              "      <th>PA</th>\n",
              "      <th>IN</th>\n",
              "      <th>RP</th>\n",
              "      <th>ADB</th>\n",
              "      <th>ICLM</th>\n",
              "      <th>OBJ</th>\n",
              "      <th>KEYW</th>\n",
              "      <th>KWIC</th>\n",
              "      <th>PCL</th>\n",
              "      <th>ACT.STATUS</th>\n",
              "      <th>ACT</th>\n",
              "      <th>DS</th>\n",
              "      <th>EPRC</th>\n",
              "      <th>NO</th>\n",
              "      <th>FD</th>\n",
              "      <th>days_grant</th>\n",
              "      <th>art_unit</th>\n",
              "      <th>extension_days</th>\n",
              "      <th>examiner</th>\n",
              "      <th>draw_nb</th>\n",
              "      <th>clms_nb</th>\n",
              "      <th>clean_title</th>\n",
              "      <th>clean_num</th>\n",
              "      <th>prefix_art</th>\n",
              "      <th>suffix_art</th>\n",
              "      <th>norm_assignee</th>\n",
              "      <th>granted_bool</th>\n",
              "      <th>days_filing</th>\n",
              "      <th>priority_year</th>\n",
              "    </tr>\n",
              "  </thead>\n",
              "  <tbody>\n",
              "    <tr>\n",
              "      <th>10</th>\n",
              "      <td>2016FR-0001112</td>\n",
              "      <td>US15/652,801|FR1601112|CN201710585460</td>\n",
              "      <td>US10453234|FR3054314|US20180075632|CN107628258...</td>\n",
              "      <td>78601936</td>\n",
              "      <td>US10453234          B2 2019-10-22 [US10453234]...</td>\n",
              "      <td>2016-07-19</td>\n",
              "      <td>2016-07-19</td>\n",
              "      <td>2018-01-26</td>\n",
              "      <td>2018-08-31</td>\n",
              "      <td>(US10453234B2)|2037-07-18|(FR3054314B1)|2036-0...</td>\n",
              "      <td>(US10453234)|System for displaying avionic dat...</td>\n",
              "      <td>(US10453234)|The present invention relates to ...</td>\n",
              "      <td>THALES</td>\n",
              "      <td>Baron Luc|Garnavault Christophe|Aymeric Bruno|...</td>\n",
              "      <td>(US10453234)|Pearne &amp; Gordon LLP|(FR3054314)|C...</td>\n",
              "      <td>(US10453234)|Other devices typically make it p...</td>\n",
              "      <td>(US10453234)|1. A system for displaying avioni...</td>\n",
              "      <td>(US10453234)|The present invention relates to ...</td>\n",
              "      <td>(US10453234)|DISPLAY FORMAT(100,96)|AIRCRAFT(1...</td>\n",
              "      <td>AB|(US10453234)|The present invention relates ...</td>\n",
              "      <td>NaN</td>\n",
              "      <td>(US10453234B2)|GRANTED|(FR3054314B1)|GRANTED|(...</td>\n",
              "      <td>(US10453234)|LEGAL DETAILS FOR US20180075632|A...</td>\n",
              "      <td>NaN</td>\n",
              "      <td>FR</td>\n",
              "      <td>(US20180075632)|Number of Drawings: NDR=4||Num...</td>\n",
              "      <td>(US10453234)|Previous publication: US201800756...</td>\n",
              "      <td>773 days</td>\n",
              "      <td>2611</td>\n",
              "      <td>NaN</td>\n",
              "      <td>Wu Yanna</td>\n",
              "      <td>4</td>\n",
              "      <td>10</td>\n",
              "      <td>System for displaying avionic data on at least...</td>\n",
              "      <td>US10453234</td>\n",
              "      <td>26</td>\n",
              "      <td>11</td>\n",
              "      <td>THALES</td>\n",
              "      <td>True</td>\n",
              "      <td>1202 days 17:40:23.945571</td>\n",
              "      <td>2016</td>\n",
              "    </tr>\n",
              "    <tr>\n",
              "      <th>11794</th>\n",
              "      <td>2016US-15185785</td>\n",
              "      <td>US15/185,785</td>\n",
              "      <td>US10417803|US20170365086</td>\n",
              "      <td>78089253</td>\n",
              "      <td>US10417803          B2 2019-09-17 [US10417803]...</td>\n",
              "      <td>2016-06-17</td>\n",
              "      <td>2016-06-17</td>\n",
              "      <td>2017-12-21</td>\n",
              "      <td>2019-09-17</td>\n",
              "      <td>2036-06-17</td>\n",
              "      <td>(US10417803)|Multiple-pass rendering of a digi...</td>\n",
              "      <td>(US10417803)|A method is provided for renderin...</td>\n",
              "      <td>BOEING</td>\n",
              "      <td>FLOYD JOSEPH FRANK|EAMES PATRICK JAMES|HADLEY ...</td>\n",
              "      <td>(US10417803)|Womble Bond Dickinson (US) LLP</td>\n",
              "      <td>(US10417803)|Display of an aircraft and its pa...</td>\n",
              "      <td>(US10417803)|1. An apparatus for rendering a s...</td>\n",
              "      <td>(US10417803)|The present disclosure relates ge...</td>\n",
              "      <td>(US10417803)|PASS RENDERING(100,49)|SCENE(100,...</td>\n",
              "      <td>ADB|(US10417803)|Display of an aircraft and it...</td>\n",
              "      <td>NaN</td>\n",
              "      <td>GRANTED</td>\n",
              "      <td>(US10417803)|LEGAL DETAILS FOR US20170365086|A...</td>\n",
              "      <td>NaN</td>\n",
              "      <td>US</td>\n",
              "      <td>(US20170365086)|Number of Drawings: NDR=6||Num...</td>\n",
              "      <td>(US10417803)|Previous publication: US201703650...</td>\n",
              "      <td>1187 days</td>\n",
              "      <td>2611</td>\n",
              "      <td>NaN</td>\n",
              "      <td>Wu Yanna</td>\n",
              "      <td>6</td>\n",
              "      <td>24</td>\n",
              "      <td>Multiple-pass rendering of a digital three-dim...</td>\n",
              "      <td>US10417803</td>\n",
              "      <td>26</td>\n",
              "      <td>11</td>\n",
              "      <td>BOEING</td>\n",
              "      <td>True</td>\n",
              "      <td>1234 days 17:40:23.945571</td>\n",
              "      <td>2016</td>\n",
              "    </tr>\n",
              "  </tbody>\n",
              "</table>\n",
              "</div>"
            ],
            "text/plain": [
              "                 PR.§1  ... priority_year\n",
              "10      2016FR-0001112  ...          2016\n",
              "11794  2016US-15185785  ...          2016\n",
              "\n",
              "[2 rows x 41 columns]"
            ]
          },
          "metadata": {
            "tags": []
          },
          "execution_count": 38
        }
      ]
    },
    {
      "cell_type": "code",
      "metadata": {
        "id": "jxddPXRtstzp",
        "colab_type": "code",
        "outputId": "a7ff6cd3-78b4-4e15-e785-bece5eb8a42d",
        "colab": {
          "base_uri": "https://localhost:8080/",
          "height": 34
        }
      },
      "source": [
        "def is_cjk(character):\n",
        "    \"\"\"\"\n",
        "    Checks whether character is CJK.\n",
        "\n",
        "        >>> is_cjk(u'\\u33fe')\n",
        "        True\n",
        "        >>> is_cjk(u'\\uFE5F')\n",
        "        False\n",
        "\n",
        "    :param character: The character that needs to be checked.\n",
        "    :type character: char\n",
        "    :return: bool\n",
        "    \"\"\"\n",
        "    return any([start <= ord(character) <= end for start, end in \n",
        "                [(4352, 4607), (11904, 42191), (43072, 43135), (44032, 55215), \n",
        "                 (63744, 64255), (65072, 65103), (65381, 65500), \n",
        "                 (131072, 196607)]\n",
        "                ])\n",
        "    \n",
        "def isExaminerCJK(s):\n",
        "  for c in s:\n",
        "    if is_cjk(c):\n",
        "      return True\n",
        "  return False\n",
        "\n",
        "isExaminerCJK('AAPOKMAKAMMA KALKJKLJLKA--')"
      ],
      "execution_count": 39,
      "outputs": [
        {
          "output_type": "execute_result",
          "data": {
            "text/plain": [
              "False"
            ]
          },
          "metadata": {
            "tags": []
          },
          "execution_count": 39
        }
      ]
    },
    {
      "cell_type": "code",
      "metadata": {
        "id": "zjLGibjgjNvF",
        "colab_type": "code",
        "colab": {}
      },
      "source": [
        "#First value is examiner\n",
        "#Second is mean days for grant patent\n",
        "#Third is max value for granting a patent\n",
        "#Fourth is the min days required for granting a patent\n",
        "#Fifth is the number of case processed by the examiner\n",
        "#Sixth is finally the group_art unit in which the examiner contribute the most\n",
        "#Seventh is the company the most processed by the examiner (might be Boeing, Airbus or Safran due to the number ...)\n",
        "all_l = []\n",
        "for ex in all_ex:\n",
        "  if isExaminerCJK(ex) == False :\n",
        "    df_e = df[df['examiner'] == ex]\n",
        "    meanV = df_e['days_grant'].mean().days\n",
        "    maxV = df_e['days_grant'].max().days\n",
        "    minV = df_e['days_grant'].min().days\n",
        "    num_case = df_e.shape[0]\n",
        "    art = df_e['art_unit'].value_counts().keys().tolist()[0]\n",
        "    top_assignee = df_e['norm_assignee'].value_counts().keys().tolist()[0]\n",
        "    percent_assignee = round((df_e['norm_assignee'].value_counts().head(1)[0])/num_case,1)\n",
        "    l = [ex,meanV,maxV,minV,num_case,int(art),top_assignee,percent_assignee]\n",
        "    all_l.append(l)"
      ],
      "execution_count": 0,
      "outputs": []
    },
    {
      "cell_type": "code",
      "metadata": {
        "id": "dhWAtHCfkYGf",
        "colab_type": "code",
        "colab": {}
      },
      "source": [
        "df_exam_s = pd.DataFrame(all_l, columns=['examiner','avg_for_grant','max_for_grant','min_for_grant','num_case','top_art_unit','top_assignee_processed','assignee_percent'])"
      ],
      "execution_count": 0,
      "outputs": []
    },
    {
      "cell_type": "code",
      "metadata": {
        "id": "1vEWfq_ltsaA",
        "colab_type": "code",
        "outputId": "402486d0-ac69-4ad2-e41c-e09d8a57b720",
        "colab": {
          "base_uri": "https://localhost:8080/",
          "height": 359
        }
      },
      "source": [
        "df_exam_s.sample(10)"
      ],
      "execution_count": 42,
      "outputs": [
        {
          "output_type": "execute_result",
          "data": {
            "text/html": [
              "<div>\n",
              "<style scoped>\n",
              "    .dataframe tbody tr th:only-of-type {\n",
              "        vertical-align: middle;\n",
              "    }\n",
              "\n",
              "    .dataframe tbody tr th {\n",
              "        vertical-align: top;\n",
              "    }\n",
              "\n",
              "    .dataframe thead th {\n",
              "        text-align: right;\n",
              "    }\n",
              "</style>\n",
              "<table border=\"1\" class=\"dataframe\">\n",
              "  <thead>\n",
              "    <tr style=\"text-align: right;\">\n",
              "      <th></th>\n",
              "      <th>examiner</th>\n",
              "      <th>avg_for_grant</th>\n",
              "      <th>max_for_grant</th>\n",
              "      <th>min_for_grant</th>\n",
              "      <th>num_case</th>\n",
              "      <th>top_art_unit</th>\n",
              "      <th>top_assignee_processed</th>\n",
              "      <th>assignee_percent</th>\n",
              "    </tr>\n",
              "  </thead>\n",
              "  <tbody>\n",
              "    <tr>\n",
              "      <th>2485</th>\n",
              "      <td>Zhao Don G</td>\n",
              "      <td>858</td>\n",
              "      <td>858</td>\n",
              "      <td>858</td>\n",
              "      <td>1</td>\n",
              "      <td>2493</td>\n",
              "      <td>PANASONIC</td>\n",
              "      <td>1.0</td>\n",
              "    </tr>\n",
              "    <tr>\n",
              "      <th>364</th>\n",
              "      <td>Kiswanto Nicholas</td>\n",
              "      <td>989</td>\n",
              "      <td>1330</td>\n",
              "      <td>753</td>\n",
              "      <td>7</td>\n",
              "      <td>3667</td>\n",
              "      <td>AIRBUS</td>\n",
              "      <td>0.6</td>\n",
              "    </tr>\n",
              "    <tr>\n",
              "      <th>1356</th>\n",
              "      <td>Mellott James</td>\n",
              "      <td>1373</td>\n",
              "      <td>1373</td>\n",
              "      <td>1373</td>\n",
              "      <td>1</td>\n",
              "      <td>1712</td>\n",
              "      <td>BOEING</td>\n",
              "      <td>1.0</td>\n",
              "    </tr>\n",
              "    <tr>\n",
              "      <th>561</th>\n",
              "      <td>Yun Jurie</td>\n",
              "      <td>905</td>\n",
              "      <td>987</td>\n",
              "      <td>823</td>\n",
              "      <td>2</td>\n",
              "      <td>2882</td>\n",
              "      <td>BOEING</td>\n",
              "      <td>1.0</td>\n",
              "    </tr>\n",
              "    <tr>\n",
              "      <th>2211</th>\n",
              "      <td>Chen Alan</td>\n",
              "      <td>1528</td>\n",
              "      <td>1528</td>\n",
              "      <td>1528</td>\n",
              "      <td>1</td>\n",
              "      <td>2129</td>\n",
              "      <td>SAFRAN</td>\n",
              "      <td>1.0</td>\n",
              "    </tr>\n",
              "    <tr>\n",
              "      <th>1238</th>\n",
              "      <td>Patel Devang R</td>\n",
              "      <td>1152</td>\n",
              "      <td>1706</td>\n",
              "      <td>932</td>\n",
              "      <td>6</td>\n",
              "      <td>1735</td>\n",
              "      <td>AIRBUS</td>\n",
              "      <td>0.7</td>\n",
              "    </tr>\n",
              "    <tr>\n",
              "      <th>80</th>\n",
              "      <td>Camby Richard</td>\n",
              "      <td>1000</td>\n",
              "      <td>1736</td>\n",
              "      <td>623</td>\n",
              "      <td>17</td>\n",
              "      <td>3661</td>\n",
              "      <td>THALES</td>\n",
              "      <td>0.2</td>\n",
              "    </tr>\n",
              "    <tr>\n",
              "      <th>2185</th>\n",
              "      <td>Ponomarenko Nicholas</td>\n",
              "      <td>818</td>\n",
              "      <td>982</td>\n",
              "      <td>655</td>\n",
              "      <td>2</td>\n",
              "      <td>2833</td>\n",
              "      <td>SAFRAN</td>\n",
              "      <td>0.5</td>\n",
              "    </tr>\n",
              "    <tr>\n",
              "      <th>214</th>\n",
              "      <td>Jagan Mirellys</td>\n",
              "      <td>928</td>\n",
              "      <td>1082</td>\n",
              "      <td>777</td>\n",
              "      <td>4</td>\n",
              "      <td>2855</td>\n",
              "      <td>THALES</td>\n",
              "      <td>0.2</td>\n",
              "    </tr>\n",
              "    <tr>\n",
              "      <th>122</th>\n",
              "      <td>Ngo Ricky</td>\n",
              "      <td>1343</td>\n",
              "      <td>1343</td>\n",
              "      <td>1343</td>\n",
              "      <td>1</td>\n",
              "      <td>2464</td>\n",
              "      <td>THALES</td>\n",
              "      <td>1.0</td>\n",
              "    </tr>\n",
              "  </tbody>\n",
              "</table>\n",
              "</div>"
            ],
            "text/plain": [
              "                   examiner  ...  assignee_percent\n",
              "2485             Zhao Don G  ...               1.0\n",
              "364       Kiswanto Nicholas  ...               0.6\n",
              "1356          Mellott James  ...               1.0\n",
              "561               Yun Jurie  ...               1.0\n",
              "2211              Chen Alan  ...               1.0\n",
              "1238         Patel Devang R  ...               0.7\n",
              "80            Camby Richard  ...               0.2\n",
              "2185   Ponomarenko Nicholas  ...               0.5\n",
              "214          Jagan Mirellys  ...               0.2\n",
              "122               Ngo Ricky  ...               1.0\n",
              "\n",
              "[10 rows x 8 columns]"
            ]
          },
          "metadata": {
            "tags": []
          },
          "execution_count": 42
        }
      ]
    },
    {
      "cell_type": "code",
      "metadata": {
        "id": "JR3WlMc4w4lm",
        "colab_type": "code",
        "outputId": "92a70fd8-295b-45a6-f9be-ef322065a360",
        "colab": {
          "base_uri": "https://localhost:8080/",
          "height": 173
        }
      },
      "source": [
        "df_exam_s['num_case'] = df_exam_s['num_case'].astype(int)\n",
        "df_exam_s['prefix_art'] = round(df_exam_s['top_art_unit']/100,0)\n",
        "df_exam_s.sample(4)"
      ],
      "execution_count": 43,
      "outputs": [
        {
          "output_type": "execute_result",
          "data": {
            "text/html": [
              "<div>\n",
              "<style scoped>\n",
              "    .dataframe tbody tr th:only-of-type {\n",
              "        vertical-align: middle;\n",
              "    }\n",
              "\n",
              "    .dataframe tbody tr th {\n",
              "        vertical-align: top;\n",
              "    }\n",
              "\n",
              "    .dataframe thead th {\n",
              "        text-align: right;\n",
              "    }\n",
              "</style>\n",
              "<table border=\"1\" class=\"dataframe\">\n",
              "  <thead>\n",
              "    <tr style=\"text-align: right;\">\n",
              "      <th></th>\n",
              "      <th>examiner</th>\n",
              "      <th>avg_for_grant</th>\n",
              "      <th>max_for_grant</th>\n",
              "      <th>min_for_grant</th>\n",
              "      <th>num_case</th>\n",
              "      <th>top_art_unit</th>\n",
              "      <th>top_assignee_processed</th>\n",
              "      <th>assignee_percent</th>\n",
              "      <th>prefix_art</th>\n",
              "    </tr>\n",
              "  </thead>\n",
              "  <tbody>\n",
              "    <tr>\n",
              "      <th>2477</th>\n",
              "      <td>Bernatz Kevin</td>\n",
              "      <td>1814</td>\n",
              "      <td>1814</td>\n",
              "      <td>1814</td>\n",
              "      <td>1</td>\n",
              "      <td>1785</td>\n",
              "      <td>BAE SYSTEMS</td>\n",
              "      <td>1.0</td>\n",
              "      <td>18.0</td>\n",
              "    </tr>\n",
              "    <tr>\n",
              "      <th>1848</th>\n",
              "      <td>Bruce David V</td>\n",
              "      <td>1196</td>\n",
              "      <td>1196</td>\n",
              "      <td>1196</td>\n",
              "      <td>1</td>\n",
              "      <td>2875</td>\n",
              "      <td>AIRBUS</td>\n",
              "      <td>1.0</td>\n",
              "      <td>29.0</td>\n",
              "    </tr>\n",
              "    <tr>\n",
              "      <th>798</th>\n",
              "      <td>McNally Daniel</td>\n",
              "      <td>1267</td>\n",
              "      <td>1841</td>\n",
              "      <td>799</td>\n",
              "      <td>7</td>\n",
              "      <td>1746</td>\n",
              "      <td>BOEING</td>\n",
              "      <td>0.9</td>\n",
              "      <td>17.0</td>\n",
              "    </tr>\n",
              "    <tr>\n",
              "      <th>1523</th>\n",
              "      <td>Wong Edna</td>\n",
              "      <td>2014</td>\n",
              "      <td>2014</td>\n",
              "      <td>2014</td>\n",
              "      <td>1</td>\n",
              "      <td>1759</td>\n",
              "      <td>BOEING</td>\n",
              "      <td>1.0</td>\n",
              "      <td>18.0</td>\n",
              "    </tr>\n",
              "  </tbody>\n",
              "</table>\n",
              "</div>"
            ],
            "text/plain": [
              "             examiner  avg_for_grant  ...  assignee_percent  prefix_art\n",
              "2477    Bernatz Kevin           1814  ...               1.0        18.0\n",
              "1848    Bruce David V           1196  ...               1.0        29.0\n",
              "798    McNally Daniel           1267  ...               0.9        17.0\n",
              "1523        Wong Edna           2014  ...               1.0        18.0\n",
              "\n",
              "[4 rows x 9 columns]"
            ]
          },
          "metadata": {
            "tags": []
          },
          "execution_count": 43
        }
      ]
    },
    {
      "cell_type": "code",
      "metadata": {
        "id": "ws8MiXPC41ep",
        "colab_type": "code",
        "colab": {}
      },
      "source": [
        "df_high_exam = df_exam_s[df_exam_s['num_case']>4]"
      ],
      "execution_count": 0,
      "outputs": []
    },
    {
      "cell_type": "code",
      "metadata": {
        "id": "Cz-CZeqe5Nco",
        "colab_type": "code",
        "outputId": "4d46d5ea-719d-4ca8-9180-5f780fb3a675",
        "colab": {
          "base_uri": "https://localhost:8080/",
          "height": 419
        }
      },
      "source": [
        "df_high_exam"
      ],
      "execution_count": 45,
      "outputs": [
        {
          "output_type": "execute_result",
          "data": {
            "text/html": [
              "<div>\n",
              "<style scoped>\n",
              "    .dataframe tbody tr th:only-of-type {\n",
              "        vertical-align: middle;\n",
              "    }\n",
              "\n",
              "    .dataframe tbody tr th {\n",
              "        vertical-align: top;\n",
              "    }\n",
              "\n",
              "    .dataframe thead th {\n",
              "        text-align: right;\n",
              "    }\n",
              "</style>\n",
              "<table border=\"1\" class=\"dataframe\">\n",
              "  <thead>\n",
              "    <tr style=\"text-align: right;\">\n",
              "      <th></th>\n",
              "      <th>examiner</th>\n",
              "      <th>avg_for_grant</th>\n",
              "      <th>max_for_grant</th>\n",
              "      <th>min_for_grant</th>\n",
              "      <th>num_case</th>\n",
              "      <th>top_art_unit</th>\n",
              "      <th>top_assignee_processed</th>\n",
              "      <th>assignee_percent</th>\n",
              "      <th>prefix_art</th>\n",
              "    </tr>\n",
              "  </thead>\n",
              "  <tbody>\n",
              "    <tr>\n",
              "      <th>1</th>\n",
              "      <td>Cheung Mary</td>\n",
              "      <td>796</td>\n",
              "      <td>1691</td>\n",
              "      <td>272</td>\n",
              "      <td>64</td>\n",
              "      <td>3667</td>\n",
              "      <td>AIRBUS</td>\n",
              "      <td>0.3</td>\n",
              "      <td>37.0</td>\n",
              "    </tr>\n",
              "    <tr>\n",
              "      <th>2</th>\n",
              "      <td>Cheung Calvin</td>\n",
              "      <td>971</td>\n",
              "      <td>1652</td>\n",
              "      <td>518</td>\n",
              "      <td>44</td>\n",
              "      <td>3668</td>\n",
              "      <td>AIRBUS</td>\n",
              "      <td>0.3</td>\n",
              "      <td>37.0</td>\n",
              "    </tr>\n",
              "    <tr>\n",
              "      <th>3</th>\n",
              "      <td>Edwards Jerrah</td>\n",
              "      <td>986</td>\n",
              "      <td>2015</td>\n",
              "      <td>524</td>\n",
              "      <td>29</td>\n",
              "      <td>3667</td>\n",
              "      <td>AIRBUS</td>\n",
              "      <td>0.2</td>\n",
              "      <td>37.0</td>\n",
              "    </tr>\n",
              "    <tr>\n",
              "      <th>4</th>\n",
              "      <td>Trammell James</td>\n",
              "      <td>1047</td>\n",
              "      <td>2175</td>\n",
              "      <td>350</td>\n",
              "      <td>47</td>\n",
              "      <td>3667</td>\n",
              "      <td>AIRBUS</td>\n",
              "      <td>0.3</td>\n",
              "      <td>37.0</td>\n",
              "    </tr>\n",
              "    <tr>\n",
              "      <th>6</th>\n",
              "      <td>Butler Rodney</td>\n",
              "      <td>755</td>\n",
              "      <td>1076</td>\n",
              "      <td>468</td>\n",
              "      <td>15</td>\n",
              "      <td>3667</td>\n",
              "      <td>AIRBUS</td>\n",
              "      <td>0.4</td>\n",
              "      <td>37.0</td>\n",
              "    </tr>\n",
              "    <tr>\n",
              "      <th>...</th>\n",
              "      <td>...</td>\n",
              "      <td>...</td>\n",
              "      <td>...</td>\n",
              "      <td>...</td>\n",
              "      <td>...</td>\n",
              "      <td>...</td>\n",
              "      <td>...</td>\n",
              "      <td>...</td>\n",
              "      <td>...</td>\n",
              "    </tr>\n",
              "    <tr>\n",
              "      <th>2048</th>\n",
              "      <td>Nguyen Andrew H</td>\n",
              "      <td>1053</td>\n",
              "      <td>1729</td>\n",
              "      <td>756</td>\n",
              "      <td>6</td>\n",
              "      <td>3741</td>\n",
              "      <td>SAFRAN</td>\n",
              "      <td>0.7</td>\n",
              "      <td>37.0</td>\n",
              "    </tr>\n",
              "    <tr>\n",
              "      <th>2192</th>\n",
              "      <td>Joyce William C</td>\n",
              "      <td>881</td>\n",
              "      <td>1278</td>\n",
              "      <td>742</td>\n",
              "      <td>8</td>\n",
              "      <td>3658</td>\n",
              "      <td>SAFRAN</td>\n",
              "      <td>1.0</td>\n",
              "      <td>37.0</td>\n",
              "    </tr>\n",
              "    <tr>\n",
              "      <th>2210</th>\n",
              "      <td>Seabe Justin D</td>\n",
              "      <td>933</td>\n",
              "      <td>1594</td>\n",
              "      <td>552</td>\n",
              "      <td>10</td>\n",
              "      <td>3745</td>\n",
              "      <td>SAFRAN</td>\n",
              "      <td>1.0</td>\n",
              "      <td>37.0</td>\n",
              "    </tr>\n",
              "    <tr>\n",
              "      <th>2216</th>\n",
              "      <td>Edgar Richard A</td>\n",
              "      <td>1228</td>\n",
              "      <td>1764</td>\n",
              "      <td>552</td>\n",
              "      <td>7</td>\n",
              "      <td>3745</td>\n",
              "      <td>SAFRAN</td>\n",
              "      <td>1.0</td>\n",
              "      <td>37.0</td>\n",
              "    </tr>\n",
              "    <tr>\n",
              "      <th>2307</th>\n",
              "      <td>Veynar Caron D</td>\n",
              "      <td>452</td>\n",
              "      <td>552</td>\n",
              "      <td>281</td>\n",
              "      <td>7</td>\n",
              "      <td>2913</td>\n",
              "      <td>COLLINS</td>\n",
              "      <td>0.7</td>\n",
              "      <td>29.0</td>\n",
              "    </tr>\n",
              "  </tbody>\n",
              "</table>\n",
              "<p>422 rows × 9 columns</p>\n",
              "</div>"
            ],
            "text/plain": [
              "              examiner  avg_for_grant  ...  assignee_percent  prefix_art\n",
              "1          Cheung Mary            796  ...               0.3        37.0\n",
              "2        Cheung Calvin            971  ...               0.3        37.0\n",
              "3       Edwards Jerrah            986  ...               0.2        37.0\n",
              "4       Trammell James           1047  ...               0.3        37.0\n",
              "6        Butler Rodney            755  ...               0.4        37.0\n",
              "...                ...            ...  ...               ...         ...\n",
              "2048   Nguyen Andrew H           1053  ...               0.7        37.0\n",
              "2192   Joyce William C            881  ...               1.0        37.0\n",
              "2210    Seabe Justin D            933  ...               1.0        37.0\n",
              "2216   Edgar Richard A           1228  ...               1.0        37.0\n",
              "2307    Veynar Caron D            452  ...               0.7        29.0\n",
              "\n",
              "[422 rows x 9 columns]"
            ]
          },
          "metadata": {
            "tags": []
          },
          "execution_count": 45
        }
      ]
    },
    {
      "cell_type": "code",
      "metadata": {
        "id": "-8qfU_7jWoxU",
        "colab_type": "code",
        "outputId": "469c2c37-102b-4a57-9f8c-b82f61c58702",
        "colab": {
          "base_uri": "https://localhost:8080/",
          "height": 374
        }
      },
      "source": [
        "df['art_unit'].value_counts().head(20)"
      ],
      "execution_count": 46,
      "outputs": [
        {
          "output_type": "execute_result",
          "data": {
            "text/plain": [
              "3644    848\n",
              "3647    483\n",
              "3745    414\n",
              "3667    317\n",
              "3741    311\n",
              "3661    302\n",
              "3663    241\n",
              "2856    182\n",
              "3668    181\n",
              "3662    178\n",
              "1746    167\n",
              "3664    164\n",
              "2836    154\n",
              "3646    152\n",
              "3726    150\n",
              "2855    138\n",
              "3665    134\n",
              "3669    129\n",
              "3648    126\n",
              "2837    108\n",
              "Name: art_unit, dtype: int64"
            ]
          },
          "metadata": {
            "tags": []
          },
          "execution_count": 46
        }
      ]
    },
    {
      "cell_type": "code",
      "metadata": {
        "id": "0Lasbf7MXNrN",
        "colab_type": "code",
        "colab": {}
      },
      "source": [
        "#17XX = Chemical and Materials Engineering fields.\n",
        "#28XX = Semiconductors, Electrical and Optical Systems and Components\n",
        "#24XX = Computer Networks, Multiplex, Cable and Cryptography/Security.\n",
        "#21XX = Computer Architecture Software and Information Security.\n",
        "#28XX = Semiconductors, Electrical and Optical Systems and Components.\n",
        "#29XX = including Designs.\n",
        "#36XX = Transportation, Electronic Commerce, Construction, Agriculture, Licensing and Review.\n",
        "#37XX = Mechanical Engineering, Manufacturing and Products.\n"
      ],
      "execution_count": 0,
      "outputs": []
    },
    {
      "cell_type": "code",
      "metadata": {
        "id": "WyI-XBTy4pVO",
        "colab_type": "code",
        "outputId": "4526cd8c-61ee-4ba4-ea52-c6cc6fe1b62b",
        "colab": {
          "base_uri": "https://localhost:8080/",
          "height": 173
        }
      },
      "source": [
        "df_art_unit['prefix_art'] = round(df_art_unit['Art Unit']/100,0)\n",
        "df_art_unit.sample(4)"
      ],
      "execution_count": 47,
      "outputs": [
        {
          "output_type": "execute_result",
          "data": {
            "text/html": [
              "<div>\n",
              "<style scoped>\n",
              "    .dataframe tbody tr th:only-of-type {\n",
              "        vertical-align: middle;\n",
              "    }\n",
              "\n",
              "    .dataframe tbody tr th {\n",
              "        vertical-align: top;\n",
              "    }\n",
              "\n",
              "    .dataframe thead th {\n",
              "        text-align: right;\n",
              "    }\n",
              "</style>\n",
              "<table border=\"1\" class=\"dataframe\">\n",
              "  <thead>\n",
              "    <tr style=\"text-align: right;\">\n",
              "      <th></th>\n",
              "      <th>Art Unit</th>\n",
              "      <th>Class</th>\n",
              "      <th>Class Title</th>\n",
              "      <th>Subclass Ranges From</th>\n",
              "      <th>Subclass Ranges To</th>\n",
              "      <th>prefix_art</th>\n",
              "    </tr>\n",
              "  </thead>\n",
              "  <tbody>\n",
              "    <tr>\n",
              "      <th>219</th>\n",
              "      <td>1644</td>\n",
              "      <td>514</td>\n",
              "      <td>DRUG, BIO-AFFECTING AND BODY TREATING COMPOSIT...</td>\n",
              "      <td>9.3</td>\n",
              "      <td>NaN</td>\n",
              "      <td>16.0</td>\n",
              "    </tr>\n",
              "    <tr>\n",
              "      <th>740</th>\n",
              "      <td>1786</td>\n",
              "      <td>428</td>\n",
              "      <td>STOCK MATERIAL OR MISCELLANEOUS ARTICLES</td>\n",
              "      <td>357</td>\n",
              "      <td>401</td>\n",
              "      <td>18.0</td>\n",
              "    </tr>\n",
              "    <tr>\n",
              "      <th>760</th>\n",
              "      <td>1787</td>\n",
              "      <td>428</td>\n",
              "      <td>STOCK MATERIAL OR MISCELLANEOUS ARTICLES</td>\n",
              "      <td>543</td>\n",
              "      <td>NaN</td>\n",
              "      <td>18.0</td>\n",
              "    </tr>\n",
              "    <tr>\n",
              "      <th>346</th>\n",
              "      <td>1656</td>\n",
              "      <td>536</td>\n",
              "      <td>ORGANIC COMPOUNDS -- PART OF THE CLASS 532-570...</td>\n",
              "      <td>23.6</td>\n",
              "      <td>23.74</td>\n",
              "      <td>17.0</td>\n",
              "    </tr>\n",
              "  </tbody>\n",
              "</table>\n",
              "</div>"
            ],
            "text/plain": [
              "     Art Unit Class  ... Subclass Ranges To prefix_art\n",
              "219      1644   514  ...                NaN       16.0\n",
              "740      1786   428  ...                401       18.0\n",
              "760      1787   428  ...                NaN       18.0\n",
              "346      1656   536  ...              23.74       17.0\n",
              "\n",
              "[4 rows x 6 columns]"
            ]
          },
          "metadata": {
            "tags": []
          },
          "execution_count": 47
        }
      ]
    },
    {
      "cell_type": "code",
      "metadata": {
        "id": "sW2jbofd6AXG",
        "colab_type": "code",
        "outputId": "7ca6c5cb-8bf4-4917-de20-5bcbf118af09",
        "colab": {
          "base_uri": "https://localhost:8080/",
          "height": 1000
        }
      },
      "source": [
        "#Let's focus on direct competitors : GE, HWL & RC\n",
        "df_competitors = df[(df.norm_assignee == 'ELBIT') | (df.norm_assignee == 'GARMIN') | (df.norm_assignee == 'THALES') | (df.norm_assignee == 'GE AVIATION') | (df.norm_assignee == 'COLLINS') | (df.norm_assignee == 'HONEYWELL')]\n",
        "df_competitors.sample(10)"
      ],
      "execution_count": 48,
      "outputs": [
        {
          "output_type": "execute_result",
          "data": {
            "text/html": [
              "<div>\n",
              "<style scoped>\n",
              "    .dataframe tbody tr th:only-of-type {\n",
              "        vertical-align: middle;\n",
              "    }\n",
              "\n",
              "    .dataframe tbody tr th {\n",
              "        vertical-align: top;\n",
              "    }\n",
              "\n",
              "    .dataframe thead th {\n",
              "        text-align: right;\n",
              "    }\n",
              "</style>\n",
              "<table border=\"1\" class=\"dataframe\">\n",
              "  <thead>\n",
              "    <tr style=\"text-align: right;\">\n",
              "      <th></th>\n",
              "      <th>PR.§1</th>\n",
              "      <th>AP.§1</th>\n",
              "      <th>PN.PN</th>\n",
              "      <th>FAN</th>\n",
              "      <th>FAMILY_PN</th>\n",
              "      <th>EPRD</th>\n",
              "      <th>EAPD</th>\n",
              "      <th>EPD</th>\n",
              "      <th>EPDG</th>\n",
              "      <th>ACT.EED</th>\n",
              "      <th>TI</th>\n",
              "      <th>AB</th>\n",
              "      <th>PA</th>\n",
              "      <th>IN</th>\n",
              "      <th>RP</th>\n",
              "      <th>ADB</th>\n",
              "      <th>ICLM</th>\n",
              "      <th>OBJ</th>\n",
              "      <th>KEYW</th>\n",
              "      <th>KWIC</th>\n",
              "      <th>PCL</th>\n",
              "      <th>ACT.STATUS</th>\n",
              "      <th>ACT</th>\n",
              "      <th>DS</th>\n",
              "      <th>EPRC</th>\n",
              "      <th>NO</th>\n",
              "      <th>FD</th>\n",
              "      <th>days_grant</th>\n",
              "      <th>art_unit</th>\n",
              "      <th>extension_days</th>\n",
              "      <th>examiner</th>\n",
              "      <th>draw_nb</th>\n",
              "      <th>clms_nb</th>\n",
              "      <th>clean_title</th>\n",
              "      <th>clean_num</th>\n",
              "      <th>prefix_art</th>\n",
              "      <th>suffix_art</th>\n",
              "      <th>norm_assignee</th>\n",
              "      <th>granted_bool</th>\n",
              "      <th>days_filing</th>\n",
              "      <th>priority_year</th>\n",
              "    </tr>\n",
              "  </thead>\n",
              "  <tbody>\n",
              "    <tr>\n",
              "      <th>5913</th>\n",
              "      <td>2016US-15385069|2016US-62378960</td>\n",
              "      <td>US15/385,069|EP17187154</td>\n",
              "      <td>US10443541|EP3287628|US20180209376|EP3287628</td>\n",
              "      <td>80623138</td>\n",
              "      <td>US10443541          B2 2019-10-15 [US10443541]...</td>\n",
              "      <td>2016-08-24</td>\n",
              "      <td>2016-12-20</td>\n",
              "      <td>2018-02-28</td>\n",
              "      <td>2019-03-20</td>\n",
              "      <td>(US10443541B2)|2038-01-19|(EP3287628B1)|2037-0...</td>\n",
              "      <td>(US10443541)|Aircraft thrust reverser system w...</td>\n",
              "      <td>(US10443541)|A thrust reverser system for a ga...</td>\n",
              "      <td>HONEYWELL INTERNATIONAL</td>\n",
              "      <td>CHAKKERA KEVIN K|BIRCHAK DANIEL C|CHRISTENSEN ...</td>\n",
              "      <td>(US10443541)|Lorenz &amp; Kopf, LLP|(EP3287628)|Ho...</td>\n",
              "      <td>(US10443541)|It will be appreciated that the d...</td>\n",
              "      <td>(US10443541)|1. A thrust reverser system for a...</td>\n",
              "      <td>(US10443541)|The present invention generally r...</td>\n",
              "      <td>(US10443541)|THRUST REVERSER(100,34)|GAS TURBI...</td>\n",
              "      <td>EPD|2018-02-28||ETIH|(US20180209376)|Aircraft ...</td>\n",
              "      <td>NaN</td>\n",
              "      <td>(US10443541B2)|GRANTED|(EP3287628B1)|GRANTED</td>\n",
              "      <td>(US10443541)|LEGAL DETAILS FOR US20180209376|A...</td>\n",
              "      <td>(EP3287628)|Contracting States:  AL AT BE BG C...</td>\n",
              "      <td>US</td>\n",
              "      <td>(US20180209376)|Number of Drawings: NDR=5||Num...</td>\n",
              "      <td>(US10443541)|Provisional Appl: US62/378,960 FD...</td>\n",
              "      <td>938 days</td>\n",
              "      <td>3741</td>\n",
              "      <td>395</td>\n",
              "      <td>Nguyen Andrew H</td>\n",
              "      <td>5</td>\n",
              "      <td>17</td>\n",
              "      <td>Aircraft thrust reverser system with alternate...</td>\n",
              "      <td>US10443541</td>\n",
              "      <td>37</td>\n",
              "      <td>41</td>\n",
              "      <td>HONEYWELL</td>\n",
              "      <td>True</td>\n",
              "      <td>1166 days 17:40:23.945571</td>\n",
              "      <td>2016</td>\n",
              "    </tr>\n",
              "    <tr>\n",
              "      <th>12722</th>\n",
              "      <td>2015US-14945815</td>\n",
              "      <td>US14/945,815</td>\n",
              "      <td>US20170147472</td>\n",
              "      <td>76194391</td>\n",
              "      <td>US20170147472       A1 2017-05-25 [US20170147472]</td>\n",
              "      <td>2015-11-19</td>\n",
              "      <td>2015-11-19</td>\n",
              "      <td>2017-05-25</td>\n",
              "      <td>NaT</td>\n",
              "      <td>2035-11-19</td>\n",
              "      <td>(US20170147472)|Systems and methods for a real...</td>\n",
              "      <td>(US20170147472)|Systems and methods for a real...</td>\n",
              "      <td>HONEYWELL INTERNATIONAL|PERFORMANCE SOFTWARE</td>\n",
              "      <td>ECKERT RICHARD J|PETERS JON|TAM HO YIN|SOLORZA...</td>\n",
              "      <td>NaN</td>\n",
              "      <td>(US20170147472)|Because the conditions arise d...</td>\n",
              "      <td>(US20170147472)|1. A system for acquiring data...</td>\n",
              "      <td>(US20170147472)|Systems and methods for a real...</td>\n",
              "      <td>(US20170147472)|STORED DATA(100,65)|REALTIME E...</td>\n",
              "      <td>ADB|(US20170147472)|Because the conditions ari...</td>\n",
              "      <td>NaN</td>\n",
              "      <td>PENDING</td>\n",
              "      <td>(US20170147472)|LEGAL DETAILS FOR US2017014747...</td>\n",
              "      <td>NaN</td>\n",
              "      <td>US</td>\n",
              "      <td>(US20170147472)|Number of Drawings: NDR=4||Num...</td>\n",
              "      <td>NaN</td>\n",
              "      <td>NaT</td>\n",
              "      <td>NaN</td>\n",
              "      <td>NaN</td>\n",
              "      <td>NaN</td>\n",
              "      <td>4</td>\n",
              "      <td>30</td>\n",
              "      <td>Systems and methods for a real time embedded t...</td>\n",
              "      <td>US20170147472</td>\n",
              "      <td>NaN</td>\n",
              "      <td>NaN</td>\n",
              "      <td>HONEYWELL</td>\n",
              "      <td>False</td>\n",
              "      <td>1445 days 17:40:23.945571</td>\n",
              "      <td>2015</td>\n",
              "    </tr>\n",
              "    <tr>\n",
              "      <th>14446</th>\n",
              "      <td>2015US-14949437</td>\n",
              "      <td>EP16190016|US14/949,437</td>\n",
              "      <td>EP3171132|US9709405|US20170146347|EP3171132</td>\n",
              "      <td>76193971</td>\n",
              "      <td>US9709405           B2 2017-07-18 [US9709405]|...</td>\n",
              "      <td>2015-11-23</td>\n",
              "      <td>2015-11-23</td>\n",
              "      <td>2017-05-24</td>\n",
              "      <td>2017-07-18</td>\n",
              "      <td>(US9709405B2)|2035-11-23|(EP3171132B1)|2036-09-21</td>\n",
              "      <td>(US9709405)|Methods for attitude and heading r...</td>\n",
              "      <td>(US9709405)|An attitude and heading reference ...</td>\n",
              "      <td>HONEYWELL INTERNATIONAL</td>\n",
              "      <td>SOTAK MILOS|MALINAK PAVOL|KANA ZDENEK|DUNIK JI...</td>\n",
              "      <td>(US9709405)|Fogg &amp; Powers LLC|(EP3171132)|Houg...</td>\n",
              "      <td>(US9709405)|In a first technique, a first uppe...</td>\n",
              "      <td>(US9709405)|1. An attitude and heading referen...</td>\n",
              "      <td>(US9709405)|An attitude and heading reference ...</td>\n",
              "      <td>(EP3171132)|AND HEADING REFERENCE SYSTEM(100,3...</td>\n",
              "      <td>ECLM|(US9709405)|7. The AHRS of claim 1, where...</td>\n",
              "      <td>NaN</td>\n",
              "      <td>(US9709405B2)|GRANTED|(EP3171132B1)|GRANTED</td>\n",
              "      <td>(US9709405)|LEGAL DETAILS FOR US20170146347|Ac...</td>\n",
              "      <td>(EP3171132)|Contracting States:  AL AT BE BG C...</td>\n",
              "      <td>US</td>\n",
              "      <td>(US20170146347)|Number of Drawings: NDR=4||Num...</td>\n",
              "      <td>(US9709405)|Previous publication: US2017014634...</td>\n",
              "      <td>603 days</td>\n",
              "      <td>3663</td>\n",
              "      <td>NaN</td>\n",
              "      <td>Oritz Angela</td>\n",
              "      <td>4</td>\n",
              "      <td>19</td>\n",
              "      <td>Methods for attitude and heading reference sys...</td>\n",
              "      <td>US9709405</td>\n",
              "      <td>36</td>\n",
              "      <td>63</td>\n",
              "      <td>HONEYWELL</td>\n",
              "      <td>True</td>\n",
              "      <td>1441 days 17:40:23.945571</td>\n",
              "      <td>2015</td>\n",
              "    </tr>\n",
              "    <tr>\n",
              "      <th>14560</th>\n",
              "      <td>2017FR-0000985</td>\n",
              "      <td>FR1700985|US16/119,643|EP18192384</td>\n",
              "      <td>FR3071684|US20190097676|EP3461012</td>\n",
              "      <td>83930299</td>\n",
              "      <td>US20190097676       A1 2019-03-28 [US201900976...</td>\n",
              "      <td>2017-09-26</td>\n",
              "      <td>2017-09-26</td>\n",
              "      <td>2019-03-27</td>\n",
              "      <td>NaT</td>\n",
              "      <td>(US20190097676A1)|2038-08-31|(FR3071684A1)|203...</td>\n",
              "      <td>(US20190097676)|Method for transmitting additi...</td>\n",
              "      <td>(US20190097676)|A method is provided for trans...</td>\n",
              "      <td>THALES</td>\n",
              "      <td>MARTIN PAULINE|CALMETTES THIBAUD</td>\n",
              "      <td>(FR3071684)|MARKS &amp; CLERK FRANCE ([FR])|Reg. N...</td>\n",
              "      <td>(US20190097676)|Such a method makes it possibl...</td>\n",
              "      <td>(US20190097676)|1 . A method for transmitting ...</td>\n",
              "      <td>(US20190097676)|The invention pertains to a me...</td>\n",
              "      <td>(FR3071684)|NAVIGATION(100,7)|SPECTRUM(100,7)|...</td>\n",
              "      <td>ECLM|(US20190097676)|9. The method according t...</td>\n",
              "      <td>NaN</td>\n",
              "      <td>(US20190097676A1)|PENDING|(FR3071684A1)|PENDIN...</td>\n",
              "      <td>(US20190097676)|LEGAL DETAILS FOR US2019009767...</td>\n",
              "      <td>(EP3461012)|Contracting States:  AL AT BE BG C...</td>\n",
              "      <td>FR</td>\n",
              "      <td>(US20190097676)|Number of Drawings: NDR=1||Num...</td>\n",
              "      <td>NaN</td>\n",
              "      <td>NaT</td>\n",
              "      <td>NaN</td>\n",
              "      <td>NaN</td>\n",
              "      <td>NaN</td>\n",
              "      <td>1</td>\n",
              "      <td>10</td>\n",
              "      <td>Method for transmitting additional information...</td>\n",
              "      <td>US20190097676</td>\n",
              "      <td>NaN</td>\n",
              "      <td>NaN</td>\n",
              "      <td>THALES</td>\n",
              "      <td>False</td>\n",
              "      <td>768 days 17:40:23.945571</td>\n",
              "      <td>2017</td>\n",
              "    </tr>\n",
              "    <tr>\n",
              "      <th>525</th>\n",
              "      <td>2010US-12706524</td>\n",
              "      <td>US12/706,524|EP10191789</td>\n",
              "      <td>US9165414|EP2360648|US20110202208</td>\n",
              "      <td>15022464</td>\n",
              "      <td>US9165414           B2 2015-10-20 [US9165414]|...</td>\n",
              "      <td>2010-02-16</td>\n",
              "      <td>2010-02-16</td>\n",
              "      <td>2011-08-18</td>\n",
              "      <td>2015-10-20</td>\n",
              "      <td>(US9165414B2)|2033-10-13|(EP2360648A1)|2015-07-07</td>\n",
              "      <td>(US9165414)|Method and system for predicting p...</td>\n",
              "      <td>(US9165414)|Methods and systems for operating ...</td>\n",
              "      <td>HONEYWELL INTERNATIONAL</td>\n",
              "      <td>KARNIK SIDDHARTH|ELIAS FRANK RAJKUMAR</td>\n",
              "      <td>(US9165414)|Ingressia Fisher &amp; Lorenz, P.C.|(E...</td>\n",
              "      <td>(US9165414)|It will be appreciated that this i...</td>\n",
              "      <td>(US9165414)|1. A method for operating an avion...</td>\n",
              "      <td>(US9165414)|According to one aspect of the pre...</td>\n",
              "      <td>(US9165414)|AIRCRAFT(100,84)|AVIONICS(100,39)|...</td>\n",
              "      <td>AB|(US9165414)|Methods and systems for operati...</td>\n",
              "      <td>NaN</td>\n",
              "      <td>(US9165414B2)|GRANTED|(EP2360648A1)|LAPSED</td>\n",
              "      <td>(US9165414)|LEGAL DETAILS FOR US20110202208|Ac...</td>\n",
              "      <td>(EP2360648)|Contracting States:  AL AT BE BG C...</td>\n",
              "      <td>US</td>\n",
              "      <td>(US20110202208)|Number of Drawings: NDR=3||Num...</td>\n",
              "      <td>(US9165414)|Previous publication: US2011020220...</td>\n",
              "      <td>2072 days</td>\n",
              "      <td>3652</td>\n",
              "      <td>1335</td>\n",
              "      <td>Joerger Kaitlin</td>\n",
              "      <td>3</td>\n",
              "      <td>20</td>\n",
              "      <td>Method and system for predicting performance o...</td>\n",
              "      <td>US9165414</td>\n",
              "      <td>36</td>\n",
              "      <td>52</td>\n",
              "      <td>HONEYWELL</td>\n",
              "      <td>True</td>\n",
              "      <td>3547 days 17:40:23.945571</td>\n",
              "      <td>2010</td>\n",
              "    </tr>\n",
              "    <tr>\n",
              "      <th>8497</th>\n",
              "      <td>2011US-61540318|2011US-61540325|2012US-13426291</td>\n",
              "      <td>EP12185762|US13/426,291</td>\n",
              "      <td>EP2574766|US20130078081</td>\n",
              "      <td>44794928</td>\n",
              "      <td>US20130078081       A1 2013-03-28 [US201300780...</td>\n",
              "      <td>2011-09-28</td>\n",
              "      <td>2012-03-21</td>\n",
              "      <td>2013-03-28</td>\n",
              "      <td>NaT</td>\n",
              "      <td>(US20130078081A1)|2015-03-25|(EP2574766A2)|201...</td>\n",
              "      <td>(US20130078081)|Vafn systems with improved dri...</td>\n",
              "      <td>(US20130078081)|An actuation system is provide...</td>\n",
              "      <td>HONEYWELL INTERNATIONAL</td>\n",
              "      <td>CHAKKERA KEVIN K|VAUGHAN RON|MCGILL MICHAEL|BI...</td>\n",
              "      <td>(EP2574766)|Houghton, Mark Phillip ; Patent Ou...</td>\n",
              "      <td>(US20130078081)|Accordingly, it is desirable t...</td>\n",
              "      <td>(US20130078081)|1. An actuation system for a v...</td>\n",
              "      <td>(US20130078081)|The present invention relates ...</td>\n",
              "      <td>(EP2574766)|ACTUATION(100,20)|DRIVE COUPLING(1...</td>\n",
              "      <td>AB|(US20130078081)|An actuation system is prov...</td>\n",
              "      <td>PCLO=415150000</td>\n",
              "      <td>(US20130078081A1)|LAPSED|(EP2574766A2)|LAPSED</td>\n",
              "      <td>(US20130078081)|LEGAL DETAILS FOR US2013007808...</td>\n",
              "      <td>(EP2574766)|Contracting States:  AL AT BE BG C...</td>\n",
              "      <td>US</td>\n",
              "      <td>(US20130078081)|Number of Drawings: NDR=10||Nu...</td>\n",
              "      <td>(US20130078081)|Provisional Appl: US61/540,325...</td>\n",
              "      <td>NaT</td>\n",
              "      <td>NaN</td>\n",
              "      <td>NaN</td>\n",
              "      <td>NaN</td>\n",
              "      <td>10</td>\n",
              "      <td>20</td>\n",
              "      <td>Vafn systems with improved drive coupling asse...</td>\n",
              "      <td>US20130078081</td>\n",
              "      <td>NaN</td>\n",
              "      <td>NaN</td>\n",
              "      <td>HONEYWELL</td>\n",
              "      <td>False</td>\n",
              "      <td>2958 days 17:40:23.945571</td>\n",
              "      <td>2011</td>\n",
              "    </tr>\n",
              "    <tr>\n",
              "      <th>2426</th>\n",
              "      <td>2015GB-0011926</td>\n",
              "      <td>CN201610535061|JP2016132937|US15/205,308|CA293...</td>\n",
              "      <td>CN106335628|JP6525273|US10293916|CA2935357|GB2...</td>\n",
              "      <td>70892118</td>\n",
              "      <td>US10293916          B2 2019-05-21 [US10293916]...</td>\n",
              "      <td>2015-07-08</td>\n",
              "      <td>2015-07-08</td>\n",
              "      <td>2015-08-19</td>\n",
              "      <td>2018-08-08</td>\n",
              "      <td>(US10293916B2)|2037-05-09|(FR3038583A1)|2036-0...</td>\n",
              "      <td>(US10293916)|Aircraft and method of countering...</td>\n",
              "      <td>(US10293916)|An aircraft is disclosed, the air...</td>\n",
              "      <td>GE AVIATION SYSTEMS</td>\n",
              "      <td>KNEPPER ANGELA MARIE|METHVEN PAUL NICHOLAS</td>\n",
              "      <td>(US10293916)|McGarry Bair PC|(FR3038583)|CASAL...</td>\n",
              "      <td>(US10293916)|This is due to the rotating prope...</td>\n",
              "      <td>(US10293916)|1. An aircraft comprising: a fuse...</td>\n",
              "      <td>(US10293916)|In another aspect, an embodiment ...</td>\n",
              "      <td>(CN106335628B)|PROPELLER(100,70)|AIRCRAFT(100,...</td>\n",
              "      <td>AB|(US10293916)|An aircraft is disclosed, the ...</td>\n",
              "      <td>NaN</td>\n",
              "      <td>(US10293916B2)|GRANTED|(FR3038583A1)|PENDING|(...</td>\n",
              "      <td>(US10293916)|LEGAL DETAILS FOR US20170008610|A...</td>\n",
              "      <td>NaN</td>\n",
              "      <td>GB</td>\n",
              "      <td>(US20170008610)|Number of Drawings: NDR=5||Num...</td>\n",
              "      <td>(US10293916)|Previous publication: US201700086...</td>\n",
              "      <td>1127 days</td>\n",
              "      <td>3642</td>\n",
              "      <td>305</td>\n",
              "      <td>Xavier Valentina</td>\n",
              "      <td>5</td>\n",
              "      <td>20</td>\n",
              "      <td>Aircraft and method of countering aerodynamic ...</td>\n",
              "      <td>US10293916</td>\n",
              "      <td>36</td>\n",
              "      <td>42</td>\n",
              "      <td>GE AVIATION</td>\n",
              "      <td>True</td>\n",
              "      <td>1579 days 17:40:23.945571</td>\n",
              "      <td>2015</td>\n",
              "    </tr>\n",
              "    <tr>\n",
              "      <th>5214</th>\n",
              "      <td>2017US-15822395</td>\n",
              "      <td>US15/822,395</td>\n",
              "      <td>US10204523</td>\n",
              "      <td>83341241</td>\n",
              "      <td>US10204523          B1 2019-02-12 [US10204523]</td>\n",
              "      <td>2017-11-27</td>\n",
              "      <td>2017-11-27</td>\n",
              "      <td>2019-02-12</td>\n",
              "      <td>2019-02-12</td>\n",
              "      <td>2037-11-27</td>\n",
              "      <td>(US10204523)|Aircraft systems and methods for ...</td>\n",
              "      <td>(US10204523)|An enhanced runway awareness syst...</td>\n",
              "      <td>HONEYWELL INTERNATIONAL</td>\n",
              "      <td>ISHIHARA YASUO|JOHNSON STEVE</td>\n",
              "      <td>(US10204523)|Lorenz &amp; Kopf, LLP</td>\n",
              "      <td>(US10204523)|Further, it will be appreciated t...</td>\n",
              "      <td>(US10204523)|1. A runway awareness method for ...</td>\n",
              "      <td>(US10204523)|Furthermore, other desirable feat...</td>\n",
              "      <td>(US10204523)|AIRCRAFT(100,80)|RAA(100,19)|RUNW...</td>\n",
              "      <td>AB|(US10204523)|An enhanced runway awareness s...</td>\n",
              "      <td>NaN</td>\n",
              "      <td>GRANTED</td>\n",
              "      <td>(US10204523)|LEGAL DETAILS FOR US10204523|Actu...</td>\n",
              "      <td>NaN</td>\n",
              "      <td>US</td>\n",
              "      <td>(US10204523)|Number of Drawings: NDR=7||Number...</td>\n",
              "      <td>NaN</td>\n",
              "      <td>442 days</td>\n",
              "      <td>2684</td>\n",
              "      <td>NaN</td>\n",
              "      <td>Blount Eric M</td>\n",
              "      <td>7</td>\n",
              "      <td>20</td>\n",
              "      <td>Aircraft systems and methods for managing runw...</td>\n",
              "      <td>US10204523</td>\n",
              "      <td>26</td>\n",
              "      <td>84</td>\n",
              "      <td>HONEYWELL</td>\n",
              "      <td>True</td>\n",
              "      <td>706 days 17:40:23.945571</td>\n",
              "      <td>2017</td>\n",
              "    </tr>\n",
              "    <tr>\n",
              "      <th>1082</th>\n",
              "      <td>2011US-13196360</td>\n",
              "      <td>CN201210336296|US13/196,360|EP12177928</td>\n",
              "      <td>CN102915651|US9495883|EP2573744|EP2573744|US20...</td>\n",
              "      <td>8061789</td>\n",
              "      <td>US9495883           B2 2016-11-15 [US9495883]|...</td>\n",
              "      <td>2011-08-02</td>\n",
              "      <td>2011-08-02</td>\n",
              "      <td>2013-02-06</td>\n",
              "      <td>2016-11-15</td>\n",
              "      <td>(US9495883B2)|2034-03-16|(EP2573744A3)|2016-09...</td>\n",
              "      <td>(US9495883)|System and method for displaying a...</td>\n",
              "      <td>(US9495883)|A system and method is disclosed f...</td>\n",
              "      <td>HONEYWELL INTERNATIONAL</td>\n",
              "      <td>BURGIN ROGER W|MALVIYA PRAMOD KUMAR|PEPITONE D...</td>\n",
              "      <td>(US9495883)|Lorenz &amp; Kopf, LLP|(EP2573744)|Hou...</td>\n",
              "      <td>(US9495883)|Accordingly, it is desirable to pr...</td>\n",
              "      <td>(US9495883)|1. A system for displaying a proce...</td>\n",
              "      <td>(US9495883)|The present invention generally re...</td>\n",
              "      <td>(CN102915651B)|AIRCRAFT(100,77)|FLIGHT MANAGEM...</td>\n",
              "      <td>AB|(US9495883)|A system and method is disclose...</td>\n",
              "      <td>NaN</td>\n",
              "      <td>(US9495883B2)|GRANTED|(EP2573744A3)|REVOKED|(C...</td>\n",
              "      <td>(US9495883)|LEGAL DETAILS FOR US20130035848|Ac...</td>\n",
              "      <td>(EP2573744)|Contracting States:  AL AT BE BG C...</td>\n",
              "      <td>US</td>\n",
              "      <td>(US20130035848)|Number of Drawings: NDR=8||Num...</td>\n",
              "      <td>(US9495883)|Previous publication: US2013003584...</td>\n",
              "      <td>1932 days</td>\n",
              "      <td>3667</td>\n",
              "      <td>957</td>\n",
              "      <td>Lang Michael D</td>\n",
              "      <td>8</td>\n",
              "      <td>20</td>\n",
              "      <td>System and method for displaying a procedure t...</td>\n",
              "      <td>US9495883</td>\n",
              "      <td>36</td>\n",
              "      <td>67</td>\n",
              "      <td>HONEYWELL</td>\n",
              "      <td>True</td>\n",
              "      <td>3015 days 17:40:23.945571</td>\n",
              "      <td>2011</td>\n",
              "    </tr>\n",
              "    <tr>\n",
              "      <th>677</th>\n",
              "      <td>2013FR-0002469</td>\n",
              "      <td>FR1302469|US14/521,239</td>\n",
              "      <td>FR3012598|US9176499|FR3012598|US20150120095</td>\n",
              "      <td>69277129</td>\n",
              "      <td>US9176499           B2 2015-11-03 [US9176499]|...</td>\n",
              "      <td>2013-10-25</td>\n",
              "      <td>2013-10-25</td>\n",
              "      <td>2015-04-30</td>\n",
              "      <td>2015-11-03</td>\n",
              "      <td>(US9176499B2)|2034-10-22|(FR3012598B1)|2033-10-25</td>\n",
              "      <td>(US9176499)|Flight management method and system</td>\n",
              "      <td>(US9176499)|A method is provided for managing ...</td>\n",
              "      <td>THALES</td>\n",
              "      <td>COULMEAU FRANCOIS|SACLE JEROME|BOYER JOHAN</td>\n",
              "      <td>(US9176499)|Baker &amp; Hostetler LLP|(FR3012598)|...</td>\n",
              "      <td>(US9176499)|Among other things the invention m...</td>\n",
              "      <td>(US9176499)|1. A method for managing a flight ...</td>\n",
              "      <td>(US9176499)|The invention relates to the field...</td>\n",
              "      <td>(FR3012598)|TRANSITION(100,51)|FLIGHT MANAGEME...</td>\n",
              "      <td>AB|(US9176499)|A method is provided for managi...</td>\n",
              "      <td>NaN</td>\n",
              "      <td>(US9176499B2)|GRANTED|(FR3012598B1)|GRANTED</td>\n",
              "      <td>(US9176499)|LEGAL DETAILS FOR US20150120095|Ac...</td>\n",
              "      <td>NaN</td>\n",
              "      <td>FR</td>\n",
              "      <td>(US20150120095)|Number of Drawings: NDR=9||Num...</td>\n",
              "      <td>(US9176499)|Previous publication: US2015012009...</td>\n",
              "      <td>739 days</td>\n",
              "      <td>3663</td>\n",
              "      <td>NaN</td>\n",
              "      <td>Tarcza Thomas</td>\n",
              "      <td>9</td>\n",
              "      <td>11</td>\n",
              "      <td>Flight management method and system</td>\n",
              "      <td>US9176499</td>\n",
              "      <td>36</td>\n",
              "      <td>63</td>\n",
              "      <td>THALES</td>\n",
              "      <td>True</td>\n",
              "      <td>2200 days 17:40:23.945571</td>\n",
              "      <td>2013</td>\n",
              "    </tr>\n",
              "  </tbody>\n",
              "</table>\n",
              "</div>"
            ],
            "text/plain": [
              "                                                 PR.§1  ... priority_year\n",
              "5913                   2016US-15385069|2016US-62378960  ...          2016\n",
              "12722                                  2015US-14945815  ...          2015\n",
              "14446                                  2015US-14949437  ...          2015\n",
              "14560                                   2017FR-0000985  ...          2017\n",
              "525                                    2010US-12706524  ...          2010\n",
              "8497   2011US-61540318|2011US-61540325|2012US-13426291  ...          2011\n",
              "2426                                    2015GB-0011926  ...          2015\n",
              "5214                                   2017US-15822395  ...          2017\n",
              "1082                                   2011US-13196360  ...          2011\n",
              "677                                     2013FR-0002469  ...          2013\n",
              "\n",
              "[10 rows x 41 columns]"
            ]
          },
          "metadata": {
            "tags": []
          },
          "execution_count": 48
        }
      ]
    },
    {
      "cell_type": "code",
      "metadata": {
        "id": "TVy1I0NW7j8l",
        "colab_type": "code",
        "outputId": "96766cad-1aa0-4add-aab4-52265286d776",
        "colab": {
          "base_uri": "https://localhost:8080/",
          "height": 303
        }
      },
      "source": [
        "top_art_competitors = df_competitors['art_unit'].value_counts()\n",
        "top_art_competitors.head(50).plot(kind='bar')"
      ],
      "execution_count": 49,
      "outputs": [
        {
          "output_type": "execute_result",
          "data": {
            "text/plain": [
              "<matplotlib.axes._subplots.AxesSubplot at 0x7f70a0df6828>"
            ]
          },
          "metadata": {
            "tags": []
          },
          "execution_count": 49
        },
        {
          "output_type": "display_data",
          "data": {
            "image/png": "[encoded data removed]",
            "text/plain": [
              "<Figure size 432x288 with 1 Axes>"
            ]
          },
          "metadata": {
            "tags": []
          }
        }
      ]
    },
    {
      "cell_type": "code",
      "metadata": {
        "id": "FQ2MlCTU8ctQ",
        "colab_type": "code",
        "outputId": "87ed03fd-ee94-463f-a345-7e12b229e71a",
        "colab": {
          "base_uri": "https://localhost:8080/",
          "height": 986
        }
      },
      "source": [
        "mean_comp_art = df_competitors['art_unit'].value_counts().mean()\n",
        "list_top = top_art_competitors[top_art_competitors>mean_comp_art]\n",
        "list_top"
      ],
      "execution_count": 50,
      "outputs": [
        {
          "output_type": "execute_result",
          "data": {
            "text/plain": [
              "3661    145\n",
              "3667    124\n",
              "3663    114\n",
              "3646     96\n",
              "3662     87\n",
              "3648     79\n",
              "3664     73\n",
              "3668     61\n",
              "3669     53\n",
              "3665     44\n",
              "2689     40\n",
              "3745     31\n",
              "2685     31\n",
              "3741     30\n",
              "2684     29\n",
              "2612     29\n",
              "3644     27\n",
              "2836     26\n",
              "2872     25\n",
              "2835     23\n",
              "3753     23\n",
              "2649     21\n",
              "2683     20\n",
              "2845     18\n",
              "2855     18\n",
              "2613     17\n",
              "2682     16\n",
              "2686     14\n",
              "2856     14\n",
              "2687     14\n",
              "3647     13\n",
              "2618     12\n",
              "2842     12\n",
              "2623     12\n",
              "2831     11\n",
              "2632     11\n",
              "2913     11\n",
              "2627     11\n",
              "2857     11\n",
              "2474     10\n",
              "2631     10\n",
              "3645     10\n",
              "2837     10\n",
              "2647     10\n",
              "2838     10\n",
              "2697      9\n",
              "3749      9\n",
              "2665      9\n",
              "2681      9\n",
              "2834      8\n",
              "3653      8\n",
              "2821      8\n",
              "3657      8\n",
              "2113      8\n",
              "1776      8\n",
              "3658      8\n",
              "Name: art_unit, dtype: int64"
            ]
          },
          "metadata": {
            "tags": []
          },
          "execution_count": 50
        }
      ]
    },
    {
      "cell_type": "code",
      "metadata": {
        "id": "CiDkPgzC8e6J",
        "colab_type": "code",
        "outputId": "35ddcf84-2dc2-4e32-9896-14fa72517d17",
        "colab": {
          "base_uri": "https://localhost:8080/",
          "height": 54
        }
      },
      "source": [
        "s = \"\"\n",
        "for c in list_top:\n",
        "  s += str(c) + \" or \"\n",
        "s"
      ],
      "execution_count": 51,
      "outputs": [
        {
          "output_type": "execute_result",
          "data": {
            "text/plain": [
              "'145 or 124 or 114 or 96 or 87 or 79 or 73 or 61 or 53 or 44 or 40 or 31 or 31 or 30 or 29 or 29 or 27 or 26 or 25 or 23 or 23 or 21 or 20 or 18 or 18 or 17 or 16 or 14 or 14 or 14 or 13 or 12 or 12 or 12 or 11 or 11 or 11 or 11 or 11 or 10 or 10 or 10 or 10 or 10 or 10 or 9 or 9 or 9 or 9 or 8 or 8 or 8 or 8 or 8 or 8 or 8 or '"
            ]
          },
          "metadata": {
            "tags": []
          },
          "execution_count": 51
        }
      ]
    },
    {
      "cell_type": "code",
      "metadata": {
        "id": "RR4lksI9AGBt",
        "colab_type": "code",
        "colab": {}
      },
      "source": [
        "df_competitors_copy = df_competitors.copy()\n",
        "df_exam_copy = df_exam_s.copy()"
      ],
      "execution_count": 0,
      "outputs": []
    },
    {
      "cell_type": "code",
      "metadata": {
        "id": "FBgSRScv8CIb",
        "colab_type": "code",
        "outputId": "7b673429-d50f-464a-e95f-8bc1f0ce1ea2",
        "colab": {
          "base_uri": "https://localhost:8080/",
          "height": 397
        }
      },
      "source": [
        "merged_exam = pd.merge(df_competitors_copy,df_exam_copy,on='examiner')\n",
        "merged_exam.sample(4)"
      ],
      "execution_count": 53,
      "outputs": [
        {
          "output_type": "execute_result",
          "data": {
            "text/html": [
              "<div>\n",
              "<style scoped>\n",
              "    .dataframe tbody tr th:only-of-type {\n",
              "        vertical-align: middle;\n",
              "    }\n",
              "\n",
              "    .dataframe tbody tr th {\n",
              "        vertical-align: top;\n",
              "    }\n",
              "\n",
              "    .dataframe thead th {\n",
              "        text-align: right;\n",
              "    }\n",
              "</style>\n",
              "<table border=\"1\" class=\"dataframe\">\n",
              "  <thead>\n",
              "    <tr style=\"text-align: right;\">\n",
              "      <th></th>\n",
              "      <th>PR.§1</th>\n",
              "      <th>AP.§1</th>\n",
              "      <th>PN.PN</th>\n",
              "      <th>FAN</th>\n",
              "      <th>FAMILY_PN</th>\n",
              "      <th>EPRD</th>\n",
              "      <th>EAPD</th>\n",
              "      <th>EPD</th>\n",
              "      <th>EPDG</th>\n",
              "      <th>ACT.EED</th>\n",
              "      <th>TI</th>\n",
              "      <th>AB</th>\n",
              "      <th>PA</th>\n",
              "      <th>IN</th>\n",
              "      <th>RP</th>\n",
              "      <th>ADB</th>\n",
              "      <th>ICLM</th>\n",
              "      <th>OBJ</th>\n",
              "      <th>KEYW</th>\n",
              "      <th>KWIC</th>\n",
              "      <th>PCL</th>\n",
              "      <th>ACT.STATUS</th>\n",
              "      <th>ACT</th>\n",
              "      <th>DS</th>\n",
              "      <th>EPRC</th>\n",
              "      <th>NO</th>\n",
              "      <th>FD</th>\n",
              "      <th>days_grant</th>\n",
              "      <th>art_unit</th>\n",
              "      <th>extension_days</th>\n",
              "      <th>examiner</th>\n",
              "      <th>draw_nb</th>\n",
              "      <th>clms_nb</th>\n",
              "      <th>clean_title</th>\n",
              "      <th>clean_num</th>\n",
              "      <th>prefix_art_x</th>\n",
              "      <th>suffix_art</th>\n",
              "      <th>norm_assignee</th>\n",
              "      <th>granted_bool</th>\n",
              "      <th>days_filing</th>\n",
              "      <th>priority_year</th>\n",
              "      <th>avg_for_grant</th>\n",
              "      <th>max_for_grant</th>\n",
              "      <th>min_for_grant</th>\n",
              "      <th>num_case</th>\n",
              "      <th>top_art_unit</th>\n",
              "      <th>top_assignee_processed</th>\n",
              "      <th>assignee_percent</th>\n",
              "      <th>prefix_art_y</th>\n",
              "    </tr>\n",
              "  </thead>\n",
              "  <tbody>\n",
              "    <tr>\n",
              "      <th>1821</th>\n",
              "      <td>2009US-61290262|2010US-12695736|2010US-12959250</td>\n",
              "      <td>CA2760872|US12/695,736|JP2011263814|RU20111491...</td>\n",
              "      <td>CA2760872|US9978251|JP6058885|RU2602700|EP2461...</td>\n",
              "      <td>4185287</td>\n",
              "      <td>US8442801           B2 2013-05-14 [US8442801]|...</td>\n",
              "      <td>2009-12-28</td>\n",
              "      <td>2010-01-28</td>\n",
              "      <td>2011-06-29</td>\n",
              "      <td>2013-05-14</td>\n",
              "      <td>(US8442801B2)|2031-08-04|(US9978251B2)|2033-10...</td>\n",
              "      <td>(US8442801)|Wireless location-based system for...</td>\n",
              "      <td>(US8442801)|A method and apparatus are provide...</td>\n",
              "      <td>HONEYWELL|HONEYWELL INTERNATIONAL</td>\n",
              "      <td>GONIA PATRICK S|KOLAVENNU SOUMITRI|CABUZ CLEOP...</td>\n",
              "      <td>(US8442801)|Husch Blackwell LLP|(US9978251)|Wi...</td>\n",
              "      <td>(US8442801)|Based on the foregoing, a need exi...</td>\n",
              "      <td>(US8442801)|1. A method comprising: providing ...</td>\n",
              "      <td>(US8442801)|The field of the invention relates...</td>\n",
              "      <td>(US20110161044)|TRANSCEIVER(100,101)|HAZARDOUS...</td>\n",
              "      <td>ECLM|(US8442801)|(...)as in claim 8 wherein th...</td>\n",
              "      <td>PCLO=702150000|PCLX=702023000|PCLX=702024000|P...</td>\n",
              "      <td>(US8442801B2)|GRANTED|(US9978251B2)|GRANTED|(E...</td>\n",
              "      <td>(US8442801)|LEGAL DETAILS FOR US20110161044|Ac...</td>\n",
              "      <td>(EP2339556)|Contracting States:  AL AT BE BG C...</td>\n",
              "      <td>US</td>\n",
              "      <td>(US20110161044)|Number of Drawings: NDR=1||Num...</td>\n",
              "      <td>(US8442801)|CIP of: US12/695,736 FDD=2010-01-2...</td>\n",
              "      <td>1233 days</td>\n",
              "      <td>2857</td>\n",
              "      <td>245</td>\n",
              "      <td>Henson Mischita</td>\n",
              "      <td>1</td>\n",
              "      <td>20</td>\n",
              "      <td>Wireless location-based system for detecting h...</td>\n",
              "      <td>US8442801</td>\n",
              "      <td>28</td>\n",
              "      <td>57</td>\n",
              "      <td>HONEYWELL</td>\n",
              "      <td>True</td>\n",
              "      <td>3597 days 17:40:23.945571</td>\n",
              "      <td>2009</td>\n",
              "      <td>1468</td>\n",
              "      <td>2227</td>\n",
              "      <td>771</td>\n",
              "      <td>5</td>\n",
              "      <td>2865</td>\n",
              "      <td>BOEING</td>\n",
              "      <td>0.6</td>\n",
              "      <td>29.0</td>\n",
              "    </tr>\n",
              "    <tr>\n",
              "      <th>1355</th>\n",
              "      <td>2014US-14200263</td>\n",
              "      <td>US14/200,263|CN201510099355</td>\n",
              "      <td>US9580180|US20150251765|CN104890878</td>\n",
              "      <td>70811470</td>\n",
              "      <td>US9580180           B2 2017-02-28 [US9580180]|...</td>\n",
              "      <td>2014-03-07</td>\n",
              "      <td>2014-03-07</td>\n",
              "      <td>2015-09-09</td>\n",
              "      <td>2017-02-28</td>\n",
              "      <td>(US9580180B2)|2034-06-01|(CN104890878A)|2035-0...</td>\n",
              "      <td>(US9580180)|Low-pressure bleed air aircraft en...</td>\n",
              "      <td>(US9580180)|An aircraft environmental control ...</td>\n",
              "      <td>HONEYWELL INTERNATIONAL</td>\n",
              "      <td>JONQUERES MICHEL A|ARAKI ROY</td>\n",
              "      <td>(US9580180)|Shimokaji IP|(CN104890878)|WU CHAO...</td>\n",
              "      <td>(US9580180)|This invention intends instead to ...</td>\n",
              "      <td>(US9580180)|1. An aircraft environmental contr...</td>\n",
              "      <td>(US9580180)|In one aspect of the present inven...</td>\n",
              "      <td>(US9580180)|AIRCRAFT(100,41)|ENVIRONMENTAL CON...</td>\n",
              "      <td>AB|(US9580180)|An aircraft environmental contr...</td>\n",
              "      <td>PCLO=062086000|PCLX=062401000</td>\n",
              "      <td>(US9580180B2)|GRANTED|(CN104890878A)|PENDING</td>\n",
              "      <td>(US9580180)|LEGAL DETAILS FOR US20150251765|Ac...</td>\n",
              "      <td>NaN</td>\n",
              "      <td>US</td>\n",
              "      <td>(US20150251765)|Number of Drawings: NDR=3||Num...</td>\n",
              "      <td>(US9580180)|Previous publication: US2015025176...</td>\n",
              "      <td>1089 days</td>\n",
              "      <td>3744</td>\n",
              "      <td>86</td>\n",
              "      <td>Duke Emmanuel</td>\n",
              "      <td>3</td>\n",
              "      <td>20</td>\n",
              "      <td>Low-pressure bleed air aircraft environmental ...</td>\n",
              "      <td>US9580180</td>\n",
              "      <td>37</td>\n",
              "      <td>44</td>\n",
              "      <td>HONEYWELL</td>\n",
              "      <td>True</td>\n",
              "      <td>2067 days 17:40:23.945571</td>\n",
              "      <td>2014</td>\n",
              "      <td>925</td>\n",
              "      <td>1089</td>\n",
              "      <td>761</td>\n",
              "      <td>2</td>\n",
              "      <td>3744</td>\n",
              "      <td>HONEYWELL</td>\n",
              "      <td>0.5</td>\n",
              "      <td>37.0</td>\n",
              "    </tr>\n",
              "    <tr>\n",
              "      <th>1381</th>\n",
              "      <td>2017US-15463569</td>\n",
              "      <td>US15/463,569</td>\n",
              "      <td>US10086953|US20180265220</td>\n",
              "      <td>81304139</td>\n",
              "      <td>US10086953          B1 2018-10-02 [US10086953]...</td>\n",
              "      <td>2017-03-20</td>\n",
              "      <td>2017-03-20</td>\n",
              "      <td>2018-09-20</td>\n",
              "      <td>2018-10-02</td>\n",
              "      <td>2037-03-20</td>\n",
              "      <td>(US10086953)|Aircraft beacon light synchroniza...</td>\n",
              "      <td>(US10086953)|A synchronized, aircraft light sy...</td>\n",
              "      <td>HONEYWELL INTERNATIONAL</td>\n",
              "      <td>LI QIXIANG</td>\n",
              "      <td>(US10086953)|Lorenz &amp; Kopf, LLP</td>\n",
              "      <td>(US20180265220)|Therefore, it is desirable to ...</td>\n",
              "      <td>(US20180265220)|1. An LED-based synchronized l...</td>\n",
              "      <td>(US20180265220)|Additionally, provided is an L...</td>\n",
              "      <td>(US10086953)|LIGHT EMITTING DIODE(100,60)|PLC ...</td>\n",
              "      <td>AB|(US10086953)|A synchronized, aircraft light...</td>\n",
              "      <td>NaN</td>\n",
              "      <td>GRANTED</td>\n",
              "      <td>(US10086953)|LEGAL DETAILS FOR US20180265220|A...</td>\n",
              "      <td>NaN</td>\n",
              "      <td>US</td>\n",
              "      <td>(US20180265220)|Number of Drawings: NDR=6||Num...</td>\n",
              "      <td>NaN</td>\n",
              "      <td>561 days</td>\n",
              "      <td>2844</td>\n",
              "      <td>NaN</td>\n",
              "      <td>Le Tung X</td>\n",
              "      <td>6</td>\n",
              "      <td>20</td>\n",
              "      <td>Aircraft beacon light synchronization</td>\n",
              "      <td>US10086953</td>\n",
              "      <td>28</td>\n",
              "      <td>44</td>\n",
              "      <td>HONEYWELL</td>\n",
              "      <td>True</td>\n",
              "      <td>958 days 17:40:23.945571</td>\n",
              "      <td>2017</td>\n",
              "      <td>797</td>\n",
              "      <td>1034</td>\n",
              "      <td>561</td>\n",
              "      <td>2</td>\n",
              "      <td>2844</td>\n",
              "      <td>HONEYWELL</td>\n",
              "      <td>0.5</td>\n",
              "      <td>28.0</td>\n",
              "    </tr>\n",
              "    <tr>\n",
              "      <th>670</th>\n",
              "      <td>2012US-13605485|2014US-14530888</td>\n",
              "      <td>US14/530,888|US13/605,485|WOUS2013/055932</td>\n",
              "      <td>US9529431|US20150049887|US8879760|WO2014/03925...</td>\n",
              "      <td>61882040</td>\n",
              "      <td>WO2014/039258       A1 2014-03-13 [WO201439258...</td>\n",
              "      <td>2012-09-06</td>\n",
              "      <td>2012-09-06</td>\n",
              "      <td>2014-03-06</td>\n",
              "      <td>2014-11-04</td>\n",
              "      <td>(WO201439258A1)|2016-03-06|(US8879760B2)|2032-...</td>\n",
              "      <td>(WO201439258)|Directional sound systems and re...</td>\n",
              "      <td>(WO2014/039258)|Entertainment systems are prov...</td>\n",
              "      <td>THALES AVIONICS</td>\n",
              "      <td>BLEACHER BRETT|MONDRAGON CHRISTOPHER K</td>\n",
              "      <td>(WO201439258)|MYERS BIGEL SIBLEY &amp; SAJOVEC, P....</td>\n",
              "      <td>(WO2014/039258)|[0004] Directional sound has m...</td>\n",
              "      <td>(WO2014/039258)|23. An in-flight entertainment...</td>\n",
              "      <td>(US8879760)|Entertainment systems are provided...</td>\n",
              "      <td>(US9529431)|DIRECTIONAL SOUND SPEAKER(100,83)|...</td>\n",
              "      <td>AB|(WO2014/039258)|Entertainment systems are p...</td>\n",
              "      <td>PCLO=381303000|PCLX=381077000|PCLX=381182000</td>\n",
              "      <td>(WO201439258A1)|LAPSED|(US8879760B2)|GRANTED|(...</td>\n",
              "      <td>(WO201439258)|LEGAL DETAILS FOR WO2014/039258|...</td>\n",
              "      <td>(WO201439258)|National States:  AE AG AL AM AO...</td>\n",
              "      <td>US</td>\n",
              "      <td>(WO201439258)|Extended kind: x||(US20140064524...</td>\n",
              "      <td>(US8879760)|Previous publication: US2014006452...</td>\n",
              "      <td>789 days</td>\n",
              "      <td>2656</td>\n",
              "      <td>135</td>\n",
              "      <td>Nguyen Tuan D</td>\n",
              "      <td>7</td>\n",
              "      <td>36</td>\n",
              "      <td>Directional sound systems and related methods</td>\n",
              "      <td>WO201439258</td>\n",
              "      <td>26</td>\n",
              "      <td>56</td>\n",
              "      <td>THALES</td>\n",
              "      <td>True</td>\n",
              "      <td>2614 days 17:40:23.945571</td>\n",
              "      <td>2012</td>\n",
              "      <td>789</td>\n",
              "      <td>789</td>\n",
              "      <td>789</td>\n",
              "      <td>1</td>\n",
              "      <td>2656</td>\n",
              "      <td>THALES</td>\n",
              "      <td>1.0</td>\n",
              "      <td>27.0</td>\n",
              "    </tr>\n",
              "  </tbody>\n",
              "</table>\n",
              "</div>"
            ],
            "text/plain": [
              "                                                PR.§1  ... prefix_art_y\n",
              "1821  2009US-61290262|2010US-12695736|2010US-12959250  ...         29.0\n",
              "1355                                  2014US-14200263  ...         37.0\n",
              "1381                                  2017US-15463569  ...         28.0\n",
              "670                   2012US-13605485|2014US-14530888  ...         27.0\n",
              "\n",
              "[4 rows x 49 columns]"
            ]
          },
          "metadata": {
            "tags": []
          },
          "execution_count": 53
        }
      ]
    },
    {
      "cell_type": "code",
      "metadata": {
        "id": "apnlmQp29vp1",
        "colab_type": "code",
        "colab": {}
      },
      "source": [
        "def getListExaminer(df,n):\n",
        "  top_df = df[df['num_case'] > n]\n",
        "  return top_df['examiner'].unique()"
      ],
      "execution_count": 0,
      "outputs": []
    },
    {
      "cell_type": "code",
      "metadata": {
        "id": "2KN0J4vV-B45",
        "colab_type": "code",
        "outputId": "e7b2ed94-4693-49f9-9e91-eb40a5f2a825",
        "colab": {
          "base_uri": "https://localhost:8080/",
          "height": 54
        }
      },
      "source": [
        "exam_over_3 = getListExaminer(merged_exam,3)\n",
        "ss = \"\"\n",
        "for e in exam_over_3:\n",
        "  ss += '('+e+')'+\" ou \"\n",
        "ss"
      ],
      "execution_count": 55,
      "outputs": [
        {
          "output_type": "execute_result",
          "data": {
            "text/plain": [
              "'( Cheung Mary) ou ( Cheung Calvin) ou ( Edwards Jerrah) ou ( Trammell James) ou ( Butler Rodney) ou ( Lin Abby Y) ou ( Sample Jonathan L) ou ( Nguyen Tan Q) ou ( Tran Khoi) ou ( Olszewski John R) ou ( Tarcza Thomas) ou ( Amin Bhavesh V) ou ( Girma Fekadeselassie) ou ( Shaawat Mussa A) ou ( Paige Tyler) ou ( Whittington Jess) ou ( Nguyen Tai T) ou ( Nguyen Cuong H) ou ( Benedik Justin) ou ( Badii Behrang) ou ( Nguyen John Q) ou ( Black Thomas G) ou ( Heinle Courtney D) ou ( Jos Basil T) ou ( Weber Tamara L) ou ( Khatib Rami) ou ( Nguyen Phung) ou ( Mustafa Imran) ou ( Hellner Mark) ou ( Zanelli Michael J) ou ( Wiltey Nicholas K) ou ( Brainard Timothy A) ou ( Beaulieu Yonel) ou ( Shafi Muhammad) ou ( Anwari Maceeh) ou ( Troost Aaron L) ou ( Elchanti Hussein) ou ( Marc-Coleman Marthe) ou ( Nguyen Nga X) ou ( Davis Richard G) ou ( Glass Erick) ou ( Jabr Fadey) ou ( Trivedi Atul) ou ( Lee Tyler J) ou ( Ramesh Krishnan) ou ( Camby Richard) ou ( Lau Hoi) ou ( Liu Harry) ou ( Algahaim Helal A) ou ( La Anh V) ou ( Tissot Adam) ou ( Mawari Redhwan k) ou ( Jeanglaud Gertrude Arthur) ou ( Ingram Thomas) ou ( Ratcliffe Luke) ou ( Tung Kee M) ou ( Patton Spencer) ou ( Thompson Jewel V) ou ( Patel Harshad R) ou ( Bruckart Benjamin R) ou ( Gray David M) ou ( Geisel Kara E) ou ( Phan Hai) ou ( Lau Tung S) ou ( Nguyen Hung T) ou ( Collins Timothy D) ou ( Deberadinis Robert) ou ( Smith Jelani A) ou ( Dunn Alex C) ou ( Holtje Martie K) ou ( Melton Todd) ou ( Le John H) ou ( Bythrow Peter M) ou ( Sotomayor John B) ou ( Phan Huy Q) ou ( Barker Matthew M) ou ( Joerger Kaitlin) ou ( File Erin) ou ( Lee Nicholas) ou ( Gregory Bernarr E) ou ( Frejd Russell) ou ( McGue Frank J) ou ( Ton Tri T) ou ( Rushing Mark) ou ( Levi Dameon E) ou ( Chan Kawing) ou ( Gregory Bernarr) ou ( Bythrow Peter) ou ( Smith Nkeisha) ou ( Ko Tony) ou ( Caputo Lisa) ou ( Amrany Adi) ou ( Lang Michael D) ou ( Allen Andre) ou ( Keith Jack W) ou ( Charioui Mohamed) ou ( Tabatabai Abolfazl) ou ( Nwugo Ojiako) ou ( Galt Cassie) ou ( Le Hoanganh) ou ( Bonzell Philip J) ou ( Nguyen Kim T) ou ( Pihulic Daniel) ou ( Gebresilassie Kibrom K) ou ( Jagan Mirellys) ou ( Phan Dao) ou ( Nguyen Hoa C) ou ( Kwok Helen) ou ( McCall Eric S) ou ( Raevis Robert R) ou ( Wu Xiao) ou ( Patel Tulsidas C) ou ( Toatley Gregory J) ou ( Do Truc M) ou ( Haughton Anthony) ou ( Nguyen Sang) ou ( Payne David) ou ( Berhane Adolf) ou ( Keith Jack) ou ( Barnie Rexford) ou ( McPherson James M) ou ( Mengistu Amare) ou ( Phan Hanh) ou ( Fenstermacher David M) ou ( Issing Gregory C) ou ( Dinh Tien) ou ( Karacsony Robert) ou ( Smith Graham) ou ( Wu Jerry) ou ( Guadalupe-McCall Yaritza) ou ( Eisen Alexander) ou ( Thompson Gregory) ou ( Duong Dieu H) ou ( Gaffin Jeffrey A) ou ( Xavier Valentina) ou ( Wong Yuen) ou ( Martin Laura) ou ( Windrich Marcus) ou ( Shah Kamini S) ou ( Patel Jay) ou ( Mehmood Jennifer) ou ( Marc McDieunel) ou ( Jeanglaude Gertrude Arthur) ou ( Casillashernandez Omar) ou ( McNally Kerri) ou ( Pham Toan N) ou ( Paige Tyler D) ou ( Figueroa Jaime) ou ( Blount Eric M) ou ( Holwerda Stephen) ou ( Hunnings Travis) ou ( Hilgendorf Dale W) ou ( Bugg George) ou ( Ismail Mahmoud S) ou ( Black Thomas) ou ( Milord Marceau) ou ( Swarthout Brent) ou ( Tran Dalena) ou ( Tran Khoi H) ou ( Musselman Timothy A) ou ( Thompson James A) ou ( Soofi Yazan) ou ( Lim Steven) ou ( Antonucci Anne M) ou ( Wang Jack K) ou ( Zimmerman Brian) ou ( Dager Jonathan M) ou ( Butler Rodney A) ou ( Ellis Christopher P) ou ( Chen Shelley) ou ( Kleinman Lail A) ou ( Luo David S) ou ( Mawari Redhwan K) ou ( Alharbi Adam) ou ( Bui Bryan) ou ( Shah Tanmay) ou ( Windrich Marcus E) ou ( Lee Benjamin P) ou ( Moyer Dale) ou ( Feild Joseph) ou ( Lai Andrew) ou ( Lee Benjamin C) ou ( Lazo Thomas E) ou ( Dao Thuy) ou ( Savani Avinash) ou ( Irvin Thomas) ou ( Cass Jean-Paul) ou ( Smith Jelani) ou ( Nguyen An T) ou ( Swiatek Rob) ou ( Flores Leon) ou ( Yang Ryan R) ou ( Assouad Patrick) ou ( Kan Yuri) ou ( McAllister Steven B) ou ( Sanderson Joseph W) ou ( Lin Abby) ou ( To Tuan C) ou ( Jen Ian) ou ( Siconolfi Robert A) ou ( Shanske Jason) ou ( Alharbi Adam M) ou ( Orlando Amber R) ou ( Jones Christopher P) ou ( Mancho Ronnie) ou ( Kitov Zeev V) ou ( Sung Gerald L) ou ( Liu Jonathan) ou ( Nguyen Hoang) ou ( Younger Sean J) ou ( Fleming Fritz M) ou ( Bomberg Kenneth) ou ( Fuqua Shawntina) ou ( Ganey Steven J) ou ( Bui Pho Pascal M) ou ( Oh Harry Y) ou ( Nguyen Bao Long T) ou ( Soofi Yazan A) ou ( Wongwian Phutthiwat) ou ( Nguyen Andrew H) ou ( Low Lindsay) ou ( Laurenzi Mark) ou ( Huson Gregory) ou ( Mott Genna) ou ( Kim Craig) ou ( Raymond Edward) ou ( Schneider Craig) ou ( Sajous Wesner) ou ( Boyd Jonathan) ou ( Jacob Mary C) ou ( Tyler Cheryl J) ou ( Edgar Richard) ou ( Crawford Jacinta M) ou ( Johnson Ryan) ou ( Nguyen Chuong P) ou ( Keasel Eric) ou ( Tompkins Alissa) ou ( Phillips Forrest M) ou ( Padmanabhan Kavita) ou ( Murphy Kevin) ou ( Fureman Jared) ou ( Paul Antony M) ou ( Thompson Timothy) ou ( Santana Eduardo Colon) ou ( Patel Dharti) ou ( Cosimano Edward) ou ( Caputo Lisa M) ou ( Patel Ramesh) ou ( Donovan Lincoln) ou ( Tso Laura) ou ( Gartenberg Ehud) ou ( Look Edward) ou ( Williams Thomas J) ou ( Tran Len) ou ( Rivera Carlos A) ou ( Barbee Manuel L) ou ( Le Thien M) ou ( Lettman Bryan) ou ( Tarcza Thomas H) ou ( Schwartz Christopher) ou ( Luks Jeremy) ou ( Kelleher William) ou ( Dunwoody Aaron) ou ( Williams Hezron E) ou ( Bui Dung H) ou ( Nguyen Andrew) ou ( Verbitsky Gail Kaplan) ou ( Rodriguez William H) ou ( Desta Elias) ou ( Tran Thienvu) ou ( White Dwayne J) ou ( Brinson Patrick F) ou ( Jones Melvin) ou ( Lyons Michael A) ou ( Nguyen Tu X) ou ( Tsai Henry) ou ( Chaudry Atif) ou ( McManmon Mary) ou ( Rogers David A) ou ( Lee Kevin) ou ( Hollington Jermele M) ou ( Cunningham Xanthia C) ou ( Bauer Cassey D) ou ( Verdier Christopher) ou ( Wu Daniel) ou ( Simone Catherine A) ou ( Saad Erin) ou ( Jarrett Ryan) ou ( Ali Mohammad) ou ( Greene Jason M) ou ( Waks Joseph) ou ( Czekaj Dave) ou ( Kim John K) ou ( Thier Michael) ou ( Daniels Matthew) ou ( Henson Mischita) ou ( Johnson Stephen) ou ( Hwu Davis) ou ( Leslie Michael) ou ( Veynar Caron D) ou ( Previl Daniel) ou ( Liew Alex) ou ( Zand Kambiz) ou ( Ro Bentsu) ou ( Bell William P) ou ( Nguyen Kevin M) ou ( Brooks Cathron C) ou ( Figueroa Adriana) ou ( Rinehart Mark) ou ( Betton Katrina A) ou ( Hoffberg Robert J) ou ( Lu Shirley) ou ( Sweeney Brian P) ou ( Dinh Trinh) ou ( Pham Chi H) ou ( Harold Jefferey) ou ( Phan Tho G) ou ( Yao Sam) ou ( Ference James M) ou ( Nguyen Hoang V) ou ( White Rodney B) ou ( Zaman Faisal M) ou ( Makiya David J) ou ( Jules Frantz) ou ( Magloire Vladimir) ou ( Smith Courtney) ou ( Breene John) ou ( Kim Kevin) ou ( Nguyen Chi Q) ou ( Phan Dao L) ou ( Ho Tan) ou ( Goldman Richard A) ou ( Utama Robert J) ou ( Ewald Maria Veronica) ou ( Liu Harry K) ou ( Cuevas Pedro J) ou ( Hutchinson Alan D) ou ( Kaplan Hal) ou ( Price Craig J) ou ( Leja Ronald W) ou ( Kim Eunhee) ou ( Kraft Logan) ou ( Cahill Jessica) ou ( Amaya Carlos) ou ( Kershteyn Igor) ou ( Goff John) ou ( Bauer Scott) ou ( Kerns Kevin P) ou ( Chambers Troy) ou '"
            ]
          },
          "metadata": {
            "tags": []
          },
          "execution_count": 55
        }
      ]
    },
    {
      "cell_type": "markdown",
      "metadata": {
        "id": "VM2-g9Gm4osY",
        "colab_type": "text"
      },
      "source": [
        ""
      ]
    }
  ]
}