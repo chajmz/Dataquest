{
  "nbformat": 4,
  "nbformat_minor": 0,
  "metadata": {
    "colab": {
      "name": "Scrapping Examiners Data.ipynb",
      "provenance": [],
      "include_colab_link": true
    },
    "kernelspec": {
      "name": "python3",
      "display_name": "Python 3"
    },
    "accelerator": "TPU"
  },
  "cells": [
    {
      "cell_type": "markdown",
      "metadata": {
        "id": "view-in-github",
        "colab_type": "text"
      },
      "source": [
        "<a href=\"https://colab.research.google.com/github/chajmz/Dataquest/blob/master/Scrapping_Examiners_Data.ipynb\" target=\"_parent\"><img src=\"https://colab.research.google.com/assets/colab-badge.svg\" alt=\"Open In Colab\"/></a>"
      ]
    },
    {
      "cell_type": "code",
      "metadata": {
        "id": "8zfL0QoeqzTV",
        "colab_type": "code",
        "colab": {}
      },
      "source": [
        "import requests\n",
        "import urllib.request\n",
        "import time\n",
        "from bs4 import BeautifulSoup\n",
        "import re\n",
        "import pandas as pd\n",
        "import matplotlib.pyplot as plt\n",
        "import seaborn as sns\n",
        "import numpy as np\n",
        "import json\n",
        "from pandas.io.json import json_normalize    \n",
        "from datetime import datetime\n",
        "from datetime import date\n",
        "from google.colab import drive"
      ],
      "execution_count": 0,
      "outputs": []
    },
    {
      "cell_type": "code",
      "metadata": {
        "id": "274G2pvDrLGf",
        "colab_type": "code",
        "outputId": "a677af91-db51-4bb1-a9b8-c37e8b810af5",
        "colab": {
          "base_uri": "https://localhost:8080/",
          "height": 34
        }
      },
      "source": [
        "url = 'https://www.patentbots.com/stats/art-unit/3647'\n",
        "response = requests.get(url)\n",
        "response"
      ],
      "execution_count": 53,
      "outputs": [
        {
          "output_type": "execute_result",
          "data": {
            "text/plain": [
              "<Response [200]>"
            ]
          },
          "metadata": {
            "tags": []
          },
          "execution_count": 53
        }
      ]
    },
    {
      "cell_type": "code",
      "metadata": {
        "id": "GMChCruwrQyF",
        "colab_type": "code",
        "outputId": "12c4676f-321e-4782-b9e8-b4990a544988",
        "colab": {
          "base_uri": "https://localhost:8080/",
          "height": 483
        }
      },
      "source": [
        "import requests\n",
        "import urllib.request\n",
        "import time\n",
        "from bs4 import BeautifulSoup\n",
        "\n",
        "def scrapArtUnitExaminers(num):\n",
        "  url = 'https://www.patentbots.com/stats/art-unit/'+str(num)\n",
        "  response = requests.get(url)\n",
        "  if response.status_code == 200:\n",
        "    soup = BeautifulSoup(response.text, \"html.parser\")\n",
        "    td = soup.findAll('td')\n",
        "    pattern = r'[0-9]*[-]([\\w-]*)\\\"'\n",
        "    l2 = []\n",
        "    for i in range(0,len(td),3):\n",
        "      line_str = str(td[i].contents[0])\n",
        "      if 'examiner/' in line_str:\n",
        "        name = re.search(pattern, line_str).group(1).replace('-',' ')\n",
        "        num_case = int(td[i+1].contents[0])\n",
        "        grant = str(td[i+2].contents[0])\n",
        "        l2.append([name,num_case,grant])\n",
        "    df = pd.DataFrame(l2,columns=['examiner','num_case','percent_grant'])\n",
        "    df['art_unit'] = num\n",
        "    return df\n",
        "\n",
        "df = scrapArtUnitExaminers(3644)\n",
        "df"
      ],
      "execution_count": 54,
      "outputs": [
        {
          "output_type": "execute_result",
          "data": {
            "text/html": [
              "<div>\n",
              "<style scoped>\n",
              "    .dataframe tbody tr th:only-of-type {\n",
              "        vertical-align: middle;\n",
              "    }\n",
              "\n",
              "    .dataframe tbody tr th {\n",
              "        vertical-align: top;\n",
              "    }\n",
              "\n",
              "    .dataframe thead th {\n",
              "        text-align: right;\n",
              "    }\n",
              "</style>\n",
              "<table border=\"1\" class=\"dataframe\">\n",
              "  <thead>\n",
              "    <tr style=\"text-align: right;\">\n",
              "      <th></th>\n",
              "      <th>examiner</th>\n",
              "      <th>num_case</th>\n",
              "      <th>percent_grant</th>\n",
              "      <th>art_unit</th>\n",
              "    </tr>\n",
              "  </thead>\n",
              "  <tbody>\n",
              "    <tr>\n",
              "      <th>0</th>\n",
              "      <td>ABBOTT LEWIS YVONNE RENEE</td>\n",
              "      <td>506</td>\n",
              "      <td>85%</td>\n",
              "      <td>3644</td>\n",
              "    </tr>\n",
              "    <tr>\n",
              "      <th>1</th>\n",
              "      <td>ABELL TYE W</td>\n",
              "      <td>0</td>\n",
              "      <td>0%</td>\n",
              "      <td>3644</td>\n",
              "    </tr>\n",
              "    <tr>\n",
              "      <th>2</th>\n",
              "      <td>COLLINS TIMOTHY D</td>\n",
              "      <td>11</td>\n",
              "      <td>18%</td>\n",
              "      <td>3644</td>\n",
              "    </tr>\n",
              "    <tr>\n",
              "      <th>3</th>\n",
              "      <td>DAVIS RICHARD G</td>\n",
              "      <td>324</td>\n",
              "      <td>71%</td>\n",
              "      <td>3644</td>\n",
              "    </tr>\n",
              "    <tr>\n",
              "      <th>4</th>\n",
              "      <td>DIXON KEITH L</td>\n",
              "      <td>232</td>\n",
              "      <td>75%</td>\n",
              "      <td>3644</td>\n",
              "    </tr>\n",
              "    <tr>\n",
              "      <th>5</th>\n",
              "      <td>ELLIS CHRISTOPHER P</td>\n",
              "      <td>378</td>\n",
              "      <td>89%</td>\n",
              "      <td>3644</td>\n",
              "    </tr>\n",
              "    <tr>\n",
              "      <th>6</th>\n",
              "      <td>FILOSI TERRI L</td>\n",
              "      <td>4</td>\n",
              "      <td>0%</td>\n",
              "      <td>3644</td>\n",
              "    </tr>\n",
              "    <tr>\n",
              "      <th>7</th>\n",
              "      <td>KREINER MICHAEL B</td>\n",
              "      <td>205</td>\n",
              "      <td>87%</td>\n",
              "      <td>3644</td>\n",
              "    </tr>\n",
              "    <tr>\n",
              "      <th>8</th>\n",
              "      <td>MCFALL NICHOLAS A</td>\n",
              "      <td>223</td>\n",
              "      <td>87%</td>\n",
              "      <td>3644</td>\n",
              "    </tr>\n",
              "    <tr>\n",
              "      <th>9</th>\n",
              "      <td>NGUYEN TRINH T</td>\n",
              "      <td>391</td>\n",
              "      <td>65%</td>\n",
              "      <td>3644</td>\n",
              "    </tr>\n",
              "    <tr>\n",
              "      <th>10</th>\n",
              "      <td>OHARA BRIAN M</td>\n",
              "      <td>233</td>\n",
              "      <td>85%</td>\n",
              "      <td>3644</td>\n",
              "    </tr>\n",
              "    <tr>\n",
              "      <th>11</th>\n",
              "      <td>SANDERSON JOSEPH W</td>\n",
              "      <td>235</td>\n",
              "      <td>83%</td>\n",
              "      <td>3644</td>\n",
              "    </tr>\n",
              "    <tr>\n",
              "      <th>12</th>\n",
              "      <td>WILLIAMS MONICA L</td>\n",
              "      <td>347</td>\n",
              "      <td>63%</td>\n",
              "      <td>3644</td>\n",
              "    </tr>\n",
              "    <tr>\n",
              "      <th>13</th>\n",
              "      <td>WONG JESSICA BOWEN</td>\n",
              "      <td>184</td>\n",
              "      <td>54%</td>\n",
              "      <td>3644</td>\n",
              "    </tr>\n",
              "  </tbody>\n",
              "</table>\n",
              "</div>"
            ],
            "text/plain": [
              "                     examiner  num_case percent_grant  art_unit\n",
              "0   ABBOTT LEWIS YVONNE RENEE       506           85%      3644\n",
              "1                 ABELL TYE W         0            0%      3644\n",
              "2           COLLINS TIMOTHY D        11           18%      3644\n",
              "3             DAVIS RICHARD G       324           71%      3644\n",
              "4               DIXON KEITH L       232           75%      3644\n",
              "5         ELLIS CHRISTOPHER P       378           89%      3644\n",
              "6              FILOSI TERRI L         4            0%      3644\n",
              "7           KREINER MICHAEL B       205           87%      3644\n",
              "8           MCFALL NICHOLAS A       223           87%      3644\n",
              "9              NGUYEN TRINH T       391           65%      3644\n",
              "10              OHARA BRIAN M       233           85%      3644\n",
              "11         SANDERSON JOSEPH W       235           83%      3644\n",
              "12          WILLIAMS MONICA L       347           63%      3644\n",
              "13         WONG JESSICA BOWEN       184           54%      3644"
            ]
          },
          "metadata": {
            "tags": []
          },
          "execution_count": 54
        }
      ]
    },
    {
      "cell_type": "code",
      "metadata": {
        "id": "M9aYb4p1EWYF",
        "colab_type": "code",
        "outputId": "53910aaf-ac85-45cd-aee5-f19448e5f62b",
        "colab": {
          "base_uri": "https://localhost:8080/",
          "height": 359
        }
      },
      "source": [
        "import json\n",
        "\n",
        "def getSmallChartDataUnit(unit):\n",
        "  url = 'https://www.patentbots.com/stats/art-unit/' + str(unit) \n",
        "  response = requests.get(url)\n",
        "  if response.status_code == 200:\n",
        "    soup = BeautifulSoup(response.text, \"html.parser\")\n",
        "    comp = soup.findAll('script',attrs = {'id':'comparison-data'})\n",
        "    for row in comp:\n",
        "      df = pd.DataFrame(json.loads(row.string),columns=['group','percent_grant_num','3ygr','percent_grant'])\n",
        "    df['art_unit'] = int(unit)\n",
        "    return df\n",
        "\n",
        "\n",
        "def getBigChartDataUnit(unit):\n",
        "  url = 'https://www.patentbots.com/stats/art-unit/' + str(unit) \n",
        "  response = requests.get(url)\n",
        "  if response.status_code == 200:\n",
        "    soup = BeautifulSoup(response.text, \"html.parser\")\n",
        "    comp2 = soup.findAll('script',attrs = {'id':'timeline-data'})\n",
        "    for row in comp2:\n",
        "      df =  pd.DataFrame(json.loads(row.string),columns=['months','comment','granted','pending','abandoned'])\n",
        "    df['art_unit'] = int(unit)\n",
        "    \n",
        "    sum_all = df['granted'] + df['pending'] + df['abandoned']\n",
        "    df['p_grant'] = round(df['granted']/sum_all,2)\n",
        "    df['p_pending'] = round(df['pending']/sum_all,2)\n",
        "    df['p_abandoned'] = round(df['abandoned']/sum_all,2)\n",
        "    return df\n",
        "\n",
        "\n",
        "abc =  getBigChartDataUnit(3644)\n",
        "abc.sample(10)"
      ],
      "execution_count": 55,
      "outputs": [
        {
          "output_type": "execute_result",
          "data": {
            "text/html": [
              "<div>\n",
              "<style scoped>\n",
              "    .dataframe tbody tr th:only-of-type {\n",
              "        vertical-align: middle;\n",
              "    }\n",
              "\n",
              "    .dataframe tbody tr th {\n",
              "        vertical-align: top;\n",
              "    }\n",
              "\n",
              "    .dataframe thead th {\n",
              "        text-align: right;\n",
              "    }\n",
              "</style>\n",
              "<table border=\"1\" class=\"dataframe\">\n",
              "  <thead>\n",
              "    <tr style=\"text-align: right;\">\n",
              "      <th></th>\n",
              "      <th>months</th>\n",
              "      <th>comment</th>\n",
              "      <th>granted</th>\n",
              "      <th>pending</th>\n",
              "      <th>abandoned</th>\n",
              "      <th>art_unit</th>\n",
              "      <th>p_grant</th>\n",
              "      <th>p_pending</th>\n",
              "      <th>p_abandoned</th>\n",
              "    </tr>\n",
              "  </thead>\n",
              "  <tbody>\n",
              "    <tr>\n",
              "      <th>27</th>\n",
              "      <td>27</td>\n",
              "      <td>None</td>\n",
              "      <td>3993</td>\n",
              "      <td>331</td>\n",
              "      <td>1064</td>\n",
              "      <td>3644</td>\n",
              "      <td>0.74</td>\n",
              "      <td>0.06</td>\n",
              "      <td>0.20</td>\n",
              "    </tr>\n",
              "    <tr>\n",
              "      <th>26</th>\n",
              "      <td>26</td>\n",
              "      <td>None</td>\n",
              "      <td>4020</td>\n",
              "      <td>361</td>\n",
              "      <td>1059</td>\n",
              "      <td>3644</td>\n",
              "      <td>0.74</td>\n",
              "      <td>0.07</td>\n",
              "      <td>0.19</td>\n",
              "    </tr>\n",
              "    <tr>\n",
              "      <th>13</th>\n",
              "      <td>13</td>\n",
              "      <td>None</td>\n",
              "      <td>3910</td>\n",
              "      <td>1493</td>\n",
              "      <td>893</td>\n",
              "      <td>3644</td>\n",
              "      <td>0.62</td>\n",
              "      <td>0.24</td>\n",
              "      <td>0.14</td>\n",
              "    </tr>\n",
              "    <tr>\n",
              "      <th>36</th>\n",
              "      <td>36</td>\n",
              "      <td>3Y Grant Rate</td>\n",
              "      <td>3576</td>\n",
              "      <td>118</td>\n",
              "      <td>1027</td>\n",
              "      <td>3644</td>\n",
              "      <td>0.76</td>\n",
              "      <td>0.02</td>\n",
              "      <td>0.22</td>\n",
              "    </tr>\n",
              "    <tr>\n",
              "      <th>31</th>\n",
              "      <td>31</td>\n",
              "      <td>None</td>\n",
              "      <td>3845</td>\n",
              "      <td>209</td>\n",
              "      <td>1055</td>\n",
              "      <td>3644</td>\n",
              "      <td>0.75</td>\n",
              "      <td>0.04</td>\n",
              "      <td>0.21</td>\n",
              "    </tr>\n",
              "    <tr>\n",
              "      <th>15</th>\n",
              "      <td>15</td>\n",
              "      <td>None</td>\n",
              "      <td>4024</td>\n",
              "      <td>1169</td>\n",
              "      <td>956</td>\n",
              "      <td>3644</td>\n",
              "      <td>0.65</td>\n",
              "      <td>0.19</td>\n",
              "      <td>0.16</td>\n",
              "    </tr>\n",
              "    <tr>\n",
              "      <th>32</th>\n",
              "      <td>32</td>\n",
              "      <td>None</td>\n",
              "      <td>3799</td>\n",
              "      <td>186</td>\n",
              "      <td>1046</td>\n",
              "      <td>3644</td>\n",
              "      <td>0.76</td>\n",
              "      <td>0.04</td>\n",
              "      <td>0.21</td>\n",
              "    </tr>\n",
              "    <tr>\n",
              "      <th>20</th>\n",
              "      <td>20</td>\n",
              "      <td>None</td>\n",
              "      <td>4110</td>\n",
              "      <td>683</td>\n",
              "      <td>1011</td>\n",
              "      <td>3644</td>\n",
              "      <td>0.71</td>\n",
              "      <td>0.12</td>\n",
              "      <td>0.17</td>\n",
              "    </tr>\n",
              "    <tr>\n",
              "      <th>34</th>\n",
              "      <td>34</td>\n",
              "      <td>None</td>\n",
              "      <td>3720</td>\n",
              "      <td>142</td>\n",
              "      <td>1046</td>\n",
              "      <td>3644</td>\n",
              "      <td>0.76</td>\n",
              "      <td>0.03</td>\n",
              "      <td>0.21</td>\n",
              "    </tr>\n",
              "    <tr>\n",
              "      <th>3</th>\n",
              "      <td>3</td>\n",
              "      <td>None</td>\n",
              "      <td>869</td>\n",
              "      <td>5981</td>\n",
              "      <td>26</td>\n",
              "      <td>3644</td>\n",
              "      <td>0.13</td>\n",
              "      <td>0.87</td>\n",
              "      <td>0.00</td>\n",
              "    </tr>\n",
              "  </tbody>\n",
              "</table>\n",
              "</div>"
            ],
            "text/plain": [
              "    months        comment  granted  ...  p_grant  p_pending  p_abandoned\n",
              "27      27           None     3993  ...     0.74       0.06         0.20\n",
              "26      26           None     4020  ...     0.74       0.07         0.19\n",
              "13      13           None     3910  ...     0.62       0.24         0.14\n",
              "36      36  3Y Grant Rate     3576  ...     0.76       0.02         0.22\n",
              "31      31           None     3845  ...     0.75       0.04         0.21\n",
              "15      15           None     4024  ...     0.65       0.19         0.16\n",
              "32      32           None     3799  ...     0.76       0.04         0.21\n",
              "20      20           None     4110  ...     0.71       0.12         0.17\n",
              "34      34           None     3720  ...     0.76       0.03         0.21\n",
              "3        3           None      869  ...     0.13       0.87         0.00\n",
              "\n",
              "[10 rows x 9 columns]"
            ]
          },
          "metadata": {
            "tags": []
          },
          "execution_count": 55
        }
      ]
    },
    {
      "cell_type": "code",
      "metadata": {
        "id": "p2LipNI2M8ri",
        "colab_type": "code",
        "outputId": "073b2388-1d70-4df3-ab08-e5d8491f6d19",
        "colab": {
          "base_uri": "https://localhost:8080/",
          "height": 279
        }
      },
      "source": [
        "import numpy as np\n",
        "import matplotlib.pyplot as plt\n",
        "barWidth = 0.85\n",
        "# Create green Bars\n",
        "plt.bar(abc['months'], abc['p_grant'], color='green', edgecolor='white', width=barWidth,label='granted')\n",
        "# Create orange Bars\n",
        "plt.bar(abc['months'], abc['p_pending'],bottom = abc['p_grant'], color='orange', edgecolor='orange', width=barWidth,label='pending')\n",
        "plt.bar(abc['months'], abc['p_abandoned'],bottom=[i+j for i,j in zip(abc['p_grant'], abc['p_grant'])], color='blue', edgecolor='white', width=barWidth,label='abandoned')\n",
        " \n",
        "# Custom x axis\n",
        "plt.xlabel(\"Months\")\n",
        "plt.legend(loc='upper left', bbox_to_anchor=(1,1), ncol=1)\n",
        "\n",
        "# Show graphic\n",
        "plt.show()"
      ],
      "execution_count": 56,
      "outputs": [
        {
          "output_type": "display_data",
          "data": {
            "image/png": "[encoded data removed]",
            "text/plain": [
              "<Figure size 432x288 with 1 Axes>"
            ]
          },
          "metadata": {
            "tags": []
          }
        }
      ]
    },
    {
      "cell_type": "code",
      "metadata": {
        "id": "rCJTqPUaSuI0",
        "colab_type": "code",
        "outputId": "ba197e0c-4f2a-4c1f-b7ba-4b2bcb012bca",
        "colab": {
          "base_uri": "https://localhost:8080/",
          "height": 295
        }
      },
      "source": [
        "from matplotlib import cm\n",
        "\n",
        "def getGraphUnit(df):\n",
        "  cmap = cm.get_cmap('Paired')\n",
        "  ax = df[['p_grant','p_pending','p_abandoned']].plot(kind=\"bar\", stacked=True,legend=True,figsize=(13,4),colormap=cmap)\n",
        "  ax.axvline(x=36,linewidth=2, color='black', ls='--',label='3 Year Grant Rate')\n",
        "  ax.set_xlabel('Month Since First Officer Actions')\n",
        "  ax.set_ylabel('%')\n",
        "  ax.set_title('Grant Rate Timeline')\n",
        "  ax.set_xticklabels(ax.get_xticklabels(), rotation=0)\n",
        "  ax.legend()\n",
        "\n",
        "getGraphUnit(abc)"
      ],
      "execution_count": 57,
      "outputs": [
        {
          "output_type": "display_data",
          "data": {
            "image/png": "[encoded data removed]",
            "text/plain": [
              "<Figure size 936x288 with 1 Axes>"
            ]
          },
          "metadata": {
            "tags": []
          }
        }
      ]
    },
    {
      "cell_type": "code",
      "metadata": {
        "id": "UU42w7Qsh7pr",
        "colab_type": "code",
        "colab": {}
      },
      "source": [
        ""
      ],
      "execution_count": 0,
      "outputs": []
    },
    {
      "cell_type": "code",
      "metadata": {
        "id": "pXCNaItBaWN7",
        "colab_type": "code",
        "outputId": "f6ef10b1-9b71-4e21-839e-efa3c460bd52",
        "colab": {
          "base_uri": "https://localhost:8080/",
          "height": 235
        }
      },
      "source": [
        "list_art = ['3661', '3667', '3663', '3646', '3662', '3648', '3664', '3668', '3669',\n",
        "       '3665', '2689', '3745', '2685', '3741', '2684', '2612', '3644', '2836',\n",
        "       '2872', '2835', '3753', '2649', '2683', '2845', '2855', '2613', '2682',\n",
        "       '2686', '2856', '2687', '3647', '2618', '2842', '2623', '2831', '2632',\n",
        "       '2913', '2627', '2857', '2474', '2631', '3645', '2837', '2647', '2838',\n",
        "       '2697', '3749', '2665', '2681', '2834', '3653', '2821', '3657', '2113',\n",
        "       '1776', '3658']\n",
        "\n",
        "list_art2 = ['3661', '3667','3662', '3648', '3664', '3668', '3669',\n",
        "       '3665', '2689', '3745','2685', '3741', '2684', '2612', '3644', '2836',\n",
        "       '2872', '2835', '3753', '2649','2683', '2845', '2855', '2613']\n",
        "\n",
        "merged_stats_art = pd.concat([getBigChartDataUnit(int(l)) for l in list_art])\n",
        "merged_stats_art.sample(6)\n"
      ],
      "execution_count": 58,
      "outputs": [
        {
          "output_type": "execute_result",
          "data": {
            "text/html": [
              "<div>\n",
              "<style scoped>\n",
              "    .dataframe tbody tr th:only-of-type {\n",
              "        vertical-align: middle;\n",
              "    }\n",
              "\n",
              "    .dataframe tbody tr th {\n",
              "        vertical-align: top;\n",
              "    }\n",
              "\n",
              "    .dataframe thead th {\n",
              "        text-align: right;\n",
              "    }\n",
              "</style>\n",
              "<table border=\"1\" class=\"dataframe\">\n",
              "  <thead>\n",
              "    <tr style=\"text-align: right;\">\n",
              "      <th></th>\n",
              "      <th>months</th>\n",
              "      <th>comment</th>\n",
              "      <th>granted</th>\n",
              "      <th>pending</th>\n",
              "      <th>abandoned</th>\n",
              "      <th>art_unit</th>\n",
              "      <th>p_grant</th>\n",
              "      <th>p_pending</th>\n",
              "      <th>p_abandoned</th>\n",
              "    </tr>\n",
              "  </thead>\n",
              "  <tbody>\n",
              "    <tr>\n",
              "      <th>37</th>\n",
              "      <td>37</td>\n",
              "      <td>None</td>\n",
              "      <td>11146</td>\n",
              "      <td>325</td>\n",
              "      <td>2562</td>\n",
              "      <td>2837</td>\n",
              "      <td>0.79</td>\n",
              "      <td>0.02</td>\n",
              "      <td>0.18</td>\n",
              "    </tr>\n",
              "    <tr>\n",
              "      <th>7</th>\n",
              "      <td>7</td>\n",
              "      <td>None</td>\n",
              "      <td>1619</td>\n",
              "      <td>4209</td>\n",
              "      <td>294</td>\n",
              "      <td>2647</td>\n",
              "      <td>0.26</td>\n",
              "      <td>0.69</td>\n",
              "      <td>0.05</td>\n",
              "    </tr>\n",
              "    <tr>\n",
              "      <th>16</th>\n",
              "      <td>16</td>\n",
              "      <td>None</td>\n",
              "      <td>7901</td>\n",
              "      <td>3026</td>\n",
              "      <td>2493</td>\n",
              "      <td>3753</td>\n",
              "      <td>0.59</td>\n",
              "      <td>0.23</td>\n",
              "      <td>0.19</td>\n",
              "    </tr>\n",
              "    <tr>\n",
              "      <th>24</th>\n",
              "      <td>24</td>\n",
              "      <td>None</td>\n",
              "      <td>3849</td>\n",
              "      <td>478</td>\n",
              "      <td>556</td>\n",
              "      <td>3663</td>\n",
              "      <td>0.79</td>\n",
              "      <td>0.10</td>\n",
              "      <td>0.11</td>\n",
              "    </tr>\n",
              "    <tr>\n",
              "      <th>5</th>\n",
              "      <td>5</td>\n",
              "      <td>None</td>\n",
              "      <td>1065</td>\n",
              "      <td>5155</td>\n",
              "      <td>2</td>\n",
              "      <td>2647</td>\n",
              "      <td>0.17</td>\n",
              "      <td>0.83</td>\n",
              "      <td>0.00</td>\n",
              "    </tr>\n",
              "    <tr>\n",
              "      <th>17</th>\n",
              "      <td>17</td>\n",
              "      <td>None</td>\n",
              "      <td>1629</td>\n",
              "      <td>1008</td>\n",
              "      <td>432</td>\n",
              "      <td>2618</td>\n",
              "      <td>0.53</td>\n",
              "      <td>0.33</td>\n",
              "      <td>0.14</td>\n",
              "    </tr>\n",
              "  </tbody>\n",
              "</table>\n",
              "</div>"
            ],
            "text/plain": [
              "    months comment  granted  pending  ...  art_unit  p_grant  p_pending  p_abandoned\n",
              "37      37    None    11146      325  ...      2837     0.79       0.02         0.18\n",
              "7        7    None     1619     4209  ...      2647     0.26       0.69         0.05\n",
              "16      16    None     7901     3026  ...      3753     0.59       0.23         0.19\n",
              "24      24    None     3849      478  ...      3663     0.79       0.10         0.11\n",
              "5        5    None     1065     5155  ...      2647     0.17       0.83         0.00\n",
              "17      17    None     1629     1008  ...      2618     0.53       0.33         0.14\n",
              "\n",
              "[6 rows x 9 columns]"
            ]
          },
          "metadata": {
            "tags": []
          },
          "execution_count": 58
        }
      ]
    },
    {
      "cell_type": "code",
      "metadata": {
        "id": "zPpPT5XYc7tG",
        "colab_type": "code",
        "outputId": "83ea4b5f-ca47-4f1d-bf42-d06ecfd865fa",
        "colab": {
          "base_uri": "https://localhost:8080/",
          "height": 34
        }
      },
      "source": [
        "import datetime\n",
        "merged_examiners = pd.concat([scrapArtUnitExaminers(int(l)) for l in list_art])\n",
        "merged_examiners.sample(5)\n",
        "print(\"Time required\",(datetime.datetime.now() - now))"
      ],
      "execution_count": 59,
      "outputs": [
        {
          "output_type": "stream",
          "text": [
            "Time required 0:05:38.169591\n"
          ],
          "name": "stdout"
        }
      ]
    },
    {
      "cell_type": "code",
      "metadata": {
        "id": "74uPf7curpTv",
        "colab_type": "code",
        "colab": {}
      },
      "source": [
        "list_all = [1611, 1612, 1615, 1616, 1617, 1618, 1619, 1621, 1622, 1624, 1625, 1626, 1629, 1631, 1632, 1633, 1634, 1636, 1637, 1639, 1641, 1642, 1643, 1644, 1645, 1646, 1647, 1648, 1649, 1652, 1653, 1654, 1655, 1656, 1657, 1661, 1662, 1671, 1673, 1674, 1675, 1676, 1677, 1678, 1711, 1713, 1714, 1715, 1716, 1717, 1722, 1725, 1726, 1731, 1732, 1733, 1734, 1735, 1736, 1737, 1741, 1742, 1743, 1744, 1745, 1746, 1747, 1748, 1757, 1761, 1762, 1763, 1764, 1765, 1766, 1767, 1771, 1772, 1774, 1775, 1776, 1778, 1782, 1783, 1784, 1785, 1786, 1787, 1788, 1791, 1792, 1796, 1797, 1798, 1799, 2112, 2113, 2115, 2117, 2121, 2123, 2126, 2129, 2131, 2139, 2143, 2144, 2161, 2176, 2183, 2184, 2185, 2189, 2192, 2193, 2194, 2195, 2196, 2414, 2422, 2425, 2431, 2447, 2465, 2479, 2482, 2484, 2486, 2489, 2611, 2612, 2613, 2621, 2622, 2627, 2631, 2636, 2642, 2649, 2651, 2652, 2653, 2654, 2656, 2657, 2658, 2661, 2668, 2673, 2677, 2681, 2683, 2684, 2686, 2688, 2691, 2763, 2782, 2783, 2785, 2811, 2812, 2813, 2814, 2818, 2822, 2823, 2826, 2827, 2828, 2831, 2832, 2833, 2834, 2835, 2836, 2837, 2838, 2842, 2843, 2844, 2845, 2847, 2848, 2851, 2852, 2853, 2854, 2855, 2856, 2857, 2858, 2859, 2871, 2872, 2874, 2875, 2876, 2877, 2878, 2879, 2881, 2882, 2883, 2884, 2891, 2892, 2893, 2894, 2895, 2911, 2912, 2913, 2914, 2918, 3611, 3612, 3616, 3617, 3618, 3619, 3622, 3623, 3625, 3626, 3627, 3628, 3629, 3632, 3633, 3634, 3636, 3637, 3641, 3643, 3644, 3645, 3646, 3651, 3652, 3653, 3654, 3655, 3656, 3657, 3658, 3661, 3663, 3664, 3671, 3672, 3673, 3674, 3676, 3677, 3678, 3679, 3685, 3689, 3693, 3711, 3714, 3715, 3721, 3722, 3723, 3724, 3725, 3726, 3727, 3728, 3729, 3731, 3732, 3733, 3734, 3735, 3736, 3737, 3738, 3741, 3742, 3743, 3744, 3745, 3746, 3747, 3748, 3749, 3751, 3752, 3753, 3754, 3761, 3762, 3763, 3765, 3771, 3772, 3773, 3774, 3775, 3776, 3777, 3779, 3781, 3782]"
      ],
      "execution_count": 0,
      "outputs": []
    },
    {
      "cell_type": "code",
      "metadata": {
        "id": "qG1vKxEAmblz",
        "colab_type": "code",
        "outputId": "88206e21-9bda-4342-e5ec-77e4f57f34d8",
        "colab": {
          "base_uri": "https://localhost:8080/",
          "height": 34
        }
      },
      "source": [
        "import datetime\n",
        "now = datetime.datetime.now()\n",
        "l2 = [x for x in range(1500,4000)]\n",
        "m_exam =  pd.concat([scrapArtUnitExaminers(int(l)) for l in l2])\n",
        "m_exam.shape\n",
        "print(\"Time required\",(datetime.datetime.now() - now))\n",
        "\n",
        "export_csv = df.to_csv (r'C:\\Users\\Ron\\Desktop\\export_dataframe.csv', index = None, header=True) #Don't forget to add '.csv' at the end of the path"
      ],
      "execution_count": 61,
      "outputs": [
        {
          "output_type": "stream",
          "text": [
            "Time required 0:03:29.803605\n"
          ],
          "name": "stdout"
        }
      ]
    },
    {
      "cell_type": "code",
      "metadata": {
        "id": "9Rf6xsCCmdNo",
        "colab_type": "code",
        "colab": {}
      },
      "source": [
        "m_exam.shape\n",
        "m_exam['prefix_art'] = round(m_exam['art_unit']/100,0)"
      ],
      "execution_count": 0,
      "outputs": []
    },
    {
      "cell_type": "code",
      "metadata": {
        "id": "9GO4VL3ZrPDN",
        "colab_type": "code",
        "outputId": "8fee6476-08a1-4143-d65c-1d7610bf73bf",
        "colab": {
          "base_uri": "https://localhost:8080/",
          "height": 142
        }
      },
      "source": [
        "m_exam[m_exam['examiner'] == \"LUU CUONG V\"]"
      ],
      "execution_count": 63,
      "outputs": [
        {
          "output_type": "execute_result",
          "data": {
            "text/html": [
              "<div>\n",
              "<style scoped>\n",
              "    .dataframe tbody tr th:only-of-type {\n",
              "        vertical-align: middle;\n",
              "    }\n",
              "\n",
              "    .dataframe tbody tr th {\n",
              "        vertical-align: top;\n",
              "    }\n",
              "\n",
              "    .dataframe thead th {\n",
              "        text-align: right;\n",
              "    }\n",
              "</style>\n",
              "<table border=\"1\" class=\"dataframe\">\n",
              "  <thead>\n",
              "    <tr style=\"text-align: right;\">\n",
              "      <th></th>\n",
              "      <th>examiner</th>\n",
              "      <th>num_case</th>\n",
              "      <th>percent_grant</th>\n",
              "      <th>art_unit</th>\n",
              "      <th>prefix_art</th>\n",
              "    </tr>\n",
              "  </thead>\n",
              "  <tbody>\n",
              "    <tr>\n",
              "      <th>10</th>\n",
              "      <td>LUU CUONG V</td>\n",
              "      <td>132</td>\n",
              "      <td>64%</td>\n",
              "      <td>2128</td>\n",
              "      <td>21.0</td>\n",
              "    </tr>\n",
              "    <tr>\n",
              "      <th>6</th>\n",
              "      <td>LUU CUONG V</td>\n",
              "      <td>25</td>\n",
              "      <td>44%</td>\n",
              "      <td>2129</td>\n",
              "      <td>21.0</td>\n",
              "    </tr>\n",
              "    <tr>\n",
              "      <th>7</th>\n",
              "      <td>LUU CUONG V</td>\n",
              "      <td>142</td>\n",
              "      <td>84%</td>\n",
              "      <td>2192</td>\n",
              "      <td>22.0</td>\n",
              "    </tr>\n",
              "  </tbody>\n",
              "</table>\n",
              "</div>"
            ],
            "text/plain": [
              "       examiner  num_case percent_grant  art_unit  prefix_art\n",
              "10  LUU CUONG V       132           64%      2128        21.0\n",
              "6   LUU CUONG V        25           44%      2129        21.0\n",
              "7   LUU CUONG V       142           84%      2192        22.0"
            ]
          },
          "metadata": {
            "tags": []
          },
          "execution_count": 63
        }
      ]
    },
    {
      "cell_type": "code",
      "metadata": {
        "id": "AppGQyGlrkYa",
        "colab_type": "code",
        "colab": {}
      },
      "source": [
        "export_csv = m_exam.to_csv(r'/datalab/file.csv', index = None, header=True) #Don't forget to add '.csv' at the end of the path"
      ],
      "execution_count": 0,
      "outputs": []
    },
    {
      "cell_type": "code",
      "metadata": {
        "id": "k_wC5GkAJ5_P",
        "colab_type": "code",
        "colab": {
          "base_uri": "https://localhost:8080/",
          "height": 34
        },
        "outputId": "4e5f7f03-bb10-4d34-d013-93745b062853"
      },
      "source": [
        "m_exam.shape"
      ],
      "execution_count": 68,
      "outputs": [
        {
          "output_type": "execute_result",
          "data": {
            "text/plain": [
              "(9072, 5)"
            ]
          },
          "metadata": {
            "tags": []
          },
          "execution_count": 68
        }
      ]
    },
    {
      "cell_type": "code",
      "metadata": {
        "id": "Dzwd3kBVXBhq",
        "colab_type": "code",
        "colab": {}
      },
      "source": [
        "m_exam['percent_grant_value'] = m_exam['percent_grant'].str.replace(\"%\",\"\").astype(int)"
      ],
      "execution_count": 0,
      "outputs": []
    },
    {
      "cell_type": "markdown",
      "metadata": {
        "id": "oeQ3W6fqXMjR",
        "colab_type": "text"
      },
      "source": [
        "# **Best Art Unit**\n",
        "Let's identify the Art Unit with the best percent grant as a average of all the examiner working in this art unit\n"
      ]
    },
    {
      "cell_type": "code",
      "metadata": {
        "id": "X-ZKsavtXo71",
        "colab_type": "code",
        "colab": {}
      },
      "source": [
        "all_art_unit = m_exam['art_unit'].unique()\n",
        "l_art_mean = []\n",
        "for unit in all_art_unit:\n",
        "  examiners = m_exam[m_exam.art_unit == unit]\n",
        "  l_art_mean.append([unit,round(examiners['percent_grant_value'].mean(),1),examiners['percent_grant_value'].shape[0]])\n",
        "  \n",
        "df_top_art_unit = pd.DataFrame(l_art_mean,columns=['art_unit','mean_grant_exam','num_exams'])\n",
        "df_top_art_unit['prefix_art'] = round(df_top_art_unit['art_unit']/100,0)"
      ],
      "execution_count": 0,
      "outputs": []
    },
    {
      "cell_type": "code",
      "metadata": {
        "id": "kQQgxnnQX0P0",
        "colab_type": "code",
        "colab": {
          "base_uri": "https://localhost:8080/",
          "height": 204
        },
        "outputId": "5df4c656-9f9e-4675-9c27-fce11d843153"
      },
      "source": [
        "df_top_art_unit.sample(5)"
      ],
      "execution_count": 103,
      "outputs": [
        {
          "output_type": "execute_result",
          "data": {
            "text/html": [
              "<div>\n",
              "<style scoped>\n",
              "    .dataframe tbody tr th:only-of-type {\n",
              "        vertical-align: middle;\n",
              "    }\n",
              "\n",
              "    .dataframe tbody tr th {\n",
              "        vertical-align: top;\n",
              "    }\n",
              "\n",
              "    .dataframe thead th {\n",
              "        text-align: right;\n",
              "    }\n",
              "</style>\n",
              "<table border=\"1\" class=\"dataframe\">\n",
              "  <thead>\n",
              "    <tr style=\"text-align: right;\">\n",
              "      <th></th>\n",
              "      <th>art_unit</th>\n",
              "      <th>mean_grant_exam</th>\n",
              "      <th>num_exams</th>\n",
              "      <th>prefix_art</th>\n",
              "    </tr>\n",
              "  </thead>\n",
              "  <tbody>\n",
              "    <tr>\n",
              "      <th>451</th>\n",
              "      <td>3677</td>\n",
              "      <td>61.4</td>\n",
              "      <td>17</td>\n",
              "      <td>37.0</td>\n",
              "    </tr>\n",
              "    <tr>\n",
              "      <th>251</th>\n",
              "      <td>2612</td>\n",
              "      <td>58.4</td>\n",
              "      <td>17</td>\n",
              "      <td>26.0</td>\n",
              "    </tr>\n",
              "    <tr>\n",
              "      <th>43</th>\n",
              "      <td>1662</td>\n",
              "      <td>62.2</td>\n",
              "      <td>13</td>\n",
              "      <td>17.0</td>\n",
              "    </tr>\n",
              "    <tr>\n",
              "      <th>437</th>\n",
              "      <td>3661</td>\n",
              "      <td>73.8</td>\n",
              "      <td>19</td>\n",
              "      <td>37.0</td>\n",
              "    </tr>\n",
              "    <tr>\n",
              "      <th>452</th>\n",
              "      <td>3678</td>\n",
              "      <td>53.3</td>\n",
              "      <td>17</td>\n",
              "      <td>37.0</td>\n",
              "    </tr>\n",
              "  </tbody>\n",
              "</table>\n",
              "</div>"
            ],
            "text/plain": [
              "     art_unit  mean_grant_exam  num_exams  prefix_art\n",
              "451      3677             61.4         17        37.0\n",
              "251      2612             58.4         17        26.0\n",
              "43       1662             62.2         13        17.0\n",
              "437      3661             73.8         19        37.0\n",
              "452      3678             53.3         17        37.0"
            ]
          },
          "metadata": {
            "tags": []
          },
          "execution_count": 103
        }
      ]
    },
    {
      "cell_type": "code",
      "metadata": {
        "id": "rnCAGiEpbfQb",
        "colab_type": "code",
        "colab": {
          "base_uri": "https://localhost:8080/",
          "height": 312
        },
        "outputId": "bc8b63bc-56fd-497a-d4da-71c95f935a00"
      },
      "source": [
        "colors = {16 :\"AA\", 17 : \"vb\", 18 : \"dd\", 21 : \"zqd\", 22 : \"dzqd\", 24:\"qdqd\", 25:\"dqdq\", 26:'dzqd', 27:\"dqdq\", 28:\"dzdzqd\", 29:\"dzdq\", 36:\"dzdq\", 37:\"dzqdqzd\",\n",
        "       38 : \" dzqdzq\", 40 : \" dzadad\"}\n",
        "ax = plt.scatter(df_top_art_unit.mean_grant_exam, df_top_art_unit.art_unit, s=df_top_art_unit.num_exams,c=df_top_art_unit.prefix_art, label=colors)\n",
        "plt.ylabel('Art Unit')\n",
        "plt.xlabel('%')\n",
        "plt.title('Art Unit Granting Rate')"
      ],
      "execution_count": 122,
      "outputs": [
        {
          "output_type": "execute_result",
          "data": {
            "text/plain": [
              "Text(0.5, 1.0, 'Art Unit Granting Rate')"
            ]
          },
          "metadata": {
            "tags": []
          },
          "execution_count": 122
        },
        {
          "output_type": "display_data",
          "data": {
            "image/png": "[encoded data removed]",
            "text/plain": [
              "<Figure size 432x288 with 1 Axes>"
            ]
          },
          "metadata": {
            "tags": []
          }
        }
      ]
    },
    {
      "cell_type": "code",
      "metadata": {
        "id": "2FA0aI5Pbwgo",
        "colab_type": "code",
        "colab": {
          "base_uri": "https://localhost:8080/",
          "height": 589
        },
        "outputId": "e80b7e74-adaf-4a24-cd85-d140e55a6ba0"
      },
      "source": [
        "fig,ax = plt.subplots(figsize=(12,8))\n",
        "pal = sns.palplot(sns.color_palette(\"cubehelix\", len(df_top_art_unit['prefix_art'].unique())))\n",
        "\n",
        "for c in df_top_art_unit['prefix_art'].unique():\n",
        "  ax.hist(df_top_art_unit[df_top_art_unit['prefix_art'] == c]['mean_grant_exam'], bins=100,label=str(c))\n",
        "ax.set(xlim=(0, 100))\n",
        "ax.axvline(x=50,ls='--', label='50%',c='black')\n",
        "ax.axvline(x=75,ls='--', label='75%',c='black')\n",
        "ax.legend(bbox_to_anchor=(1.1, 1.05),fancybox=True, shadow=True,ncol=2)"
      ],
      "execution_count": 153,
      "outputs": [
        {
          "output_type": "execute_result",
          "data": {
            "text/plain": [
              "<matplotlib.legend.Legend at 0x7fc26d187b70>"
            ]
          },
          "metadata": {
            "tags": []
          },
          "execution_count": 153
        },
        {
          "output_type": "display_data",
          "data": {
            "image/png": "[encoded data removed]",
            "text/plain": [
              "<Figure size 864x576 with 1 Axes>"
            ]
          },
          "metadata": {
            "tags": []
          }
        },
        {
          "output_type": "display_data",
          "data": {
            "image/png": "[encoded data removed]",
            "text/plain": [
              "<Figure size 1080x72 with 1 Axes>"
            ]
          },
          "metadata": {
            "tags": []
          }
        }
      ]
    },
    {
      "cell_type": "code",
      "metadata": {
        "id": "MHfUZYJOi_QK",
        "colab_type": "code",
        "colab": {
          "base_uri": "https://localhost:8080/",
          "height": 297
        },
        "outputId": "42215c42-ac91-4b89-f97a-2049af824c75"
      },
      "source": [
        "ax = sns.distplot(df_top_art_unit['mean_grant_exam'],bins=100,color=pal)\n",
        "ax.axvline(x=50,ls='--', label='50%',c='black')\n",
        "ax.axvline(x=75,ls='--', label='75%',c='r')\n",
        "ax.axvline(x=df_top_art_unit['mean_grant_exam'].mean(), label='Average %',c='blue')\n",
        "\n",
        "ax.legend()"
      ],
      "execution_count": 162,
      "outputs": [
        {
          "output_type": "execute_result",
          "data": {
            "text/plain": [
              "<matplotlib.legend.Legend at 0x7fc26c4207b8>"
            ]
          },
          "metadata": {
            "tags": []
          },
          "execution_count": 162
        },
        {
          "output_type": "display_data",
          "data": {
            "image/png": "[encoded data removed]",
            "text/plain": [
              "<Figure size 432x288 with 1 Axes>"
            ]
          },
          "metadata": {
            "tags": []
          }
        }
      ]
    },
    {
      "cell_type": "code",
      "metadata": {
        "id": "MJ3qVkb6gSzt",
        "colab_type": "code",
        "colab": {}
      },
      "source": [
        ""
      ],
      "execution_count": 0,
      "outputs": []
    }
  ]
}